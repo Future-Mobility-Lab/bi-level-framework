{
 "cells": [
  {
   "cell_type": "code",
   "execution_count": 1,
   "metadata": {},
   "outputs": [
    {
     "name": "stdout",
     "output_type": "stream",
     "text": [
      "\n",
      "from copy import copy\n",
      "from hyperopt import fmin, tpe, hp, STATUS_OK, Trials\n",
      "from hyperopt.pyll import scope\n",
      "from lightgbm import LGBMClassifier as LGB\n",
      "from scipy import stats\n",
      "from sklearn import metrics,neighbors,preprocessing\n",
      "from sklearn import tree\n",
      "from sklearn.ensemble import GradientBoostingClassifier, GradientBoostingRegressor\n",
      "from sklearn.ensemble import IsolationForest\n",
      "from sklearn.ensemble import RandomForestClassifier\n",
      "from sklearn.ensemble import RandomForestRegressor\n",
      "from sklearn.feature_selection import SelectPercentile, f_classif\n",
      "from sklearn.linear_model import LinearRegression, Ridge\n",
      "from sklearn.linear_model import LogisticRegression\n",
      "from sklearn.linear_model import LogisticRegression as LR\n",
      "from sklearn.linear_model import SGDClassifier\n",
      "from sklearn.metrics import accuracy_score\n",
      "from sklearn.metrics import cohen_kappa_score\n",
      "from sklearn.metrics import f1_score\n",
      "from sklearn.metrics import mean_absolute_error\n",
      "from sklearn.metrics import mean_squared_error\n",
      "from sklearn.metrics import mean_squared_error as mse\n",
      "from sklearn.metrics import precision_score\n",
      "from sklearn.metrics import r2_score,mean_squared_error\n",
      "from sklearn.metrics import recall_score\n",
      "from sklearn.metrics import recall_score, accuracy_score, precision_score,f1_score, make_scorer\n",
      "from sklearn.metrics import recall_score, accuracy_score, precision_score,f1_score, make_scorer \n",
      "from sklearn.model_selection import StratifiedKFold\n",
      "from sklearn.model_selection import cross_val_score as cv\n",
      "from sklearn.model_selection import cross_val_score, cross_validate, cross_val_predict, LeaveOneOut, KFold, StratifiedKFold\n",
      "from sklearn.model_selection import train_test_split, KFold, LeaveOneOut,GridSearchCV,RandomizedSearchCV\n",
      "from sklearn.neighbors import KNeighborsClassifier\n",
      "from sklearn.neighbors import KNeighborsClassifier as KNN\n",
      "from sklearn.pipeline import make_pipeline, make_union\n",
      "from sklearn.preprocessing import FunctionTransformer\n",
      "from sklearn.svm import SVC\n",
      "from time import time\n",
      "from xgboost import XGBClassifier, XGBRegressor, plot_tree, plot_importance\n",
      "from xgboost import XGBClassifier, plot_tree, plot_importance\n",
      "import copy\n",
      "import csv,sys, os, errno,os.path,io\n",
      "import hyperopt\n",
      "import matplotlib\n",
      "import matplotlib.pyplot as plt\n",
      "import multiprocessing\n",
      "import numpy as np\n",
      "import pandas as pd\n",
      "import scipy\n",
      "import seaborn as sns\n",
      "import tqdm\n",
      "import xgboost as xgb\n"
     ]
    }
   ],
   "source": [
    "from MLimports2 import *\n",
    "exec(MLimports())"
   ]
  },
  {
   "cell_type": "code",
   "execution_count": 2,
   "metadata": {},
   "outputs": [],
   "source": [
    "def mape(y_true, y_pred): \n",
    "    y_true, y_pred = np.array(y_true), np.array(y_pred)\n",
    "    y_true = y_true[np.nonzero(y_true)] # avoid incidents with zero duration\n",
    "    y_pred = y_pred[np.nonzero(y_true)]\n",
    "    return abs(np.mean(np.abs((y_true - y_pred) / y_true)) * 100)\n",
    "\n",
    "def mse(yt,yp):\n",
    "    return mean_squared_error(yt,yp)\n",
    "\n",
    "def rmse(yt,yp):\n",
    "    return np.sqrt(mean_squared_error(yt,yp))"
   ]
  },
  {
   "cell_type": "code",
   "execution_count": 16,
   "metadata": {},
   "outputs": [],
   "source": [
    "METRIC = []\n",
    "\n",
    "METRIC.append({'name':'RMSE','instance':rmse})\n",
    "METRIC.append({'name':'MAPE','instance':mape})"
   ]
  },
  {
   "cell_type": "markdown",
   "metadata": {},
   "source": [
    "# Eval"
   ]
  },
  {
   "cell_type": "code",
   "execution_count": 17,
   "metadata": {},
   "outputs": [],
   "source": [
    "from scipy.stats import wasserstein_distance as WD\n",
    "from sklearn.preprocessing import QuantileTransformer as QT\n",
    "\n",
    "def EVAL2(REG,MET,setup='AlltoAll',TH=40,log=False,dataset='sf',qtran=False):\n",
    "    global RESULTS,X,Y\n",
    "    from sklearn.model_selection import KFold\n",
    "    import multiprocessing\n",
    "    \n",
    "    X, Y = getBFS(part=[0,-1],dataset=dataset)\n",
    "\n",
    "    X_A = X[Y<TH]\n",
    "    Y_A = Y[Y<TH]\n",
    "    \n",
    "    X_B = X[Y>=TH]\n",
    "    Y_B = Y[Y>=TH]\n",
    "    \n",
    "    search = RandomizedSearchCV(estimator = REG['instance'](),\n",
    "                       param_distributions=REG['param'],\n",
    "                       n_iter=250,\n",
    "                       scoring=make_scorer(MET['instance'], greater_is_better=False),\n",
    "                       n_jobs=multiprocessing.cpu_count(), ## MAR: used to be 1\n",
    "                       cv = 10,\n",
    "                       verbose = 1\n",
    "                           )\n",
    "    qt=None\n",
    "    qY=None\n",
    "    \n",
    "    if log:\n",
    "        search.fit(X,np.log1p(Y))\n",
    "    elif qtran:\n",
    "        qt = QT()\n",
    "        search.fit(X, qt.fit_transform(Y.reshape(-1,1)).ravel() )\n",
    "    else:\n",
    "        search.fit(X, Y)\n",
    "    \n",
    "\n",
    "    FOLDS=10\n",
    "    ATTEMPTS=1\n",
    "    \n",
    "    SCOREMSE=[]\n",
    "    SCORER2=[]\n",
    "    SCORER2ABS=[]\n",
    "    SCOREMAPE=[]\n",
    "    \n",
    "    import tqdm\n",
    "    \n",
    "    \n",
    "    if setup=='AlltoA':\n",
    "        for A in range(ATTEMPTS):\n",
    "            \n",
    "            kf = KFold(n_splits=FOLDS,shuffle=True)\n",
    "\n",
    "            if setup=='AlltoA':\n",
    "                print('split AlltoA')\n",
    "                kf.get_n_splits(X_A)\n",
    "            \n",
    "            for train_index, test_index in tqdm.tqdm(kf.split(X_A)):\n",
    "                \n",
    "                Xtr, Xte = pd.concat([X_B,X_A.iloc[train_index]], axis=0), X_A.iloc[test_index]\n",
    "                Ytr, Yte = np.concatenate([np.array(Y_B), np.array(Y_A)[train_index]],axis=0), Y_A[test_index]\n",
    "                reg = REG['instance'](**search.best_params_)\n",
    "                if log:\n",
    "                    reg.fit(Xtr,np.log1p(Ytr))\n",
    "                elif qtran:\n",
    "                    qt = QT()\n",
    "                    reg.fit(Xtr, qt.fit_transform(Ytr.reshape(-1,1)).ravel())\n",
    "                else:\n",
    "                    reg.fit(Xtr, Ytr)\n",
    "                    \n",
    "                pred = reg.predict(Xte)\n",
    "                \n",
    "                if log:\n",
    "                    pred = np.nan_to_num(np.expm1(pred),0) ###\n",
    "                \n",
    "                if qtran:\n",
    "                    pred = qt.inverse_transform(pred.reshape(-1,1)).ravel()\n",
    "                \n",
    "                PRED = np.array(pred).ravel()\n",
    "                SCOREMSE.append(mse(Yte, PRED))\n",
    "                SCOREMAPE.append(mape(Yte, PRED))\n",
    "                \n",
    "    if setup=='AlltoB':\n",
    "        for A in range(ATTEMPTS):\n",
    "            \n",
    "            kf = KFold(n_splits=FOLDS,shuffle=True)\n",
    "\n",
    "            if setup=='AlltoB':\n",
    "                print('split AlltoB')\n",
    "                kf.get_n_splits(X_B)\n",
    "\n",
    "                \n",
    "            for train_index, test_index in tqdm.tqdm(kf.split(X_B)):\n",
    "                \n",
    "                Xtr, Xte = pd.concat([X_A,X_B.iloc[train_index]], axis=0), X_B.iloc[test_index]\n",
    "                Ytr, Yte = np.concatenate([np.array(Y_A), np.array(Y_B)[train_index]],axis=0), Y_B[test_index]\n",
    "                reg = REG['instance'](**search.best_params_)\n",
    "                if log:\n",
    "                    reg.fit(Xtr,np.log1p(Ytr))\n",
    "                elif qtran:\n",
    "                    qt = QT()\n",
    "                    reg.fit(Xtr, qt.fit_transform(Ytr.reshape(-1,1)).ravel())\n",
    "                else:\n",
    "                    reg.fit(Xtr, Ytr)\n",
    "                    \n",
    "                pred = reg.predict(Xte)\n",
    "                \n",
    "                if log:\n",
    "                    pred = np.nan_to_num(np.expm1(pred),0) ###\n",
    "                \n",
    "                if qtran:\n",
    "                    pred = qt.inverse_transform(pred.reshape(-1,1)).ravel()\n",
    "                PRED = np.array(pred).ravel()\n",
    "                SCOREMSE.append(mse(Yte, PRED))\n",
    "                SCOREMAPE.append(mape(Yte, PRED))\n",
    "                \n",
    "    if setup=='AtoA':\n",
    "        for A in range(ATTEMPTS):\n",
    "            \n",
    "            kf = KFold(n_splits=FOLDS,shuffle=True)\n",
    "\n",
    "            if setup=='AtoA':\n",
    "                kf.get_n_splits(X_A)\n",
    "                \n",
    "            for train_index, test_index in tqdm.tqdm(kf.split(X_A)):\n",
    "                Xtr, Xte = X_A.iloc[train_index], X_A.iloc[test_index]\n",
    "                Ytr, Yte = Y_A[train_index], Y_A[test_index]\n",
    "                reg = REG['instance'](**search.best_params_)\n",
    "                if log:\n",
    "                    reg.fit(Xtr,np.log1p(Ytr))\n",
    "                elif qtran:\n",
    "                    qt = QT()\n",
    "                    reg.fit(Xtr, qt.fit_transform(Ytr.reshape(-1,1)).ravel())\n",
    "                else:\n",
    "                    reg.fit(Xtr, Ytr)\n",
    "                    \n",
    "                pred = reg.predict(Xte)\n",
    "                \n",
    "                if log:\n",
    "                    pred = np.nan_to_num(np.expm1(pred),0) ###\n",
    "                \n",
    "                if qtran:\n",
    "                    pred = qt.inverse_transform(pred.reshape(-1,1)).ravel()\n",
    "                PRED = np.array(pred).ravel()\n",
    "                SCOREMSE.append(mse(Yte, PRED))\n",
    "                SCOREMAPE.append(mape(Yte, PRED))\n",
    "                \n",
    "                \n",
    "    if setup=='AtoB':\n",
    "        for A in range(ATTEMPTS):\n",
    "            \n",
    "            kf = KFold(n_splits=FOLDS,shuffle=True)\n",
    "\n",
    "            if setup=='AtoB':\n",
    "                kf.get_n_splits(X_A)\n",
    "            \n",
    "            for train_index, test_index in tqdm.tqdm(kf.split(X_A)):\n",
    "                Xtr, Xte = X_A.iloc[train_index], X_B\n",
    "                Ytr, Yte = Y_A[train_index], Y_B\n",
    "                reg = REG['instance'](**search.best_params_)\n",
    "                if log:\n",
    "                    reg.fit(Xtr,np.log1p(Ytr))\n",
    "                elif qtran:\n",
    "                    qt = QT()\n",
    "                    reg.fit(Xtr, qt.fit_transform(Ytr.reshape(-1,1)).ravel())\n",
    "                else:\n",
    "                    reg.fit(Xtr, Ytr)\n",
    "                    \n",
    "                pred = reg.predict(Xte)\n",
    "                \n",
    "                if log:\n",
    "                    pred = np.nan_to_num(np.expm1(pred),0) ###\n",
    "                \n",
    "                if qtran:\n",
    "                    pred = qt.inverse_transform(pred.reshape(-1,1)).ravel()\n",
    "                PRED = np.array(pred).ravel()\n",
    "                SCOREMSE.append(mse(Yte, PRED))\n",
    "                SCOREMAPE.append(mape(Yte, PRED))\n",
    "                \n",
    "    if setup=='BtoA':\n",
    "        print('folding BtoA')\n",
    "        for A in range(ATTEMPTS):\n",
    "            \n",
    "            \n",
    "            kf = KFold(n_splits=FOLDS,shuffle=True)\n",
    "\n",
    "            if setup=='BtoA':\n",
    "                print('split BtoA')\n",
    "                kf.get_n_splits(X_B)\n",
    "                \n",
    "                \n",
    "            for train_index, test_index in tqdm.tqdm(kf.split(X_B)):\n",
    "                Xtr, Xte = X_B.iloc[train_index], X_A\n",
    "                Ytr, Yte = Y_B[train_index], Y_A\n",
    "                reg = REG['instance'](**search.best_params_)\n",
    "                if log:\n",
    "                    reg.fit(Xtr,np.log1p(Ytr))\n",
    "                elif qtran:\n",
    "                    qt = QT()\n",
    "                    reg.fit(Xtr, qt.fit_transform(Ytr.reshape(-1,1)).ravel())\n",
    "                else:\n",
    "                    reg.fit(Xtr, Ytr)\n",
    "                    \n",
    "                pred = reg.predict(Xte)\n",
    "                \n",
    "                if log:\n",
    "                    pred = np.nan_to_num(np.expm1(pred),0) ###\n",
    "                \n",
    "                if qtran:\n",
    "                    pred = qt.inverse_transform(pred.reshape(-1,1)).ravel()\n",
    "                PRED = np.array(pred).ravel()\n",
    "                SCOREMSE.append(mse(Yte, PRED))\n",
    "                SCOREMAPE.append(mape(Yte, PRED))\n",
    "    \n",
    "    if setup=='BtoB':\n",
    "        print('folding BtoB')\n",
    "        for A in range(ATTEMPTS):\n",
    "            \n",
    "            \n",
    "            kf = KFold(n_splits=FOLDS,shuffle=True)\n",
    "    \n",
    "            if setup=='BtoB':\n",
    "                print('split BtoB')\n",
    "                kf.get_n_splits(X_B)\n",
    "                \n",
    "            for train_index, test_index in tqdm.tqdm(kf.split(X_B)):\n",
    "                Xtr, Xte = X_B.iloc[train_index], X_B.iloc[test_index]\n",
    "                Ytr, Yte = Y_B[train_index], Y_B[test_index]\n",
    "                reg = REG['instance'](**search.best_params_)\n",
    "                if log:\n",
    "                    reg.fit(Xtr,np.log1p(Ytr))\n",
    "                elif qtran:\n",
    "                    qt = QT()\n",
    "                    reg.fit(Xtr, qt.fit_transform(Ytr.reshape(-1,1)).ravel())\n",
    "                else:\n",
    "                    reg.fit(Xtr, Ytr)\n",
    "                    \n",
    "                pred = reg.predict(Xte)\n",
    "                \n",
    "                if log:\n",
    "                    pred = np.nan_to_num(np.expm1(pred),0) ###\n",
    "                \n",
    "                if qtran:\n",
    "                    pred = qt.inverse_transform(pred.reshape(-1,1)).ravel()\n",
    "                PRED = np.array(pred).ravel()\n",
    "                SCOREMSE.append(mse(Yte, PRED))\n",
    "                SCOREMAPE.append(mape(Yte, PRED))\n",
    "\n",
    "    \n",
    "    if setup=='AlltoAll':\n",
    "        for A in range(ATTEMPTS):\n",
    "            \n",
    "            kf = KFold(n_splits=FOLDS,shuffle=True)\n",
    "    \n",
    "            if setup=='AlltoAll':\n",
    "                kf.get_n_splits(X)\n",
    "\n",
    "            for train_index, test_index in tqdm.tqdm(kf.split(X)):\n",
    "                Xtr, Xte = X.iloc[train_index], X.iloc[test_index]\n",
    "                Ytr, Yte = Y[train_index], Y[test_index]\n",
    "                \n",
    "#                 Ytr=np.log1p(Ytr) ###\n",
    "                reg = REG['instance'](**search.best_params_)\n",
    "    \n",
    "                if log:\n",
    "                    reg.fit(Xtr,np.log1p(Ytr))\n",
    "                elif qtran:\n",
    "                    qt = QT()\n",
    "                    reg.fit(Xtr, qt.fit_transform(Ytr.reshape(-1,1)).ravel())\n",
    "                else:\n",
    "                    reg.fit(Xtr, Ytr)\n",
    "                    \n",
    "                pred = reg.predict(Xte)\n",
    "                \n",
    "                if log:\n",
    "                    pred = np.nan_to_num(np.expm1(pred),0) ###\n",
    "                \n",
    "                if qtran:\n",
    "                    pred = qt.inverse_transform(pred.reshape(-1,1)).ravel()\n",
    "                PRED = np.array(pred).ravel()\n",
    "                SCOREMSE.append(mse(Yte, PRED))\n",
    "                SCOREMAPE.append(mape(Yte, PRED))\n",
    "\n",
    "    \n",
    "    for zz in range(len(SCOREMAPE)):\n",
    "        RESULTS.append({'Optimizer': REG['name'],\n",
    "          'Training': MET['name'],\n",
    "          'mape': SCOREMAPE[zz],\n",
    "          'mse': SCOREMSE[zz],'folding':'KF'})\n",
    "\n"
   ]
  },
  {
   "cell_type": "code",
   "execution_count": 18,
   "metadata": {},
   "outputs": [],
   "source": [
    "from sklearn.svm import SVR\n",
    "import lightgbm as lgb\n",
    "from sklearn.neighbors import KNeighborsRegressor\n",
    "OPTIMIZER = []\n",
    "\n",
    "from sklearn import linear_model                \n",
    "\n",
    "OPTIMIZER.append({'name':'XGB','instance':XGBRegressor,'param':{\n",
    "            'learning_rate' : np.linspace(0.0001,0.9999,10000), \n",
    "            'n_estimators' : range(20,200,1),'objective':['reg:squarederror','reg:gamma', 'reg:tweedie'],\n",
    "            'max_depth':range(2,15,1), ##MAR: start at 3 \n",
    "            'subsample':np.linspace(0.3, 0.9 ,10000),'colsample_bytree': np.linspace(0.1,0.9,10000),\n",
    "            'min_child_weight':np.arange(2,15),\n",
    "#             'gamma':np.arange(0.01,5),\n",
    "#             'reg_alpha':np.arange(0,5),'reg_lambda':np.arange(0,5)\n",
    "        }})\n",
    "\n",
    "OPTIMIZER.append({'name':'LGBM','instance':lgb.LGBMRegressor,'param':{\n",
    "            'feature_fraction':np.linspace(0.5,1,100),'bagging_fraction':np.linspace(0.5,1,100),\n",
    "            'learning_rate' : np.linspace(0.00001,1,10000), 'lambda_l1':np.linspace(0,5,1000),'lambda_l2':np.linspace(0,5,1000),\n",
    "            'max_depth' : np.arange(2,15), 'metric':['MAE','RMSE'],'objective':['huber', 'gamma', 'fair', 'tweedie'],\n",
    "        }})\n",
    "\n",
    "OPTIMIZER.append({'name':'KNN','instance':KNeighborsRegressor,'param':{\n",
    "            'n_neighbors' : range(2,100), \n",
    "            'weights' : ['uniform','distance'],\n",
    "            'p':[1,2], 'leaf_size': np.arange(2,60)\n",
    "        }})\n",
    "\n",
    "# OPTIMIZER.append({'name':'CB','instance':CatBoostRegressor,'param':{\n",
    "#             'learning_rate' : np.linspace(0.0001,1,10000),'n_estimators':np.arange(20,200),\n",
    "#             'depth' : np.arange(2,9), 'verbose': [0], 'l2_leaf_reg': np.linspace(0,5,1000), 'eval_metric':['MAE', 'RMSE', 'Poisson'],\n",
    "# #             'p':[1,2], 'leaf_size': np.arange(2,60)\n",
    "#         }})\n",
    "\n",
    "# OPTIMIZER.append({'name':'NGB','instance': NGBRegressor, 'param':{\n",
    "#     'learning_rate' : np.linspace(0.0001,1,10000),\n",
    "# #     'minibatch_frac' : np.linspace(0.001,1,1000), \n",
    "#     'n_estimators' : range(20,250,1),\n",
    "# #     'max_depth':range(2,15,1), ##MAR: start at 3 \n",
    "# #     'subsample':np.linspace(0.25, 1.0 ,10000), 'min_samples_split':np.linspace(0.001,0.999,1000)\n",
    "# }})\n",
    "\n",
    "OPTIMIZER.append({'name':'GBDT','instance': GradientBoostingRegressor, 'param':{\n",
    "    'learning_rate' : np.linspace(0.00001,1,10000), \n",
    "    'n_estimators' : range(20,200,1),\n",
    "    'max_depth':range(2,15,1), ##MAR: start at 3 \n",
    "    'subsample':np.linspace(0.25, 1.0 ,10000), 'min_samples_split':np.linspace(0.001,0.999,1000)\n",
    "}})\n",
    "\n",
    "OPTIMIZER.append({'name':'LR','instance': Ridge, 'param':{\n",
    "    'alpha':np.linspace(0,10,10000), 'normalize': [True,False], 'fit_intercept':[True,False]\n",
    "}})\n",
    "\n",
    "OPTIMIZER.append({'name':'BR','instance':linear_model.BayesianRidge,'param':{\n",
    "            'alpha_1':np.linspace(1e-6,1,10000),\n",
    "            'alpha_2':np.linspace(1e-6,1,10000),\n",
    "            'lambda_1':np.linspace(1e-6,1,10000),\n",
    "            'lambda_2':np.linspace(1e-6,1,10000),\n",
    "        }})               \n",
    "\n",
    "OPTIMIZER.append({'name':'RF','instance': RandomForestRegressor, 'param':{\n",
    "    'n_estimators' : range(20,200,1),\n",
    "    'max_depth':range(2,15,1), ##MAR: start at 3 \n",
    "}})"
   ]
  },
  {
   "cell_type": "code",
   "execution_count": 19,
   "metadata": {},
   "outputs": [
    {
     "name": "stderr",
     "output_type": "stream",
     "text": [
      "\r",
      "  0%|          | 0/7 [00:00<?, ?it/s]"
     ]
    },
    {
     "name": "stdout",
     "output_type": "stream",
     "text": [
      "XGB\n",
      "RMSE\n",
      "lpo\n",
      "Fitting 10 folds for each of 250 candidates, totalling 2500 fits\n"
     ]
    },
    {
     "name": "stderr",
     "output_type": "stream",
     "text": [
      "[Parallel(n_jobs=56)]: Using backend LokyBackend with 56 concurrent workers.\n",
      "[Parallel(n_jobs=56)]: Done  88 tasks      | elapsed:   12.9s\n",
      "[Parallel(n_jobs=56)]: Done 338 tasks      | elapsed:   13.6s\n",
      "[Parallel(n_jobs=56)]: Done 688 tasks      | elapsed:   14.9s\n",
      "[Parallel(n_jobs=56)]: Done 1138 tasks      | elapsed:   16.3s\n",
      "[Parallel(n_jobs=56)]: Done 1688 tasks      | elapsed:   17.9s\n",
      "[Parallel(n_jobs=56)]: Done 2338 tasks      | elapsed:   19.9s\n",
      "[Parallel(n_jobs=56)]: Done 2500 out of 2500 | elapsed:   20.4s finished\n",
      "/home/agrigore/anaconda3/lib/python3.7/site-packages/sklearn/model_selection/_search.py:814: DeprecationWarning: The default of the `iid` parameter will change from True to False in version 0.22 and will be removed in 0.24. This will change numeric results when test-set sizes are unequal.\n",
      "  DeprecationWarning)\n",
      "\n",
      "0it [00:00, ?it/s]\u001b[A\n",
      "2it [00:00, 16.24it/s]\u001b[A\n",
      "5it [00:00, 17.75it/s]\u001b[A\n",
      "7it [00:00, 14.57it/s]\u001b[A\n",
      "10it [00:00, 13.51it/s][A\n",
      "[Parallel(n_jobs=56)]: Using backend LokyBackend with 56 concurrent workers.\n"
     ]
    },
    {
     "name": "stdout",
     "output_type": "stream",
     "text": [
      "kfold\n",
      "MAPE\n",
      "lpo\n",
      "Fitting 10 folds for each of 250 candidates, totalling 2500 fits\n"
     ]
    },
    {
     "name": "stderr",
     "output_type": "stream",
     "text": [
      "[Parallel(n_jobs=56)]: Done  88 tasks      | elapsed:    0.5s\n",
      "[Parallel(n_jobs=56)]: Done 338 tasks      | elapsed:    1.2s\n",
      "[Parallel(n_jobs=56)]: Done 688 tasks      | elapsed:    2.2s\n",
      "[Parallel(n_jobs=56)]: Done 1138 tasks      | elapsed:    3.6s\n",
      "[Parallel(n_jobs=56)]: Done 1688 tasks      | elapsed:    5.3s\n",
      "[Parallel(n_jobs=56)]: Done 2338 tasks      | elapsed:    7.1s\n",
      "[Parallel(n_jobs=56)]: Done 2500 out of 2500 | elapsed:    7.6s finished\n",
      "/home/agrigore/anaconda3/lib/python3.7/site-packages/sklearn/model_selection/_search.py:814: DeprecationWarning: The default of the `iid` parameter will change from True to False in version 0.22 and will be removed in 0.24. This will change numeric results when test-set sizes are unequal.\n",
      "  DeprecationWarning)\n",
      "\n",
      "0it [00:00, ?it/s]\u001b[A\n",
      "3it [00:00, 28.55it/s]\u001b[A\n",
      "10it [00:00, 37.87it/s][A\n",
      "[Parallel(n_jobs=56)]: Using backend LokyBackend with 56 concurrent workers.\n"
     ]
    },
    {
     "name": "stdout",
     "output_type": "stream",
     "text": [
      "kfold\n",
      "R2\n",
      "lpo\n",
      "Fitting 10 folds for each of 250 candidates, totalling 2500 fits\n"
     ]
    },
    {
     "name": "stderr",
     "output_type": "stream",
     "text": [
      "[Parallel(n_jobs=56)]: Done  91 tasks      | elapsed:    0.5s\n",
      "[Parallel(n_jobs=56)]: Done 576 tasks      | elapsed:    1.5s\n",
      "[Parallel(n_jobs=56)]: Done 1276 tasks      | elapsed:    2.8s\n",
      "[Parallel(n_jobs=56)]: Done 2176 tasks      | elapsed:    4.7s\n",
      "[Parallel(n_jobs=56)]: Done 2500 out of 2500 | elapsed:    5.5s finished\n",
      "/home/agrigore/anaconda3/lib/python3.7/site-packages/sklearn/model_selection/_search.py:814: DeprecationWarning: The default of the `iid` parameter will change from True to False in version 0.22 and will be removed in 0.24. This will change numeric results when test-set sizes are unequal.\n",
      "  DeprecationWarning)\n",
      "\n",
      "0it [00:00, ?it/s]\u001b[A\n",
      "1it [00:00,  9.67it/s]\u001b[A\n",
      "3it [00:00,  8.38it/s]\u001b[A\n",
      "4it [00:00,  6.93it/s]\u001b[A\n",
      "5it [00:00,  7.30it/s]\u001b[A\n",
      "8it [00:00,  9.32it/s]\u001b[A\n",
      "10it [00:01,  9.04it/s]\u001b[A\n",
      "[Parallel(n_jobs=56)]: Using backend LokyBackend with 56 concurrent workers.\n"
     ]
    },
    {
     "name": "stdout",
     "output_type": "stream",
     "text": [
      "kfold\n",
      "SMAPE\n",
      "lpo\n",
      "Fitting 10 folds for each of 250 candidates, totalling 2500 fits\n"
     ]
    },
    {
     "name": "stderr",
     "output_type": "stream",
     "text": [
      "[Parallel(n_jobs=56)]: Done 160 tasks      | elapsed:    0.7s\n",
      "[Parallel(n_jobs=56)]: Done 1160 tasks      | elapsed:    2.3s\n",
      "[Parallel(n_jobs=56)]: Done 2500 out of 2500 | elapsed:    5.0s finished\n",
      "/home/agrigore/anaconda3/lib/python3.7/site-packages/sklearn/model_selection/_search.py:814: DeprecationWarning: The default of the `iid` parameter will change from True to False in version 0.22 and will be removed in 0.24. This will change numeric results when test-set sizes are unequal.\n",
      "  DeprecationWarning)\n",
      "\n",
      "0it [00:00, ?it/s]\u001b[A\n",
      "2it [00:00, 13.32it/s]\u001b[A\n",
      "4it [00:00, 14.59it/s]\u001b[A\n",
      "5it [00:00, 12.25it/s]\u001b[A\n",
      "7it [00:00, 13.47it/s]\u001b[A\n",
      "9it [00:00,  8.72it/s]\u001b[A\n",
      "10it [00:01,  9.85it/s]\u001b[A\n",
      "[Parallel(n_jobs=56)]: Using backend LokyBackend with 56 concurrent workers.\n"
     ]
    },
    {
     "name": "stdout",
     "output_type": "stream",
     "text": [
      "kfold\n",
      "logWD\n",
      "lpo\n",
      "Fitting 10 folds for each of 250 candidates, totalling 2500 fits\n"
     ]
    },
    {
     "name": "stderr",
     "output_type": "stream",
     "text": [
      "[Parallel(n_jobs=56)]: Done  88 tasks      | elapsed:    0.5s\n",
      "[Parallel(n_jobs=56)]: Done 564 tasks      | elapsed:    1.5s\n",
      "[Parallel(n_jobs=56)]: Done 1264 tasks      | elapsed:    3.0s\n",
      "[Parallel(n_jobs=56)]: Done 2164 tasks      | elapsed:    4.6s\n",
      "[Parallel(n_jobs=56)]: Done 2500 out of 2500 | elapsed:    5.5s finished\n",
      "/home/agrigore/anaconda3/lib/python3.7/site-packages/sklearn/model_selection/_search.py:814: DeprecationWarning: The default of the `iid` parameter will change from True to False in version 0.22 and will be removed in 0.24. This will change numeric results when test-set sizes are unequal.\n",
      "  DeprecationWarning)\n",
      "\n",
      "0it [00:00, ?it/s]\u001b[A\n",
      "1it [00:00,  7.00it/s]\u001b[A\n",
      "2it [00:00,  7.08it/s]\u001b[A\n",
      "3it [00:00,  6.77it/s]\u001b[A\n",
      "4it [00:00,  6.93it/s]\u001b[A\n",
      "6it [00:00,  7.86it/s]\u001b[A\n",
      "7it [00:00,  8.33it/s]\u001b[A\n",
      "8it [00:01,  6.34it/s]\u001b[A\n",
      "9it [00:01,  6.14it/s]\u001b[A\n",
      "10it [00:01,  6.98it/s]\u001b[A\n",
      " 14%|█▍        | 1/7 [00:49<04:56, 49.34s/it][Parallel(n_jobs=56)]: Using backend LokyBackend with 56 concurrent workers.\n"
     ]
    },
    {
     "name": "stdout",
     "output_type": "stream",
     "text": [
      "kfold\n",
      "LGBM\n",
      "RMSE\n",
      "lpo\n",
      "Fitting 10 folds for each of 250 candidates, totalling 2500 fits\n"
     ]
    },
    {
     "name": "stderr",
     "output_type": "stream",
     "text": [
      "[Parallel(n_jobs=56)]: Done  88 tasks      | elapsed:    0.5s\n",
      "[Parallel(n_jobs=56)]: Done 338 tasks      | elapsed:    1.2s\n",
      "[Parallel(n_jobs=56)]: Done 688 tasks      | elapsed:    2.1s\n",
      "[Parallel(n_jobs=56)]: Done 1138 tasks      | elapsed:    3.3s\n",
      "[Parallel(n_jobs=56)]: Done 1688 tasks      | elapsed:    4.7s\n",
      "[Parallel(n_jobs=56)]: Done 2338 tasks      | elapsed:    6.4s\n",
      "[Parallel(n_jobs=56)]: Done 2500 out of 2500 | elapsed:    6.8s finished\n",
      "/home/agrigore/anaconda3/lib/python3.7/site-packages/sklearn/model_selection/_search.py:814: DeprecationWarning: The default of the `iid` parameter will change from True to False in version 0.22 and will be removed in 0.24. This will change numeric results when test-set sizes are unequal.\n",
      "  DeprecationWarning)\n",
      "\n",
      "0it [00:00, ?it/s]\u001b[A\n",
      "2it [00:00, 17.71it/s]\u001b[A"
     ]
    },
    {
     "name": "stdout",
     "output_type": "stream",
     "text": [
      "[LightGBM] [Warning] lambda_l1 is set=0.8858858858858859, reg_alpha=0.0 will be ignored. Current value: lambda_l1=0.8858858858858859\n",
      "[LightGBM] [Warning] feature_fraction is set=0.8585858585858586, colsample_bytree=1.0 will be ignored. Current value: feature_fraction=0.8585858585858586\n",
      "[LightGBM] [Warning] lambda_l2 is set=1.916916916916917, reg_lambda=0.0 will be ignored. Current value: lambda_l2=1.916916916916917\n",
      "[LightGBM] [Warning] bagging_fraction is set=0.8838383838383839, subsample=1.0 will be ignored. Current value: bagging_fraction=0.8838383838383839\n",
      "[LightGBM] [Warning] Accuracy may be bad since you didn't explicitly set num_leaves OR 2^max_depth > num_leaves. (num_leaves=31).\n",
      "[LightGBM] [Warning] lambda_l1 is set=0.8858858858858859, reg_alpha=0.0 will be ignored. Current value: lambda_l1=0.8858858858858859\n",
      "[LightGBM] [Warning] feature_fraction is set=0.8585858585858586, colsample_bytree=1.0 will be ignored. Current value: feature_fraction=0.8585858585858586\n",
      "[LightGBM] [Warning] lambda_l2 is set=1.916916916916917, reg_lambda=0.0 will be ignored. Current value: lambda_l2=1.916916916916917\n",
      "[LightGBM] [Warning] bagging_fraction is set=0.8838383838383839, subsample=1.0 will be ignored. Current value: bagging_fraction=0.8838383838383839\n",
      "[LightGBM] [Warning] Accuracy may be bad since you didn't explicitly set num_leaves OR 2^max_depth > num_leaves. (num_leaves=31).\n",
      "[LightGBM] [Warning] lambda_l1 is set=0.8858858858858859, reg_alpha=0.0 will be ignored. Current value: lambda_l1=0.8858858858858859\n",
      "[LightGBM] [Warning] feature_fraction is set=0.8585858585858586, colsample_bytree=1.0 will be ignored. Current value: feature_fraction=0.8585858585858586\n",
      "[LightGBM] [Warning] lambda_l2 is set=1.916916916916917, reg_lambda=0.0 will be ignored. Current value: lambda_l2=1.916916916916917\n",
      "[LightGBM] [Warning] bagging_fraction is set=0.8838383838383839, subsample=1.0 will be ignored. Current value: bagging_fraction=0.8838383838383839\n",
      "[LightGBM] [Warning] Accuracy may be bad since you didn't explicitly set num_leaves OR 2^max_depth > num_leaves. (num_leaves=31).\n"
     ]
    },
    {
     "name": "stderr",
     "output_type": "stream",
     "text": [
      "\n",
      "4it [00:00, 17.16it/s]\u001b[A"
     ]
    },
    {
     "name": "stdout",
     "output_type": "stream",
     "text": [
      "[LightGBM] [Warning] lambda_l1 is set=0.8858858858858859, reg_alpha=0.0 will be ignored. Current value: lambda_l1=0.8858858858858859\n",
      "[LightGBM] [Warning] feature_fraction is set=0.8585858585858586, colsample_bytree=1.0 will be ignored. Current value: feature_fraction=0.8585858585858586\n",
      "[LightGBM] [Warning] lambda_l2 is set=1.916916916916917, reg_lambda=0.0 will be ignored. Current value: lambda_l2=1.916916916916917\n",
      "[LightGBM] [Warning] bagging_fraction is set=0.8838383838383839, subsample=1.0 will be ignored. Current value: bagging_fraction=0.8838383838383839\n",
      "[LightGBM] [Warning] Accuracy may be bad since you didn't explicitly set num_leaves OR 2^max_depth > num_leaves. (num_leaves=31).\n",
      "[LightGBM] [Warning] lambda_l1 is set=0.8858858858858859, reg_alpha=0.0 will be ignored. Current value: lambda_l1=0.8858858858858859\n",
      "[LightGBM] [Warning] feature_fraction is set=0.8585858585858586, colsample_bytree=1.0 will be ignored. Current value: feature_fraction=0.8585858585858586\n",
      "[LightGBM] [Warning] lambda_l2 is set=1.916916916916917, reg_lambda=0.0 will be ignored. Current value: lambda_l2=1.916916916916917\n",
      "[LightGBM] [Warning] bagging_fraction is set=0.8838383838383839, subsample=1.0 will be ignored. Current value: bagging_fraction=0.8838383838383839\n",
      "[LightGBM] [Warning] Accuracy may be bad since you didn't explicitly set num_leaves OR 2^max_depth > num_leaves. (num_leaves=31).\n",
      "[LightGBM] [Warning] lambda_l1 is set=0.8858858858858859, reg_alpha=0.0 will be ignored. Current value: lambda_l1=0.8858858858858859\n",
      "[LightGBM] [Warning] feature_fraction is set=0.8585858585858586, colsample_bytree=1.0 will be ignored. Current value: feature_fraction=0.8585858585858586\n",
      "[LightGBM] [Warning] lambda_l2 is set=1.916916916916917, reg_lambda=0.0 will be ignored. Current value: lambda_l2=1.916916916916917\n",
      "[LightGBM] [Warning] bagging_fraction is set=0.8838383838383839, subsample=1.0 will be ignored. Current value: bagging_fraction=0.8838383838383839\n",
      "[LightGBM] [Warning] Accuracy may be bad since you didn't explicitly set num_leaves OR 2^max_depth > num_leaves. (num_leaves=31).\n"
     ]
    },
    {
     "name": "stderr",
     "output_type": "stream",
     "text": [
      "\n",
      "6it [00:00, 15.09it/s]\u001b[A\n",
      "8it [00:00, 15.70it/s]\u001b[A"
     ]
    },
    {
     "name": "stdout",
     "output_type": "stream",
     "text": [
      "[LightGBM] [Warning] lambda_l1 is set=0.8858858858858859, reg_alpha=0.0 will be ignored. Current value: lambda_l1=0.8858858858858859\n",
      "[LightGBM] [Warning] feature_fraction is set=0.8585858585858586, colsample_bytree=1.0 will be ignored. Current value: feature_fraction=0.8585858585858586\n",
      "[LightGBM] [Warning] lambda_l2 is set=1.916916916916917, reg_lambda=0.0 will be ignored. Current value: lambda_l2=1.916916916916917\n",
      "[LightGBM] [Warning] bagging_fraction is set=0.8838383838383839, subsample=1.0 will be ignored. Current value: bagging_fraction=0.8838383838383839\n",
      "[LightGBM] [Warning] Accuracy may be bad since you didn't explicitly set num_leaves OR 2^max_depth > num_leaves. (num_leaves=31).\n",
      "[LightGBM] [Warning] lambda_l1 is set=0.8858858858858859, reg_alpha=0.0 will be ignored. Current value: lambda_l1=0.8858858858858859\n",
      "[LightGBM] [Warning] feature_fraction is set=0.8585858585858586, colsample_bytree=1.0 will be ignored. Current value: feature_fraction=0.8585858585858586\n",
      "[LightGBM] [Warning] lambda_l2 is set=1.916916916916917, reg_lambda=0.0 will be ignored. Current value: lambda_l2=1.916916916916917\n",
      "[LightGBM] [Warning] bagging_fraction is set=0.8838383838383839, subsample=1.0 will be ignored. Current value: bagging_fraction=0.8838383838383839\n",
      "[LightGBM] [Warning] Accuracy may be bad since you didn't explicitly set num_leaves OR 2^max_depth > num_leaves. (num_leaves=31).\n",
      "[LightGBM] [Warning] lambda_l1 is set=0.8858858858858859, reg_alpha=0.0 will be ignored. Current value: lambda_l1=0.8858858858858859\n",
      "[LightGBM] [Warning] feature_fraction is set=0.8585858585858586, colsample_bytree=1.0 will be ignored. Current value: feature_fraction=0.8585858585858586\n",
      "[LightGBM] [Warning] lambda_l2 is set=1.916916916916917, reg_lambda=0.0 will be ignored. Current value: lambda_l2=1.916916916916917\n",
      "[LightGBM] [Warning] bagging_fraction is set=0.8838383838383839, subsample=1.0 will be ignored. Current value: bagging_fraction=0.8838383838383839\n",
      "[LightGBM] [Warning] Accuracy may be bad since you didn't explicitly set num_leaves OR 2^max_depth > num_leaves. (num_leaves=31).\n",
      "[LightGBM] [Warning] lambda_l1 is set=0.8858858858858859, reg_alpha=0.0 will be ignored. Current value: lambda_l1=0.8858858858858859\n",
      "[LightGBM] [Warning] feature_fraction is set=0.8585858585858586, colsample_bytree=1.0 will be ignored. Current value: feature_fraction=0.8585858585858586\n",
      "[LightGBM] [Warning] lambda_l2 is set=1.916916916916917, reg_lambda=0.0 will be ignored. Current value: lambda_l2=1.916916916916917\n",
      "[LightGBM] [Warning] bagging_fraction is set=0.8838383838383839, subsample=1.0 will be ignored. Current value: bagging_fraction=0.8838383838383839\n",
      "[LightGBM] [Warning] Accuracy may be bad since you didn't explicitly set num_leaves OR 2^max_depth > num_leaves. (num_leaves=31).\n"
     ]
    },
    {
     "name": "stderr",
     "output_type": "stream",
     "text": [
      "\n",
      "10it [00:00, 15.66it/s]\u001b[A\n",
      "[Parallel(n_jobs=56)]: Using backend LokyBackend with 56 concurrent workers.\n"
     ]
    },
    {
     "name": "stdout",
     "output_type": "stream",
     "text": [
      "kfold\n",
      "MAPE\n",
      "lpo\n",
      "Fitting 10 folds for each of 250 candidates, totalling 2500 fits\n"
     ]
    },
    {
     "name": "stderr",
     "output_type": "stream",
     "text": [
      "[Parallel(n_jobs=56)]: Done  88 tasks      | elapsed:    0.4s\n",
      "[Parallel(n_jobs=56)]: Done 1016 tasks      | elapsed:    2.0s\n",
      "[Parallel(n_jobs=56)]: Done 2500 out of 2500 | elapsed:    4.1s finished\n",
      "/home/agrigore/anaconda3/lib/python3.7/site-packages/sklearn/model_selection/_search.py:814: DeprecationWarning: The default of the `iid` parameter will change from True to False in version 0.22 and will be removed in 0.24. This will change numeric results when test-set sizes are unequal.\n",
      "  DeprecationWarning)\n",
      "\n",
      "0it [00:00, ?it/s]\u001b[A\n",
      "3it [00:00, 28.00it/s]\u001b[A"
     ]
    },
    {
     "name": "stdout",
     "output_type": "stream",
     "text": [
      "[LightGBM] [Warning] lambda_l1 is set=3.813813813813814, reg_alpha=0.0 will be ignored. Current value: lambda_l1=3.813813813813814\n",
      "[LightGBM] [Warning] feature_fraction is set=0.6414141414141414, colsample_bytree=1.0 will be ignored. Current value: feature_fraction=0.6414141414141414\n",
      "[LightGBM] [Warning] lambda_l2 is set=4.1541541541541545, reg_lambda=0.0 will be ignored. Current value: lambda_l2=4.1541541541541545\n",
      "[LightGBM] [Warning] bagging_fraction is set=0.6313131313131313, subsample=1.0 will be ignored. Current value: bagging_fraction=0.6313131313131313\n",
      "[LightGBM] [Warning] lambda_l1 is set=3.813813813813814, reg_alpha=0.0 will be ignored. Current value: lambda_l1=3.813813813813814\n",
      "[LightGBM] [Warning] feature_fraction is set=0.6414141414141414, colsample_bytree=1.0 will be ignored. Current value: feature_fraction=0.6414141414141414\n",
      "[LightGBM] [Warning] lambda_l2 is set=4.1541541541541545, reg_lambda=0.0 will be ignored. Current value: lambda_l2=4.1541541541541545\n",
      "[LightGBM] [Warning] bagging_fraction is set=0.6313131313131313, subsample=1.0 will be ignored. Current value: bagging_fraction=0.6313131313131313\n",
      "[LightGBM] [Warning] lambda_l1 is set=3.813813813813814, reg_alpha=0.0 will be ignored. Current value: lambda_l1=3.813813813813814\n",
      "[LightGBM] [Warning] feature_fraction is set=0.6414141414141414, colsample_bytree=1.0 will be ignored. Current value: feature_fraction=0.6414141414141414\n",
      "[LightGBM] [Warning] lambda_l2 is set=4.1541541541541545, reg_lambda=0.0 will be ignored. Current value: lambda_l2=4.1541541541541545\n",
      "[LightGBM] [Warning] bagging_fraction is set=0.6313131313131313, subsample=1.0 will be ignored. Current value: bagging_fraction=0.6313131313131313\n",
      "[LightGBM] [Warning] lambda_l1 is set=3.813813813813814, reg_alpha=0.0 will be ignored. Current value: lambda_l1=3.813813813813814\n",
      "[LightGBM] [Warning] feature_fraction is set=0.6414141414141414, colsample_bytree=1.0 will be ignored. Current value: feature_fraction=0.6414141414141414\n",
      "[LightGBM] [Warning] lambda_l2 is set=4.1541541541541545, reg_lambda=0.0 will be ignored. Current value: lambda_l2=4.1541541541541545\n",
      "[LightGBM] [Warning] bagging_fraction is set=0.6313131313131313, subsample=1.0 will be ignored. Current value: bagging_fraction=0.6313131313131313\n",
      "[LightGBM] [Warning] lambda_l1 is set=3.813813813813814, reg_alpha=0.0 will be ignored. Current value: lambda_l1=3.813813813813814\n",
      "[LightGBM] [Warning] feature_fraction is set=0.6414141414141414, colsample_bytree=1.0 will be ignored. Current value: feature_fraction=0.6414141414141414\n",
      "[LightGBM] [Warning] lambda_l2 is set=4.1541541541541545, reg_lambda=0.0 will be ignored. Current value: lambda_l2=4.1541541541541545\n",
      "[LightGBM] [Warning] bagging_fraction is set=0.6313131313131313, subsample=1.0 will be ignored. Current value: bagging_fraction=0.6313131313131313\n"
     ]
    },
    {
     "name": "stderr",
     "output_type": "stream",
     "text": [
      "\n",
      "5it [00:00, 19.33it/s]\u001b[A\n",
      "6it [00:00, 13.88it/s]\u001b[A"
     ]
    },
    {
     "name": "stdout",
     "output_type": "stream",
     "text": [
      "[LightGBM] [Warning] lambda_l1 is set=3.813813813813814, reg_alpha=0.0 will be ignored. Current value: lambda_l1=3.813813813813814\n",
      "[LightGBM] [Warning] feature_fraction is set=0.6414141414141414, colsample_bytree=1.0 will be ignored. Current value: feature_fraction=0.6414141414141414\n",
      "[LightGBM] [Warning] lambda_l2 is set=4.1541541541541545, reg_lambda=0.0 will be ignored. Current value: lambda_l2=4.1541541541541545\n",
      "[LightGBM] [Warning] bagging_fraction is set=0.6313131313131313, subsample=1.0 will be ignored. Current value: bagging_fraction=0.6313131313131313\n",
      "[LightGBM] [Warning] lambda_l1 is set=3.813813813813814, reg_alpha=0.0 will be ignored. Current value: lambda_l1=3.813813813813814\n",
      "[LightGBM] [Warning] feature_fraction is set=0.6414141414141414, colsample_bytree=1.0 will be ignored. Current value: feature_fraction=0.6414141414141414\n",
      "[LightGBM] [Warning] lambda_l2 is set=4.1541541541541545, reg_lambda=0.0 will be ignored. Current value: lambda_l2=4.1541541541541545\n",
      "[LightGBM] [Warning] bagging_fraction is set=0.6313131313131313, subsample=1.0 will be ignored. Current value: bagging_fraction=0.6313131313131313\n",
      "[LightGBM] [Warning] lambda_l1 is set=3.813813813813814, reg_alpha=0.0 will be ignored. Current value: lambda_l1=3.813813813813814\n",
      "[LightGBM] [Warning] feature_fraction is set=0.6414141414141414, colsample_bytree=1.0 will be ignored. Current value: feature_fraction=0.6414141414141414\n",
      "[LightGBM] [Warning] lambda_l2 is set=4.1541541541541545, reg_lambda=0.0 will be ignored. Current value: lambda_l2=4.1541541541541545\n",
      "[LightGBM] [Warning] bagging_fraction is set=0.6313131313131313, subsample=1.0 will be ignored. Current value: bagging_fraction=0.6313131313131313\n"
     ]
    },
    {
     "name": "stderr",
     "output_type": "stream",
     "text": [
      "\n",
      "8it [00:00, 14.78it/s]\u001b[A\n",
      "10it [00:00, 15.72it/s]\u001b[A\n",
      "[Parallel(n_jobs=56)]: Using backend LokyBackend with 56 concurrent workers.\n"
     ]
    },
    {
     "name": "stdout",
     "output_type": "stream",
     "text": [
      "[LightGBM] [Warning] lambda_l1 is set=3.813813813813814, reg_alpha=0.0 will be ignored. Current value: lambda_l1=3.813813813813814\n",
      "[LightGBM] [Warning] feature_fraction is set=0.6414141414141414, colsample_bytree=1.0 will be ignored. Current value: feature_fraction=0.6414141414141414\n",
      "[LightGBM] [Warning] lambda_l2 is set=4.1541541541541545, reg_lambda=0.0 will be ignored. Current value: lambda_l2=4.1541541541541545\n",
      "[LightGBM] [Warning] bagging_fraction is set=0.6313131313131313, subsample=1.0 will be ignored. Current value: bagging_fraction=0.6313131313131313\n",
      "[LightGBM] [Warning] lambda_l1 is set=3.813813813813814, reg_alpha=0.0 will be ignored. Current value: lambda_l1=3.813813813813814\n",
      "[LightGBM] [Warning] feature_fraction is set=0.6414141414141414, colsample_bytree=1.0 will be ignored. Current value: feature_fraction=0.6414141414141414\n",
      "[LightGBM] [Warning] lambda_l2 is set=4.1541541541541545, reg_lambda=0.0 will be ignored. Current value: lambda_l2=4.1541541541541545\n",
      "[LightGBM] [Warning] bagging_fraction is set=0.6313131313131313, subsample=1.0 will be ignored. Current value: bagging_fraction=0.6313131313131313\n",
      "kfold\n",
      "R2\n",
      "lpo\n",
      "Fitting 10 folds for each of 250 candidates, totalling 2500 fits\n"
     ]
    },
    {
     "name": "stderr",
     "output_type": "stream",
     "text": [
      "[Parallel(n_jobs=56)]: Done  88 tasks      | elapsed:    0.4s\n",
      "[Parallel(n_jobs=56)]: Done 1468 tasks      | elapsed:    2.7s\n",
      "[Parallel(n_jobs=56)]: Done 2500 out of 2500 | elapsed:    4.1s finished\n",
      "/home/agrigore/anaconda3/lib/python3.7/site-packages/sklearn/model_selection/_search.py:814: DeprecationWarning: The default of the `iid` parameter will change from True to False in version 0.22 and will be removed in 0.24. This will change numeric results when test-set sizes are unequal.\n",
      "  DeprecationWarning)\n"
     ]
    },
    {
     "name": "stdout",
     "output_type": "stream",
     "text": [
      "[LightGBM] [Warning] lambda_l1 is set=0.23523523523523523, reg_alpha=0.0 will be ignored. Current value: lambda_l1=0.23523523523523523\n",
      "[LightGBM] [Warning] feature_fraction is set=0.595959595959596, colsample_bytree=1.0 will be ignored. Current value: feature_fraction=0.595959595959596\n",
      "[LightGBM] [Warning] lambda_l2 is set=0.8408408408408409, reg_lambda=0.0 will be ignored. Current value: lambda_l2=0.8408408408408409\n",
      "[LightGBM] [Warning] bagging_fraction is set=0.5656565656565656, subsample=1.0 will be ignored. Current value: bagging_fraction=0.5656565656565656\n",
      "[LightGBM] [Warning] Accuracy may be bad since you didn't explicitly set num_leaves OR 2^max_depth > num_leaves. (num_leaves=31).\n"
     ]
    },
    {
     "name": "stderr",
     "output_type": "stream",
     "text": [
      "\n",
      "0it [00:00, ?it/s]\u001b[A\n",
      "2it [00:00, 17.80it/s]\u001b[A\n",
      "4it [00:00, 17.66it/s]\u001b[A"
     ]
    },
    {
     "name": "stdout",
     "output_type": "stream",
     "text": [
      "[LightGBM] [Warning] lambda_l1 is set=0.23523523523523523, reg_alpha=0.0 will be ignored. Current value: lambda_l1=0.23523523523523523\n",
      "[LightGBM] [Warning] feature_fraction is set=0.595959595959596, colsample_bytree=1.0 will be ignored. Current value: feature_fraction=0.595959595959596\n",
      "[LightGBM] [Warning] lambda_l2 is set=0.8408408408408409, reg_lambda=0.0 will be ignored. Current value: lambda_l2=0.8408408408408409\n",
      "[LightGBM] [Warning] bagging_fraction is set=0.5656565656565656, subsample=1.0 will be ignored. Current value: bagging_fraction=0.5656565656565656\n",
      "[LightGBM] [Warning] Accuracy may be bad since you didn't explicitly set num_leaves OR 2^max_depth > num_leaves. (num_leaves=31).\n",
      "[LightGBM] [Warning] lambda_l1 is set=0.23523523523523523, reg_alpha=0.0 will be ignored. Current value: lambda_l1=0.23523523523523523\n",
      "[LightGBM] [Warning] feature_fraction is set=0.595959595959596, colsample_bytree=1.0 will be ignored. Current value: feature_fraction=0.595959595959596\n",
      "[LightGBM] [Warning] lambda_l2 is set=0.8408408408408409, reg_lambda=0.0 will be ignored. Current value: lambda_l2=0.8408408408408409\n",
      "[LightGBM] [Warning] bagging_fraction is set=0.5656565656565656, subsample=1.0 will be ignored. Current value: bagging_fraction=0.5656565656565656\n",
      "[LightGBM] [Warning] Accuracy may be bad since you didn't explicitly set num_leaves OR 2^max_depth > num_leaves. (num_leaves=31).\n",
      "[LightGBM] [Warning] lambda_l1 is set=0.23523523523523523, reg_alpha=0.0 will be ignored. Current value: lambda_l1=0.23523523523523523\n",
      "[LightGBM] [Warning] feature_fraction is set=0.595959595959596, colsample_bytree=1.0 will be ignored. Current value: feature_fraction=0.595959595959596\n",
      "[LightGBM] [Warning] lambda_l2 is set=0.8408408408408409, reg_lambda=0.0 will be ignored. Current value: lambda_l2=0.8408408408408409\n",
      "[LightGBM] [Warning] bagging_fraction is set=0.5656565656565656, subsample=1.0 will be ignored. Current value: bagging_fraction=0.5656565656565656\n",
      "[LightGBM] [Warning] Accuracy may be bad since you didn't explicitly set num_leaves OR 2^max_depth > num_leaves. (num_leaves=31).\n",
      "[LightGBM] [Warning] lambda_l1 is set=0.23523523523523523, reg_alpha=0.0 will be ignored. Current value: lambda_l1=0.23523523523523523\n",
      "[LightGBM] [Warning] feature_fraction is set=0.595959595959596, colsample_bytree=1.0 will be ignored. Current value: feature_fraction=0.595959595959596\n",
      "[LightGBM] [Warning] lambda_l2 is set=0.8408408408408409, reg_lambda=0.0 will be ignored. Current value: lambda_l2=0.8408408408408409\n",
      "[LightGBM] [Warning] bagging_fraction is set=0.5656565656565656, subsample=1.0 will be ignored. Current value: bagging_fraction=0.5656565656565656\n",
      "[LightGBM] [Warning] Accuracy may be bad since you didn't explicitly set num_leaves OR 2^max_depth > num_leaves. (num_leaves=31).\n"
     ]
    },
    {
     "name": "stderr",
     "output_type": "stream",
     "text": [
      "\n",
      "6it [00:00, 17.35it/s]\u001b[A"
     ]
    },
    {
     "name": "stdout",
     "output_type": "stream",
     "text": [
      "[LightGBM] [Warning] lambda_l1 is set=0.23523523523523523, reg_alpha=0.0 will be ignored. Current value: lambda_l1=0.23523523523523523\n",
      "[LightGBM] [Warning] feature_fraction is set=0.595959595959596, colsample_bytree=1.0 will be ignored. Current value: feature_fraction=0.595959595959596\n",
      "[LightGBM] [Warning] lambda_l2 is set=0.8408408408408409, reg_lambda=0.0 will be ignored. Current value: lambda_l2=0.8408408408408409\n",
      "[LightGBM] [Warning] bagging_fraction is set=0.5656565656565656, subsample=1.0 will be ignored. Current value: bagging_fraction=0.5656565656565656\n",
      "[LightGBM] [Warning] Accuracy may be bad since you didn't explicitly set num_leaves OR 2^max_depth > num_leaves. (num_leaves=31).\n",
      "[LightGBM] [Warning] lambda_l1 is set=0.23523523523523523, reg_alpha=0.0 will be ignored. Current value: lambda_l1=0.23523523523523523\n",
      "[LightGBM] [Warning] feature_fraction is set=0.595959595959596, colsample_bytree=1.0 will be ignored. Current value: feature_fraction=0.595959595959596\n",
      "[LightGBM] [Warning] lambda_l2 is set=0.8408408408408409, reg_lambda=0.0 will be ignored. Current value: lambda_l2=0.8408408408408409\n",
      "[LightGBM] [Warning] bagging_fraction is set=0.5656565656565656, subsample=1.0 will be ignored. Current value: bagging_fraction=0.5656565656565656\n",
      "[LightGBM] [Warning] Accuracy may be bad since you didn't explicitly set num_leaves OR 2^max_depth > num_leaves. (num_leaves=31).\n",
      "[LightGBM] [Warning] lambda_l1 is set=0.23523523523523523, reg_alpha=0.0 will be ignored. Current value: lambda_l1=0.23523523523523523\n",
      "[LightGBM] [Warning] feature_fraction is set=0.595959595959596, colsample_bytree=1.0 will be ignored. Current value: feature_fraction=0.595959595959596\n",
      "[LightGBM] [Warning] lambda_l2 is set=0.8408408408408409, reg_lambda=0.0 will be ignored. Current value: lambda_l2=0.8408408408408409\n",
      "[LightGBM] [Warning] bagging_fraction is set=0.5656565656565656, subsample=1.0 will be ignored. Current value: bagging_fraction=0.5656565656565656\n",
      "[LightGBM] [Warning] Accuracy may be bad since you didn't explicitly set num_leaves OR 2^max_depth > num_leaves. (num_leaves=31).\n"
     ]
    },
    {
     "name": "stderr",
     "output_type": "stream",
     "text": [
      "\n",
      "8it [00:00, 13.81it/s]\u001b[A\n",
      "10it [00:00, 14.81it/s]\u001b[A\n",
      "[Parallel(n_jobs=56)]: Using backend LokyBackend with 56 concurrent workers.\n"
     ]
    },
    {
     "name": "stdout",
     "output_type": "stream",
     "text": [
      "[LightGBM] [Warning] lambda_l1 is set=0.23523523523523523, reg_alpha=0.0 will be ignored. Current value: lambda_l1=0.23523523523523523\n",
      "[LightGBM] [Warning] feature_fraction is set=0.595959595959596, colsample_bytree=1.0 will be ignored. Current value: feature_fraction=0.595959595959596\n",
      "[LightGBM] [Warning] lambda_l2 is set=0.8408408408408409, reg_lambda=0.0 will be ignored. Current value: lambda_l2=0.8408408408408409\n",
      "[LightGBM] [Warning] bagging_fraction is set=0.5656565656565656, subsample=1.0 will be ignored. Current value: bagging_fraction=0.5656565656565656\n",
      "[LightGBM] [Warning] Accuracy may be bad since you didn't explicitly set num_leaves OR 2^max_depth > num_leaves. (num_leaves=31).\n",
      "[LightGBM] [Warning] lambda_l1 is set=0.23523523523523523, reg_alpha=0.0 will be ignored. Current value: lambda_l1=0.23523523523523523\n",
      "[LightGBM] [Warning] feature_fraction is set=0.595959595959596, colsample_bytree=1.0 will be ignored. Current value: feature_fraction=0.595959595959596\n",
      "[LightGBM] [Warning] lambda_l2 is set=0.8408408408408409, reg_lambda=0.0 will be ignored. Current value: lambda_l2=0.8408408408408409\n",
      "[LightGBM] [Warning] bagging_fraction is set=0.5656565656565656, subsample=1.0 will be ignored. Current value: bagging_fraction=0.5656565656565656\n",
      "[LightGBM] [Warning] Accuracy may be bad since you didn't explicitly set num_leaves OR 2^max_depth > num_leaves. (num_leaves=31).\n",
      "kfold\n",
      "SMAPE\n",
      "lpo\n",
      "Fitting 10 folds for each of 250 candidates, totalling 2500 fits\n"
     ]
    },
    {
     "name": "stderr",
     "output_type": "stream",
     "text": [
      "[Parallel(n_jobs=56)]: Done  88 tasks      | elapsed:    0.4s\n",
      "[Parallel(n_jobs=56)]: Done 1016 tasks      | elapsed:    2.0s\n",
      "[Parallel(n_jobs=56)]: Done 2500 out of 2500 | elapsed:    4.1s finished\n",
      "/home/agrigore/anaconda3/lib/python3.7/site-packages/sklearn/model_selection/_search.py:814: DeprecationWarning: The default of the `iid` parameter will change from True to False in version 0.22 and will be removed in 0.24. This will change numeric results when test-set sizes are unequal.\n",
      "  DeprecationWarning)\n",
      "\n",
      "0it [00:00, ?it/s]\u001b[A\n",
      "2it [00:00, 17.81it/s]\u001b[A"
     ]
    },
    {
     "name": "stdout",
     "output_type": "stream",
     "text": [
      "[LightGBM] [Warning] lambda_l1 is set=0.3103103103103103, reg_alpha=0.0 will be ignored. Current value: lambda_l1=0.3103103103103103\n",
      "[LightGBM] [Warning] feature_fraction is set=0.5404040404040404, colsample_bytree=1.0 will be ignored. Current value: feature_fraction=0.5404040404040404\n",
      "[LightGBM] [Warning] lambda_l2 is set=1.0610610610610611, reg_lambda=0.0 will be ignored. Current value: lambda_l2=1.0610610610610611\n",
      "[LightGBM] [Warning] bagging_fraction is set=0.8737373737373737, subsample=1.0 will be ignored. Current value: bagging_fraction=0.8737373737373737\n",
      "[LightGBM] [Warning] lambda_l1 is set=0.3103103103103103, reg_alpha=0.0 will be ignored. Current value: lambda_l1=0.3103103103103103\n",
      "[LightGBM] [Warning] feature_fraction is set=0.5404040404040404, colsample_bytree=1.0 will be ignored. Current value: feature_fraction=0.5404040404040404\n",
      "[LightGBM] [Warning] lambda_l2 is set=1.0610610610610611, reg_lambda=0.0 will be ignored. Current value: lambda_l2=1.0610610610610611\n",
      "[LightGBM] [Warning] bagging_fraction is set=0.8737373737373737, subsample=1.0 will be ignored. Current value: bagging_fraction=0.8737373737373737\n",
      "[LightGBM] [Warning] lambda_l1 is set=0.3103103103103103, reg_alpha=0.0 will be ignored. Current value: lambda_l1=0.3103103103103103\n",
      "[LightGBM] [Warning] feature_fraction is set=0.5404040404040404, colsample_bytree=1.0 will be ignored. Current value: feature_fraction=0.5404040404040404\n",
      "[LightGBM] [Warning] lambda_l2 is set=1.0610610610610611, reg_lambda=0.0 will be ignored. Current value: lambda_l2=1.0610610610610611\n",
      "[LightGBM] [Warning] bagging_fraction is set=0.8737373737373737, subsample=1.0 will be ignored. Current value: bagging_fraction=0.8737373737373737\n",
      "[LightGBM] [Warning] lambda_l1 is set=0.3103103103103103, reg_alpha=0.0 will be ignored. Current value: lambda_l1=0.3103103103103103\n",
      "[LightGBM] [Warning] feature_fraction is set=0.5404040404040404, colsample_bytree=1.0 will be ignored. Current value: feature_fraction=0.5404040404040404\n",
      "[LightGBM] [Warning] lambda_l2 is set=1.0610610610610611, reg_lambda=0.0 will be ignored. Current value: lambda_l2=1.0610610610610611\n",
      "[LightGBM] [Warning] bagging_fraction is set=0.8737373737373737, subsample=1.0 will be ignored. Current value: bagging_fraction=0.8737373737373737\n"
     ]
    },
    {
     "name": "stderr",
     "output_type": "stream",
     "text": [
      "\n",
      "5it [00:00, 19.15it/s]\u001b[A\n",
      "8it [00:00, 20.15it/s]\u001b[A"
     ]
    },
    {
     "name": "stdout",
     "output_type": "stream",
     "text": [
      "[LightGBM] [Warning] lambda_l1 is set=0.3103103103103103, reg_alpha=0.0 will be ignored. Current value: lambda_l1=0.3103103103103103\n",
      "[LightGBM] [Warning] feature_fraction is set=0.5404040404040404, colsample_bytree=1.0 will be ignored. Current value: feature_fraction=0.5404040404040404\n",
      "[LightGBM] [Warning] lambda_l2 is set=1.0610610610610611, reg_lambda=0.0 will be ignored. Current value: lambda_l2=1.0610610610610611\n",
      "[LightGBM] [Warning] bagging_fraction is set=0.8737373737373737, subsample=1.0 will be ignored. Current value: bagging_fraction=0.8737373737373737\n",
      "[LightGBM] [Warning] lambda_l1 is set=0.3103103103103103, reg_alpha=0.0 will be ignored. Current value: lambda_l1=0.3103103103103103\n",
      "[LightGBM] [Warning] feature_fraction is set=0.5404040404040404, colsample_bytree=1.0 will be ignored. Current value: feature_fraction=0.5404040404040404\n",
      "[LightGBM] [Warning] lambda_l2 is set=1.0610610610610611, reg_lambda=0.0 will be ignored. Current value: lambda_l2=1.0610610610610611\n",
      "[LightGBM] [Warning] bagging_fraction is set=0.8737373737373737, subsample=1.0 will be ignored. Current value: bagging_fraction=0.8737373737373737\n",
      "[LightGBM] [Warning] lambda_l1 is set=0.3103103103103103, reg_alpha=0.0 will be ignored. Current value: lambda_l1=0.3103103103103103\n",
      "[LightGBM] [Warning] feature_fraction is set=0.5404040404040404, colsample_bytree=1.0 will be ignored. Current value: feature_fraction=0.5404040404040404\n",
      "[LightGBM] [Warning] lambda_l2 is set=1.0610610610610611, reg_lambda=0.0 will be ignored. Current value: lambda_l2=1.0610610610610611\n",
      "[LightGBM] [Warning] bagging_fraction is set=0.8737373737373737, subsample=1.0 will be ignored. Current value: bagging_fraction=0.8737373737373737\n",
      "[LightGBM] [Warning] lambda_l1 is set=0.3103103103103103, reg_alpha=0.0 will be ignored. Current value: lambda_l1=0.3103103103103103\n",
      "[LightGBM] [Warning] feature_fraction is set=0.5404040404040404, colsample_bytree=1.0 will be ignored. Current value: feature_fraction=0.5404040404040404\n",
      "[LightGBM] [Warning] lambda_l2 is set=1.0610610610610611, reg_lambda=0.0 will be ignored. Current value: lambda_l2=1.0610610610610611\n",
      "[LightGBM] [Warning] bagging_fraction is set=0.8737373737373737, subsample=1.0 will be ignored. Current value: bagging_fraction=0.8737373737373737\n",
      "[LightGBM] [Warning] lambda_l1 is set=0.3103103103103103, reg_alpha=0.0 will be ignored. Current value: lambda_l1=0.3103103103103103\n",
      "[LightGBM] [Warning] feature_fraction is set=0.5404040404040404, colsample_bytree=1.0 will be ignored. Current value: feature_fraction=0.5404040404040404\n",
      "[LightGBM] [Warning] lambda_l2 is set=1.0610610610610611, reg_lambda=0.0 will be ignored. Current value: lambda_l2=1.0610610610610611\n",
      "[LightGBM] [Warning] bagging_fraction is set=0.8737373737373737, subsample=1.0 will be ignored. Current value: bagging_fraction=0.8737373737373737\n",
      "[LightGBM] [Warning] lambda_l1 is set=0.3103103103103103, reg_alpha=0.0 will be ignored. Current value: lambda_l1=0.3103103103103103\n",
      "[LightGBM] [Warning] feature_fraction is set=0.5404040404040404, colsample_bytree=1.0 will be ignored. Current value: feature_fraction=0.5404040404040404\n",
      "[LightGBM] [Warning] lambda_l2 is set=1.0610610610610611, reg_lambda=0.0 will be ignored. Current value: lambda_l2=1.0610610610610611\n",
      "[LightGBM] [Warning] bagging_fraction is set=0.8737373737373737, subsample=1.0 will be ignored. Current value: bagging_fraction=0.8737373737373737\n"
     ]
    },
    {
     "name": "stderr",
     "output_type": "stream",
     "text": [
      "10it [00:00, 23.21it/s]\n",
      "[Parallel(n_jobs=56)]: Using backend LokyBackend with 56 concurrent workers.\n"
     ]
    },
    {
     "name": "stdout",
     "output_type": "stream",
     "text": [
      "kfold\n",
      "logWD\n",
      "lpo\n",
      "Fitting 10 folds for each of 250 candidates, totalling 2500 fits\n"
     ]
    },
    {
     "name": "stderr",
     "output_type": "stream",
     "text": [
      "[Parallel(n_jobs=56)]: Done  88 tasks      | elapsed:    0.4s\n",
      "[Parallel(n_jobs=56)]: Done 1016 tasks      | elapsed:    2.0s\n",
      "[Parallel(n_jobs=56)]: Done 2500 out of 2500 | elapsed:    4.1s finished\n",
      "/home/agrigore/anaconda3/lib/python3.7/site-packages/sklearn/model_selection/_search.py:814: DeprecationWarning: The default of the `iid` parameter will change from True to False in version 0.22 and will be removed in 0.24. This will change numeric results when test-set sizes are unequal.\n",
      "  DeprecationWarning)\n"
     ]
    },
    {
     "name": "stdout",
     "output_type": "stream",
     "text": [
      "[LightGBM] [Warning] lambda_l1 is set=0.8358358358358359, reg_alpha=0.0 will be ignored. Current value: lambda_l1=0.8358358358358359\n",
      "[LightGBM] [Warning] feature_fraction is set=0.9242424242424243, colsample_bytree=1.0 will be ignored. Current value: feature_fraction=0.9242424242424243\n",
      "[LightGBM] [Warning] lambda_l2 is set=4.2992992992992995, reg_lambda=0.0 will be ignored. Current value: lambda_l2=4.2992992992992995\n",
      "[LightGBM] [Warning] bagging_fraction is set=0.9494949494949496, subsample=1.0 will be ignored. Current value: bagging_fraction=0.9494949494949496\n",
      "[LightGBM] [Warning] Accuracy may be bad since you didn't explicitly set num_leaves OR 2^max_depth > num_leaves. (num_leaves=31).\n"
     ]
    },
    {
     "name": "stderr",
     "output_type": "stream",
     "text": [
      "\n",
      "0it [00:00, ?it/s]\u001b[A\n",
      "1it [00:00,  9.18it/s]\u001b[A\n",
      "2it [00:00,  8.79it/s]\u001b[A"
     ]
    },
    {
     "name": "stdout",
     "output_type": "stream",
     "text": [
      "[LightGBM] [Warning] lambda_l1 is set=0.8358358358358359, reg_alpha=0.0 will be ignored. Current value: lambda_l1=0.8358358358358359\n",
      "[LightGBM] [Warning] feature_fraction is set=0.9242424242424243, colsample_bytree=1.0 will be ignored. Current value: feature_fraction=0.9242424242424243\n",
      "[LightGBM] [Warning] lambda_l2 is set=4.2992992992992995, reg_lambda=0.0 will be ignored. Current value: lambda_l2=4.2992992992992995\n",
      "[LightGBM] [Warning] bagging_fraction is set=0.9494949494949496, subsample=1.0 will be ignored. Current value: bagging_fraction=0.9494949494949496\n",
      "[LightGBM] [Warning] Accuracy may be bad since you didn't explicitly set num_leaves OR 2^max_depth > num_leaves. (num_leaves=31).\n",
      "[LightGBM] [Warning] lambda_l1 is set=0.8358358358358359, reg_alpha=0.0 will be ignored. Current value: lambda_l1=0.8358358358358359\n",
      "[LightGBM] [Warning] feature_fraction is set=0.9242424242424243, colsample_bytree=1.0 will be ignored. Current value: feature_fraction=0.9242424242424243\n",
      "[LightGBM] [Warning] lambda_l2 is set=4.2992992992992995, reg_lambda=0.0 will be ignored. Current value: lambda_l2=4.2992992992992995\n",
      "[LightGBM] [Warning] bagging_fraction is set=0.9494949494949496, subsample=1.0 will be ignored. Current value: bagging_fraction=0.9494949494949496\n",
      "[LightGBM] [Warning] Accuracy may be bad since you didn't explicitly set num_leaves OR 2^max_depth > num_leaves. (num_leaves=31).\n"
     ]
    },
    {
     "name": "stderr",
     "output_type": "stream",
     "text": [
      "\n",
      "3it [00:00,  8.70it/s]\u001b[A\n",
      "4it [00:00,  9.03it/s]\u001b[A\n"
     ]
    },
    {
     "name": "stdout",
     "output_type": "stream",
     "text": [
      "[LightGBM] [Warning] lambda_l1 is set=0.8358358358358359, reg_alpha=0.0 will be ignored. Current value: lambda_l1=0.8358358358358359\n",
      "[LightGBM] [Warning] feature_fraction is set=0.9242424242424243, colsample_bytree=1.0 will be ignored. Current value: feature_fraction=0.9242424242424243\n",
      "[LightGBM] [Warning] lambda_l2 is set=4.2992992992992995, reg_lambda=0.0 will be ignored. Current value: lambda_l2=4.2992992992992995\n",
      "[LightGBM] [Warning] bagging_fraction is set=0.9494949494949496, subsample=1.0 will be ignored. Current value: bagging_fraction=0.9494949494949496\n",
      "[LightGBM] [Warning] Accuracy may be bad since you didn't explicitly set num_leaves OR 2^max_depth > num_leaves. (num_leaves=31).\n",
      "[LightGBM] [Warning] lambda_l1 is set=0.8358358358358359, reg_alpha=0.0 will be ignored. Current value: lambda_l1=0.8358358358358359\n",
      "[LightGBM] [Warning] feature_fraction is set=0.9242424242424243, colsample_bytree=1.0 will be ignored. Current value: feature_fraction=0.9242424242424243\n",
      "[LightGBM] [Warning] lambda_l2 is set=4.2992992992992995, reg_lambda=0.0 will be ignored. Current value: lambda_l2=4.2992992992992995\n",
      "[LightGBM] [Warning] bagging_fraction is set=0.9494949494949496, subsample=1.0 will be ignored. Current value: bagging_fraction=0.9494949494949496\n",
      "[LightGBM] [Warning] Accuracy may be bad since you didn't explicitly set num_leaves OR 2^max_depth > num_leaves. (num_leaves=31).\n",
      "[LightGBM] [Warning] lambda_l1 is set=0.8358358358358359, reg_alpha=0.0 will be ignored. Current value: lambda_l1=0.8358358358358359\n",
      "[LightGBM] [Warning] feature_fraction is set=0.9242424242424243, colsample_bytree=1.0 will be ignored. Current value: feature_fraction=0.9242424242424243\n",
      "[LightGBM] [Warning] lambda_l2 is set=4.2992992992992995, reg_lambda=0.0 will be ignored. Current value: lambda_l2=4.2992992992992995\n",
      "[LightGBM] [Warning] bagging_fraction is set=0.9494949494949496, subsample=1.0 will be ignored. Current value: bagging_fraction=0.9494949494949496\n",
      "[LightGBM] [Warning] Accuracy may be bad since you didn't explicitly set num_leaves OR 2^max_depth > num_leaves. (num_leaves=31).\n"
     ]
    },
    {
     "name": "stderr",
     "output_type": "stream",
     "text": [
      "6it [00:00, 10.63it/s]\u001b[A\n",
      "8it [00:00, 12.20it/s]\u001b[A"
     ]
    },
    {
     "name": "stdout",
     "output_type": "stream",
     "text": [
      "[LightGBM] [Warning] lambda_l1 is set=0.8358358358358359, reg_alpha=0.0 will be ignored. Current value: lambda_l1=0.8358358358358359\n",
      "[LightGBM] [Warning] feature_fraction is set=0.9242424242424243, colsample_bytree=1.0 will be ignored. Current value: feature_fraction=0.9242424242424243\n",
      "[LightGBM] [Warning] lambda_l2 is set=4.2992992992992995, reg_lambda=0.0 will be ignored. Current value: lambda_l2=4.2992992992992995\n",
      "[LightGBM] [Warning] bagging_fraction is set=0.9494949494949496, subsample=1.0 will be ignored. Current value: bagging_fraction=0.9494949494949496\n",
      "[LightGBM] [Warning] Accuracy may be bad since you didn't explicitly set num_leaves OR 2^max_depth > num_leaves. (num_leaves=31).\n",
      "[LightGBM] [Warning] lambda_l1 is set=0.8358358358358359, reg_alpha=0.0 will be ignored. Current value: lambda_l1=0.8358358358358359\n",
      "[LightGBM] [Warning] feature_fraction is set=0.9242424242424243, colsample_bytree=1.0 will be ignored. Current value: feature_fraction=0.9242424242424243\n",
      "[LightGBM] [Warning] lambda_l2 is set=4.2992992992992995, reg_lambda=0.0 will be ignored. Current value: lambda_l2=4.2992992992992995\n",
      "[LightGBM] [Warning] bagging_fraction is set=0.9494949494949496, subsample=1.0 will be ignored. Current value: bagging_fraction=0.9494949494949496\n",
      "[LightGBM] [Warning] Accuracy may be bad since you didn't explicitly set num_leaves OR 2^max_depth > num_leaves. (num_leaves=31).\n",
      "[LightGBM] [Warning] lambda_l1 is set=0.8358358358358359, reg_alpha=0.0 will be ignored. Current value: lambda_l1=0.8358358358358359\n",
      "[LightGBM] [Warning] feature_fraction is set=0.9242424242424243, colsample_bytree=1.0 will be ignored. Current value: feature_fraction=0.9242424242424243\n",
      "[LightGBM] [Warning] lambda_l2 is set=4.2992992992992995, reg_lambda=0.0 will be ignored. Current value: lambda_l2=4.2992992992992995\n",
      "[LightGBM] [Warning] bagging_fraction is set=0.9494949494949496, subsample=1.0 will be ignored. Current value: bagging_fraction=0.9494949494949496\n",
      "[LightGBM] [Warning] Accuracy may be bad since you didn't explicitly set num_leaves OR 2^max_depth > num_leaves. (num_leaves=31).\n",
      "[LightGBM] [Warning] lambda_l1 is set=0.8358358358358359, reg_alpha=0.0 will be ignored. Current value: lambda_l1=0.8358358358358359\n",
      "[LightGBM] [Warning] feature_fraction is set=0.9242424242424243, colsample_bytree=1.0 will be ignored. Current value: feature_fraction=0.9242424242424243\n",
      "[LightGBM] [Warning] lambda_l2 is set=4.2992992992992995, reg_lambda=0.0 will be ignored. Current value: lambda_l2=4.2992992992992995\n",
      "[LightGBM] [Warning] bagging_fraction is set=0.9494949494949496, subsample=1.0 will be ignored. Current value: bagging_fraction=0.9494949494949496\n",
      "[LightGBM] [Warning] Accuracy may be bad since you didn't explicitly set num_leaves OR 2^max_depth > num_leaves. (num_leaves=31).\n"
     ]
    },
    {
     "name": "stderr",
     "output_type": "stream",
     "text": [
      "\n",
      "10it [00:00, 12.68it/s]\u001b[A\n",
      " 29%|██▊       | 2/7 [01:16<03:33, 42.69s/it][Parallel(n_jobs=56)]: Using backend LokyBackend with 56 concurrent workers.\n"
     ]
    },
    {
     "name": "stdout",
     "output_type": "stream",
     "text": [
      "kfold\n",
      "KNN\n",
      "RMSE\n",
      "lpo\n",
      "Fitting 10 folds for each of 250 candidates, totalling 2500 fits\n"
     ]
    },
    {
     "name": "stderr",
     "output_type": "stream",
     "text": [
      "[Parallel(n_jobs=56)]: Done  88 tasks      | elapsed:    0.4s\n",
      "[Parallel(n_jobs=56)]: Done 415 tasks      | elapsed:    0.9s\n",
      "[Parallel(n_jobs=56)]: Done 1115 tasks      | elapsed:    1.8s\n",
      "[Parallel(n_jobs=56)]: Done 2015 tasks      | elapsed:    2.8s\n",
      "[Parallel(n_jobs=56)]: Done 2389 out of 2500 | elapsed:    3.2s remaining:    0.2s\n",
      "[Parallel(n_jobs=56)]: Done 2500 out of 2500 | elapsed:    3.3s finished\n",
      "/home/agrigore/anaconda3/lib/python3.7/site-packages/sklearn/model_selection/_search.py:814: DeprecationWarning: The default of the `iid` parameter will change from True to False in version 0.22 and will be removed in 0.24. This will change numeric results when test-set sizes are unequal.\n",
      "  DeprecationWarning)\n",
      "\n",
      "10it [00:00, 269.81it/s]\n",
      "[Parallel(n_jobs=56)]: Using backend LokyBackend with 56 concurrent workers.\n"
     ]
    },
    {
     "name": "stdout",
     "output_type": "stream",
     "text": [
      "kfold\n",
      "MAPE\n",
      "lpo\n",
      "Fitting 10 folds for each of 250 candidates, totalling 2500 fits\n"
     ]
    },
    {
     "name": "stderr",
     "output_type": "stream",
     "text": [
      "[Parallel(n_jobs=56)]: Done  88 tasks      | elapsed:    0.3s\n",
      "[Parallel(n_jobs=56)]: Done 564 tasks      | elapsed:    0.9s\n",
      "[Parallel(n_jobs=56)]: Done 1264 tasks      | elapsed:    1.8s\n",
      "[Parallel(n_jobs=56)]: Done 2500 out of 2500 | elapsed:    2.8s finished\n",
      "/home/agrigore/anaconda3/lib/python3.7/site-packages/sklearn/model_selection/_search.py:814: DeprecationWarning: The default of the `iid` parameter will change from True to False in version 0.22 and will be removed in 0.24. This will change numeric results when test-set sizes are unequal.\n",
      "  DeprecationWarning)\n",
      "\n",
      "10it [00:00, 355.19it/s]\n",
      "[Parallel(n_jobs=56)]: Using backend LokyBackend with 56 concurrent workers.\n"
     ]
    },
    {
     "name": "stdout",
     "output_type": "stream",
     "text": [
      "kfold\n",
      "R2\n",
      "lpo\n",
      "Fitting 10 folds for each of 250 candidates, totalling 2500 fits\n"
     ]
    },
    {
     "name": "stderr",
     "output_type": "stream",
     "text": [
      "[Parallel(n_jobs=56)]: Done  88 tasks      | elapsed:    0.3s\n",
      "[Parallel(n_jobs=56)]: Done 2500 out of 2500 | elapsed:    1.1s finished\n",
      "/home/agrigore/anaconda3/lib/python3.7/site-packages/sklearn/model_selection/_search.py:814: DeprecationWarning: The default of the `iid` parameter will change from True to False in version 0.22 and will be removed in 0.24. This will change numeric results when test-set sizes are unequal.\n",
      "  DeprecationWarning)\n",
      "\n",
      "10it [00:00, 342.53it/s]\n",
      "[Parallel(n_jobs=56)]: Using backend LokyBackend with 56 concurrent workers.\n"
     ]
    },
    {
     "name": "stdout",
     "output_type": "stream",
     "text": [
      "kfold\n",
      "SMAPE\n",
      "lpo\n",
      "Fitting 10 folds for each of 250 candidates, totalling 2500 fits\n"
     ]
    },
    {
     "name": "stderr",
     "output_type": "stream",
     "text": [
      "[Parallel(n_jobs=56)]: Done  88 tasks      | elapsed:    0.3s\n",
      "[Parallel(n_jobs=56)]: Done 2500 out of 2500 | elapsed:    1.1s finished\n",
      "/home/agrigore/anaconda3/lib/python3.7/site-packages/sklearn/model_selection/_search.py:814: DeprecationWarning: The default of the `iid` parameter will change from True to False in version 0.22 and will be removed in 0.24. This will change numeric results when test-set sizes are unequal.\n",
      "  DeprecationWarning)\n",
      "\n",
      "10it [00:00, 354.26it/s]\n",
      "[Parallel(n_jobs=56)]: Using backend LokyBackend with 56 concurrent workers.\n"
     ]
    },
    {
     "name": "stdout",
     "output_type": "stream",
     "text": [
      "kfold\n",
      "logWD\n",
      "lpo\n",
      "Fitting 10 folds for each of 250 candidates, totalling 2500 fits\n"
     ]
    },
    {
     "name": "stderr",
     "output_type": "stream",
     "text": [
      "[Parallel(n_jobs=56)]: Done  88 tasks      | elapsed:    0.3s\n",
      "[Parallel(n_jobs=56)]: Done 2500 out of 2500 | elapsed:    1.1s finished\n",
      "/home/agrigore/anaconda3/lib/python3.7/site-packages/sklearn/model_selection/_search.py:814: DeprecationWarning: The default of the `iid` parameter will change from True to False in version 0.22 and will be removed in 0.24. This will change numeric results when test-set sizes are unequal.\n",
      "  DeprecationWarning)\n",
      "\n",
      "10it [00:00, 399.49it/s]\n",
      " 43%|████▎     | 3/7 [01:26<02:11, 32.80s/it][Parallel(n_jobs=56)]: Using backend LokyBackend with 56 concurrent workers.\n"
     ]
    },
    {
     "name": "stdout",
     "output_type": "stream",
     "text": [
      "kfold\n",
      "GBDT\n",
      "RMSE\n",
      "lpo\n",
      "Fitting 10 folds for each of 250 candidates, totalling 2500 fits\n"
     ]
    },
    {
     "name": "stderr",
     "output_type": "stream",
     "text": [
      "[Parallel(n_jobs=56)]: Done  88 tasks      | elapsed:    0.3s\n",
      "[Parallel(n_jobs=56)]: Done 564 tasks      | elapsed:    1.3s\n",
      "[Parallel(n_jobs=56)]: Done 1264 tasks      | elapsed:    2.5s\n",
      "[Parallel(n_jobs=56)]: Done 2164 tasks      | elapsed:    4.4s\n",
      "[Parallel(n_jobs=56)]: Done 2500 out of 2500 | elapsed:    5.2s finished\n",
      "/home/agrigore/anaconda3/lib/python3.7/site-packages/sklearn/model_selection/_search.py:814: DeprecationWarning: The default of the `iid` parameter will change from True to False in version 0.22 and will be removed in 0.24. This will change numeric results when test-set sizes are unequal.\n",
      "  DeprecationWarning)\n",
      "\n",
      "0it [00:00, ?it/s]\u001b[A\n",
      "4it [00:00, 30.51it/s]\u001b[A\n",
      "10it [00:00, 30.49it/s][A\n",
      "[Parallel(n_jobs=56)]: Using backend LokyBackend with 56 concurrent workers.\n"
     ]
    },
    {
     "name": "stdout",
     "output_type": "stream",
     "text": [
      "kfold\n",
      "MAPE\n",
      "lpo\n",
      "Fitting 10 folds for each of 250 candidates, totalling 2500 fits\n"
     ]
    },
    {
     "name": "stderr",
     "output_type": "stream",
     "text": [
      "[Parallel(n_jobs=56)]: Done  88 tasks      | elapsed:    0.4s\n",
      "[Parallel(n_jobs=56)]: Done 2500 out of 2500 | elapsed:    5.2s finished\n",
      "/home/agrigore/anaconda3/lib/python3.7/site-packages/sklearn/model_selection/_search.py:814: DeprecationWarning: The default of the `iid` parameter will change from True to False in version 0.22 and will be removed in 0.24. This will change numeric results when test-set sizes are unequal.\n",
      "  DeprecationWarning)\n",
      "\n",
      "0it [00:00, ?it/s]\u001b[A\n",
      "4it [00:00, 35.24it/s]\u001b[A\n",
      "10it [00:00, 34.40it/s][A\n",
      "[Parallel(n_jobs=56)]: Using backend LokyBackend with 56 concurrent workers.\n"
     ]
    },
    {
     "name": "stdout",
     "output_type": "stream",
     "text": [
      "kfold\n",
      "R2\n",
      "lpo\n",
      "Fitting 10 folds for each of 250 candidates, totalling 2500 fits\n"
     ]
    },
    {
     "name": "stderr",
     "output_type": "stream",
     "text": [
      "[Parallel(n_jobs=56)]: Done  88 tasks      | elapsed:    0.3s\n",
      "[Parallel(n_jobs=56)]: Done 1468 tasks      | elapsed:    2.7s\n",
      "[Parallel(n_jobs=56)]: Done 2500 out of 2500 | elapsed:    6.0s finished\n",
      "/home/agrigore/anaconda3/lib/python3.7/site-packages/sklearn/model_selection/_search.py:814: DeprecationWarning: The default of the `iid` parameter will change from True to False in version 0.22 and will be removed in 0.24. This will change numeric results when test-set sizes are unequal.\n",
      "  DeprecationWarning)\n",
      "\n",
      "0it [00:00, ?it/s]\u001b[A\n",
      "5it [00:00, 42.44it/s]\u001b[A\n",
      "10it [00:00, 42.18it/s]\u001b[A\n",
      "[Parallel(n_jobs=56)]: Using backend LokyBackend with 56 concurrent workers.\n"
     ]
    },
    {
     "name": "stdout",
     "output_type": "stream",
     "text": [
      "kfold\n",
      "SMAPE\n",
      "lpo\n",
      "Fitting 10 folds for each of 250 candidates, totalling 2500 fits\n"
     ]
    },
    {
     "name": "stderr",
     "output_type": "stream",
     "text": [
      "[Parallel(n_jobs=56)]: Done  88 tasks      | elapsed:    0.4s\n",
      "[Parallel(n_jobs=56)]: Done 1016 tasks      | elapsed:    2.0s\n",
      "[Parallel(n_jobs=56)]: Done 2500 out of 2500 | elapsed:    4.7s finished\n",
      "/home/agrigore/anaconda3/lib/python3.7/site-packages/sklearn/model_selection/_search.py:814: DeprecationWarning: The default of the `iid` parameter will change from True to False in version 0.22 and will be removed in 0.24. This will change numeric results when test-set sizes are unequal.\n",
      "  DeprecationWarning)\n",
      "\n",
      "0it [00:00, ?it/s]\u001b[A\n",
      "3it [00:00, 24.50it/s]\u001b[A\n",
      "6it [00:00, 24.66it/s]\u001b[A\n",
      "10it [00:00, 25.05it/s][A\n",
      "[Parallel(n_jobs=56)]: Using backend LokyBackend with 56 concurrent workers.\n"
     ]
    },
    {
     "name": "stdout",
     "output_type": "stream",
     "text": [
      "kfold\n",
      "logWD\n",
      "lpo\n",
      "Fitting 10 folds for each of 250 candidates, totalling 2500 fits\n"
     ]
    },
    {
     "name": "stderr",
     "output_type": "stream",
     "text": [
      "[Parallel(n_jobs=56)]: Done  88 tasks      | elapsed:    0.4s\n",
      "[Parallel(n_jobs=56)]: Done 1016 tasks      | elapsed:    2.0s\n",
      "[Parallel(n_jobs=56)]: Done 2500 out of 2500 | elapsed:    4.5s finished\n",
      "/home/agrigore/anaconda3/lib/python3.7/site-packages/sklearn/model_selection/_search.py:814: DeprecationWarning: The default of the `iid` parameter will change from True to False in version 0.22 and will be removed in 0.24. This will change numeric results when test-set sizes are unequal.\n",
      "  DeprecationWarning)\n",
      "\n",
      "0it [00:00, ?it/s]\u001b[A\n",
      "2it [00:00, 12.50it/s]\u001b[A\n",
      "4it [00:00, 12.53it/s]\u001b[A\n",
      "6it [00:00, 12.59it/s]\u001b[A\n",
      "8it [00:00, 12.64it/s]\u001b[A\n",
      "10it [00:00, 12.51it/s]\u001b[A\n",
      " 57%|█████▋    | 4/7 [01:54<01:34, 31.38s/it][Parallel(n_jobs=56)]: Using backend LokyBackend with 56 concurrent workers.\n"
     ]
    },
    {
     "name": "stdout",
     "output_type": "stream",
     "text": [
      "kfold\n",
      "LR\n",
      "RMSE\n",
      "lpo\n",
      "Fitting 10 folds for each of 250 candidates, totalling 2500 fits\n"
     ]
    },
    {
     "name": "stderr",
     "output_type": "stream",
     "text": [
      "[Parallel(n_jobs=56)]: Done  88 tasks      | elapsed:    0.3s\n",
      "[Parallel(n_jobs=56)]: Done 1016 tasks      | elapsed:    0.9s\n",
      "[Parallel(n_jobs=56)]: Done 2500 out of 2500 | elapsed:    1.9s finished\n",
      "/home/agrigore/anaconda3/lib/python3.7/site-packages/sklearn/model_selection/_search.py:814: DeprecationWarning: The default of the `iid` parameter will change from True to False in version 0.22 and will be removed in 0.24. This will change numeric results when test-set sizes are unequal.\n",
      "  DeprecationWarning)\n",
      "\n",
      "10it [00:00, 293.26it/s]\n",
      "[Parallel(n_jobs=56)]: Using backend LokyBackend with 56 concurrent workers.\n"
     ]
    },
    {
     "name": "stdout",
     "output_type": "stream",
     "text": [
      "kfold\n",
      "MAPE\n",
      "lpo\n",
      "Fitting 10 folds for each of 250 candidates, totalling 2500 fits\n"
     ]
    },
    {
     "name": "stderr",
     "output_type": "stream",
     "text": [
      "[Parallel(n_jobs=56)]: Done  88 tasks      | elapsed:    0.4s\n",
      "[Parallel(n_jobs=56)]: Done 2500 out of 2500 | elapsed:    1.1s finished\n",
      "/home/agrigore/anaconda3/lib/python3.7/site-packages/sklearn/model_selection/_search.py:814: DeprecationWarning: The default of the `iid` parameter will change from True to False in version 0.22 and will be removed in 0.24. This will change numeric results when test-set sizes are unequal.\n",
      "  DeprecationWarning)\n",
      "\n",
      "10it [00:00, 316.61it/s]\n",
      "[Parallel(n_jobs=56)]: Using backend LokyBackend with 56 concurrent workers.\n"
     ]
    },
    {
     "name": "stdout",
     "output_type": "stream",
     "text": [
      "kfold\n",
      "R2\n",
      "lpo\n",
      "Fitting 10 folds for each of 250 candidates, totalling 2500 fits\n"
     ]
    },
    {
     "name": "stderr",
     "output_type": "stream",
     "text": [
      "[Parallel(n_jobs=56)]: Done  88 tasks      | elapsed:    0.4s\n",
      "[Parallel(n_jobs=56)]: Done 2500 out of 2500 | elapsed:    1.1s finished\n",
      "\n",
      "10it [00:00, 287.23it/s]\n",
      "[Parallel(n_jobs=56)]: Using backend LokyBackend with 56 concurrent workers.\n"
     ]
    },
    {
     "name": "stdout",
     "output_type": "stream",
     "text": [
      "kfold\n",
      "SMAPE\n",
      "lpo\n",
      "Fitting 10 folds for each of 250 candidates, totalling 2500 fits\n"
     ]
    },
    {
     "name": "stderr",
     "output_type": "stream",
     "text": [
      "[Parallel(n_jobs=56)]: Done  88 tasks      | elapsed:    0.4s\n",
      "[Parallel(n_jobs=56)]: Done 2500 out of 2500 | elapsed:    1.1s finished\n",
      "/home/agrigore/anaconda3/lib/python3.7/site-packages/sklearn/model_selection/_search.py:814: DeprecationWarning: The default of the `iid` parameter will change from True to False in version 0.22 and will be removed in 0.24. This will change numeric results when test-set sizes are unequal.\n",
      "  DeprecationWarning)\n",
      "\n",
      "10it [00:00, 291.80it/s]\n",
      "[Parallel(n_jobs=56)]: Using backend LokyBackend with 56 concurrent workers.\n"
     ]
    },
    {
     "name": "stdout",
     "output_type": "stream",
     "text": [
      "kfold\n",
      "logWD\n",
      "lpo\n",
      "Fitting 10 folds for each of 250 candidates, totalling 2500 fits\n"
     ]
    },
    {
     "name": "stderr",
     "output_type": "stream",
     "text": [
      "[Parallel(n_jobs=56)]: Done  88 tasks      | elapsed:    0.5s\n",
      "[Parallel(n_jobs=56)]: Done 2500 out of 2500 | elapsed:    1.2s finished\n",
      "/home/agrigore/anaconda3/lib/python3.7/site-packages/sklearn/model_selection/_search.py:814: DeprecationWarning: The default of the `iid` parameter will change from True to False in version 0.22 and will be removed in 0.24. This will change numeric results when test-set sizes are unequal.\n",
      "  DeprecationWarning)\n",
      "/home/agrigore/anaconda3/lib/python3.7/site-packages/sklearn/linear_model/ridge.py:147: LinAlgWarning: Ill-conditioned matrix (rcond=1.08973e-16): result may not be accurate.\n",
      "  overwrite_a=True).T\n",
      "\n",
      "10it [00:00, 352.74it/s]\n",
      " 71%|███████▏  | 5/7 [02:01<00:47, 23.99s/it][Parallel(n_jobs=56)]: Using backend LokyBackend with 56 concurrent workers.\n"
     ]
    },
    {
     "name": "stdout",
     "output_type": "stream",
     "text": [
      "kfold\n",
      "BR\n",
      "RMSE\n",
      "lpo\n",
      "Fitting 10 folds for each of 250 candidates, totalling 2500 fits\n"
     ]
    },
    {
     "name": "stderr",
     "output_type": "stream",
     "text": [
      "[Parallel(n_jobs=56)]: Done  88 tasks      | elapsed:    0.4s\n",
      "[Parallel(n_jobs=56)]: Done 2500 out of 2500 | elapsed:    1.4s finished\n",
      "\n",
      "10it [00:00, 219.74it/s]\n",
      "[Parallel(n_jobs=56)]: Using backend LokyBackend with 56 concurrent workers.\n",
      "[Parallel(n_jobs=56)]: Done  16 tasks      | elapsed:    0.1s\n"
     ]
    },
    {
     "name": "stdout",
     "output_type": "stream",
     "text": [
      "kfold\n",
      "MAPE\n",
      "lpo\n",
      "Fitting 10 folds for each of 250 candidates, totalling 2500 fits\n"
     ]
    },
    {
     "name": "stderr",
     "output_type": "stream",
     "text": [
      "[Parallel(n_jobs=56)]: Done 2500 out of 2500 | elapsed:    0.9s finished\n",
      "/home/agrigore/anaconda3/lib/python3.7/site-packages/sklearn/model_selection/_search.py:814: DeprecationWarning: The default of the `iid` parameter will change from True to False in version 0.22 and will be removed in 0.24. This will change numeric results when test-set sizes are unequal.\n",
      "  DeprecationWarning)\n",
      "\n",
      "10it [00:00, 146.60it/s]\n",
      "[Parallel(n_jobs=56)]: Using backend LokyBackend with 56 concurrent workers.\n"
     ]
    },
    {
     "name": "stdout",
     "output_type": "stream",
     "text": [
      "kfold\n",
      "R2\n",
      "lpo\n",
      "Fitting 10 folds for each of 250 candidates, totalling 2500 fits\n"
     ]
    },
    {
     "name": "stderr",
     "output_type": "stream",
     "text": [
      "[Parallel(n_jobs=56)]: Done  88 tasks      | elapsed:    0.4s\n",
      "[Parallel(n_jobs=56)]: Done 2500 out of 2500 | elapsed:    1.3s finished\n",
      "/home/agrigore/anaconda3/lib/python3.7/site-packages/sklearn/model_selection/_search.py:814: DeprecationWarning: The default of the `iid` parameter will change from True to False in version 0.22 and will be removed in 0.24. This will change numeric results when test-set sizes are unequal.\n",
      "  DeprecationWarning)\n",
      "\n",
      "10it [00:00, 250.24it/s]\n",
      "[Parallel(n_jobs=56)]: Using backend LokyBackend with 56 concurrent workers.\n"
     ]
    },
    {
     "name": "stdout",
     "output_type": "stream",
     "text": [
      "kfold\n",
      "SMAPE\n",
      "lpo\n",
      "Fitting 10 folds for each of 250 candidates, totalling 2500 fits\n"
     ]
    },
    {
     "name": "stderr",
     "output_type": "stream",
     "text": [
      "[Parallel(n_jobs=56)]: Done  88 tasks      | elapsed:    0.4s\n",
      "[Parallel(n_jobs=56)]: Done 2500 out of 2500 | elapsed:    1.4s finished\n",
      "\n",
      "10it [00:00, 250.32it/s]\n",
      "[Parallel(n_jobs=56)]: Using backend LokyBackend with 56 concurrent workers.\n"
     ]
    },
    {
     "name": "stdout",
     "output_type": "stream",
     "text": [
      "kfold\n",
      "logWD\n",
      "lpo\n",
      "Fitting 10 folds for each of 250 candidates, totalling 2500 fits\n"
     ]
    },
    {
     "name": "stderr",
     "output_type": "stream",
     "text": [
      "[Parallel(n_jobs=56)]: Done  88 tasks      | elapsed:    0.4s\n",
      "[Parallel(n_jobs=56)]: Done 2500 out of 2500 | elapsed:    1.2s finished\n",
      "\n",
      "10it [00:00, 264.84it/s]\n",
      " 86%|████████▌ | 6/7 [02:07<00:18, 18.80s/it][Parallel(n_jobs=56)]: Using backend LokyBackend with 56 concurrent workers.\n"
     ]
    },
    {
     "name": "stdout",
     "output_type": "stream",
     "text": [
      "kfold\n",
      "RF\n",
      "RMSE\n",
      "lpo\n",
      "Fitting 10 folds for each of 250 candidates, totalling 2500 fits\n"
     ]
    },
    {
     "name": "stderr",
     "output_type": "stream",
     "text": [
      "[Parallel(n_jobs=56)]: Done  88 tasks      | elapsed:    0.7s\n",
      "[Parallel(n_jobs=56)]: Done 338 tasks      | elapsed:    2.1s\n",
      "[Parallel(n_jobs=56)]: Done 688 tasks      | elapsed:    4.1s\n",
      "[Parallel(n_jobs=56)]: Done 1138 tasks      | elapsed:    7.1s\n",
      "[Parallel(n_jobs=56)]: Done 1688 tasks      | elapsed:   10.8s\n",
      "[Parallel(n_jobs=56)]: Done 2338 tasks      | elapsed:   15.0s\n",
      "[Parallel(n_jobs=56)]: Done 2500 out of 2500 | elapsed:   16.4s finished\n",
      "/home/agrigore/anaconda3/lib/python3.7/site-packages/sklearn/model_selection/_search.py:814: DeprecationWarning: The default of the `iid` parameter will change from True to False in version 0.22 and will be removed in 0.24. This will change numeric results when test-set sizes are unequal.\n",
      "  DeprecationWarning)\n",
      "\n",
      "0it [00:00, ?it/s]\u001b[A\n",
      "3it [00:00, 25.96it/s]\u001b[A\n",
      "6it [00:00, 26.19it/s]\u001b[A\n",
      "10it [00:00, 26.41it/s][A\n",
      "[Parallel(n_jobs=56)]: Using backend LokyBackend with 56 concurrent workers.\n"
     ]
    },
    {
     "name": "stdout",
     "output_type": "stream",
     "text": [
      "kfold\n",
      "MAPE\n",
      "lpo\n",
      "Fitting 10 folds for each of 250 candidates, totalling 2500 fits\n"
     ]
    },
    {
     "name": "stderr",
     "output_type": "stream",
     "text": [
      "[Parallel(n_jobs=56)]: Done  88 tasks      | elapsed:    0.7s\n",
      "[Parallel(n_jobs=56)]: Done 338 tasks      | elapsed:    2.3s\n",
      "[Parallel(n_jobs=56)]: Done 688 tasks      | elapsed:    4.4s\n",
      "[Parallel(n_jobs=56)]: Done 1138 tasks      | elapsed:    7.6s\n",
      "[Parallel(n_jobs=56)]: Done 1688 tasks      | elapsed:   11.9s\n",
      "[Parallel(n_jobs=56)]: Done 2338 tasks      | elapsed:   16.4s\n",
      "[Parallel(n_jobs=56)]: Done 2500 out of 2500 | elapsed:   17.4s finished\n",
      "/home/agrigore/anaconda3/lib/python3.7/site-packages/sklearn/model_selection/_search.py:814: DeprecationWarning: The default of the `iid` parameter will change from True to False in version 0.22 and will be removed in 0.24. This will change numeric results when test-set sizes are unequal.\n",
      "  DeprecationWarning)\n",
      "\n",
      "0it [00:00, ?it/s]\u001b[A\n",
      "2it [00:00, 11.29it/s]\u001b[A\n",
      "4it [00:00, 11.38it/s]\u001b[A\n",
      "6it [00:00, 11.44it/s]\u001b[A\n",
      "8it [00:00, 11.56it/s]\u001b[A\n",
      "10it [00:00, 11.64it/s]\u001b[A\n",
      "[Parallel(n_jobs=56)]: Using backend LokyBackend with 56 concurrent workers.\n"
     ]
    },
    {
     "name": "stdout",
     "output_type": "stream",
     "text": [
      "kfold\n",
      "R2\n",
      "lpo\n",
      "Fitting 10 folds for each of 250 candidates, totalling 2500 fits\n"
     ]
    },
    {
     "name": "stderr",
     "output_type": "stream",
     "text": [
      "[Parallel(n_jobs=56)]: Done  93 tasks      | elapsed:    0.7s\n",
      "[Parallel(n_jobs=56)]: Done 564 tasks      | elapsed:    3.3s\n",
      "[Parallel(n_jobs=56)]: Done 1263 tasks      | elapsed:    8.0s\n",
      "[Parallel(n_jobs=56)]: Done 1722 tasks      | elapsed:   11.2s\n",
      "[Parallel(n_jobs=56)]: Done 2272 tasks      | elapsed:   14.6s\n",
      "[Parallel(n_jobs=56)]: Done 2500 out of 2500 | elapsed:   16.5s finished\n",
      "/home/agrigore/anaconda3/lib/python3.7/site-packages/sklearn/model_selection/_search.py:814: DeprecationWarning: The default of the `iid` parameter will change from True to False in version 0.22 and will be removed in 0.24. This will change numeric results when test-set sizes are unequal.\n",
      "  DeprecationWarning)\n",
      "\n",
      "0it [00:00, ?it/s]\u001b[A\n",
      "1it [00:00,  6.24it/s]\u001b[A\n",
      "2it [00:00,  6.25it/s]\u001b[A\n",
      "3it [00:00,  6.28it/s]\u001b[A\n",
      "4it [00:00,  6.29it/s]\u001b[A\n",
      "5it [00:00,  6.34it/s]\u001b[A\n",
      "6it [00:00,  6.36it/s]\u001b[A\n",
      "7it [00:01,  6.35it/s]\u001b[A\n",
      "8it [00:01,  6.34it/s]\u001b[A\n",
      "9it [00:01,  6.35it/s]\u001b[A\n",
      "10it [00:01,  6.35it/s]\u001b[A\n",
      "[Parallel(n_jobs=56)]: Using backend LokyBackend with 56 concurrent workers.\n"
     ]
    },
    {
     "name": "stdout",
     "output_type": "stream",
     "text": [
      "kfold\n",
      "SMAPE\n",
      "lpo\n",
      "Fitting 10 folds for each of 250 candidates, totalling 2500 fits\n"
     ]
    },
    {
     "name": "stderr",
     "output_type": "stream",
     "text": [
      "[Parallel(n_jobs=56)]: Done  88 tasks      | elapsed:    0.7s\n",
      "[Parallel(n_jobs=56)]: Done 338 tasks      | elapsed:    2.5s\n",
      "[Parallel(n_jobs=56)]: Done 688 tasks      | elapsed:    5.3s\n",
      "[Parallel(n_jobs=56)]: Done 1138 tasks      | elapsed:    8.3s\n",
      "[Parallel(n_jobs=56)]: Done 1688 tasks      | elapsed:   11.7s\n",
      "[Parallel(n_jobs=56)]: Done 2338 tasks      | elapsed:   15.7s\n",
      "[Parallel(n_jobs=56)]: Done 2500 out of 2500 | elapsed:   16.9s finished\n",
      "/home/agrigore/anaconda3/lib/python3.7/site-packages/sklearn/model_selection/_search.py:814: DeprecationWarning: The default of the `iid` parameter will change from True to False in version 0.22 and will be removed in 0.24. This will change numeric results when test-set sizes are unequal.\n",
      "  DeprecationWarning)\n",
      "\n",
      "0it [00:00, ?it/s]\u001b[A\n",
      "1it [00:00,  7.74it/s]\u001b[A\n",
      "2it [00:00,  7.87it/s]\u001b[A\n",
      "3it [00:00,  7.91it/s]\u001b[A\n",
      "4it [00:00,  7.86it/s]\u001b[A\n",
      "5it [00:00,  7.83it/s]\u001b[A\n",
      "6it [00:00,  7.91it/s]\u001b[A\n",
      "7it [00:00,  7.84it/s]\u001b[A\n",
      "8it [00:01,  7.76it/s]\u001b[A\n",
      "9it [00:01,  7.76it/s]\u001b[A\n",
      "10it [00:01,  7.82it/s]\u001b[A\n",
      "[Parallel(n_jobs=56)]: Using backend LokyBackend with 56 concurrent workers.\n"
     ]
    },
    {
     "name": "stdout",
     "output_type": "stream",
     "text": [
      "kfold\n",
      "logWD\n",
      "lpo\n",
      "Fitting 10 folds for each of 250 candidates, totalling 2500 fits\n"
     ]
    },
    {
     "name": "stderr",
     "output_type": "stream",
     "text": [
      "[Parallel(n_jobs=56)]: Done  88 tasks      | elapsed:    0.9s\n",
      "[Parallel(n_jobs=56)]: Done 564 tasks      | elapsed:    3.8s\n",
      "[Parallel(n_jobs=56)]: Done 1020 tasks      | elapsed:    6.7s\n",
      "[Parallel(n_jobs=56)]: Done 1470 tasks      | elapsed:    9.4s\n",
      "[Parallel(n_jobs=56)]: Done 2020 tasks      | elapsed:   12.7s\n",
      "[Parallel(n_jobs=56)]: Done 2500 out of 2500 | elapsed:   15.9s finished\n",
      "/home/agrigore/anaconda3/lib/python3.7/site-packages/sklearn/model_selection/_search.py:814: DeprecationWarning: The default of the `iid` parameter will change from True to False in version 0.22 and will be removed in 0.24. This will change numeric results when test-set sizes are unequal.\n",
      "  DeprecationWarning)\n",
      "\n",
      "0it [00:00, ?it/s]\u001b[A\n",
      "2it [00:00, 18.10it/s]\u001b[A\n",
      "4it [00:00, 18.21it/s]\u001b[A\n",
      "6it [00:00, 18.15it/s]\u001b[A\n",
      "8it [00:00, 18.18it/s]\u001b[A\n",
      "10it [00:00, 18.23it/s]\u001b[A\n",
      "100%|██████████| 7/7 [03:36<00:00, 30.90s/it]"
     ]
    },
    {
     "name": "stdout",
     "output_type": "stream",
     "text": [
      "kfold\n"
     ]
    },
    {
     "name": "stderr",
     "output_type": "stream",
     "text": [
      "\n"
     ]
    }
   ],
   "source": [
    "X,Y = getBFS(part=[0,-1],dataset='sf')\n",
    "\n",
    "RESULTS = []\n",
    "for experiment in ['AtoA','AtoB','BtoA','AlltoA','AlltoB','AlltoAll']:\n",
    "    import tqdm\n",
    "    for O in tqdm.tqdm(OPTIMIZER):\n",
    "        print(O['name'])\n",
    "        for M in METRIC:\n",
    "            print(M['name'])\n",
    "            print('lpo')\n",
    "            #EVAL2 populates RESULTS list\n",
    "            EVAL2(O,M,setup=experiment,dataset='sf',TH=40,log=False,qtran=False)"
   ]
  },
  {
   "cell_type": "code",
   "execution_count": 20,
   "metadata": {},
   "outputs": [
    {
     "data": {
      "text/html": [
       "<div>\n",
       "<style scoped>\n",
       "    .dataframe tbody tr th:only-of-type {\n",
       "        vertical-align: middle;\n",
       "    }\n",
       "\n",
       "    .dataframe tbody tr th {\n",
       "        vertical-align: top;\n",
       "    }\n",
       "\n",
       "    .dataframe thead th {\n",
       "        text-align: right;\n",
       "    }\n",
       "</style>\n",
       "<table border=\"1\" class=\"dataframe\">\n",
       "  <thead>\n",
       "    <tr style=\"text-align: right;\">\n",
       "      <th></th>\n",
       "      <th>Optimizer</th>\n",
       "      <th>Training</th>\n",
       "      <th>mape</th>\n",
       "      <th>smape</th>\n",
       "      <th>csmape</th>\n",
       "      <th>r2</th>\n",
       "      <th>r2abs</th>\n",
       "      <th>mse</th>\n",
       "      <th>WD</th>\n",
       "      <th>folding</th>\n",
       "    </tr>\n",
       "  </thead>\n",
       "  <tbody>\n",
       "    <tr>\n",
       "      <td>0</td>\n",
       "      <td>XGB</td>\n",
       "      <td>RMSE</td>\n",
       "      <td>65.257056</td>\n",
       "      <td>46.831741</td>\n",
       "      <td>63.611916</td>\n",
       "      <td>-0.045706</td>\n",
       "      <td>0.045706</td>\n",
       "      <td>140.452420</td>\n",
       "      <td>6.160600</td>\n",
       "      <td>KF</td>\n",
       "    </tr>\n",
       "    <tr>\n",
       "      <td>1</td>\n",
       "      <td>XGB</td>\n",
       "      <td>RMSE</td>\n",
       "      <td>52.956125</td>\n",
       "      <td>38.097111</td>\n",
       "      <td>47.899022</td>\n",
       "      <td>-0.022714</td>\n",
       "      <td>0.022714</td>\n",
       "      <td>98.325785</td>\n",
       "      <td>5.161770</td>\n",
       "      <td>KF</td>\n",
       "    </tr>\n",
       "    <tr>\n",
       "      <td>2</td>\n",
       "      <td>XGB</td>\n",
       "      <td>RMSE</td>\n",
       "      <td>72.759959</td>\n",
       "      <td>48.919465</td>\n",
       "      <td>71.457445</td>\n",
       "      <td>-0.204415</td>\n",
       "      <td>0.204415</td>\n",
       "      <td>159.873529</td>\n",
       "      <td>6.903147</td>\n",
       "      <td>KF</td>\n",
       "    </tr>\n",
       "    <tr>\n",
       "      <td>3</td>\n",
       "      <td>XGB</td>\n",
       "      <td>RMSE</td>\n",
       "      <td>90.419278</td>\n",
       "      <td>59.202514</td>\n",
       "      <td>88.601153</td>\n",
       "      <td>-0.412441</td>\n",
       "      <td>0.412441</td>\n",
       "      <td>218.738070</td>\n",
       "      <td>6.934836</td>\n",
       "      <td>KF</td>\n",
       "    </tr>\n",
       "    <tr>\n",
       "      <td>4</td>\n",
       "      <td>XGB</td>\n",
       "      <td>RMSE</td>\n",
       "      <td>54.548364</td>\n",
       "      <td>41.717375</td>\n",
       "      <td>51.096861</td>\n",
       "      <td>0.005795</td>\n",
       "      <td>0.005795</td>\n",
       "      <td>97.675589</td>\n",
       "      <td>5.699479</td>\n",
       "      <td>KF</td>\n",
       "    </tr>\n",
       "    <tr>\n",
       "      <td>...</td>\n",
       "      <td>...</td>\n",
       "      <td>...</td>\n",
       "      <td>...</td>\n",
       "      <td>...</td>\n",
       "      <td>...</td>\n",
       "      <td>...</td>\n",
       "      <td>...</td>\n",
       "      <td>...</td>\n",
       "      <td>...</td>\n",
       "      <td>...</td>\n",
       "    </tr>\n",
       "    <tr>\n",
       "      <td>345</td>\n",
       "      <td>RF</td>\n",
       "      <td>logWD</td>\n",
       "      <td>85.060817</td>\n",
       "      <td>51.049506</td>\n",
       "      <td>83.294951</td>\n",
       "      <td>-0.149792</td>\n",
       "      <td>0.149792</td>\n",
       "      <td>145.187343</td>\n",
       "      <td>6.996993</td>\n",
       "      <td>KF</td>\n",
       "    </tr>\n",
       "    <tr>\n",
       "      <td>346</td>\n",
       "      <td>RF</td>\n",
       "      <td>logWD</td>\n",
       "      <td>66.615789</td>\n",
       "      <td>42.844265</td>\n",
       "      <td>61.745165</td>\n",
       "      <td>0.074288</td>\n",
       "      <td>0.074288</td>\n",
       "      <td>114.912266</td>\n",
       "      <td>7.098569</td>\n",
       "      <td>KF</td>\n",
       "    </tr>\n",
       "    <tr>\n",
       "      <td>347</td>\n",
       "      <td>RF</td>\n",
       "      <td>logWD</td>\n",
       "      <td>50.977088</td>\n",
       "      <td>39.572994</td>\n",
       "      <td>49.685731</td>\n",
       "      <td>0.024723</td>\n",
       "      <td>0.024723</td>\n",
       "      <td>115.159094</td>\n",
       "      <td>6.360667</td>\n",
       "      <td>KF</td>\n",
       "    </tr>\n",
       "    <tr>\n",
       "      <td>348</td>\n",
       "      <td>RF</td>\n",
       "      <td>logWD</td>\n",
       "      <td>64.249472</td>\n",
       "      <td>41.374748</td>\n",
       "      <td>62.515225</td>\n",
       "      <td>-0.085491</td>\n",
       "      <td>0.085491</td>\n",
       "      <td>113.218974</td>\n",
       "      <td>6.281806</td>\n",
       "      <td>KF</td>\n",
       "    </tr>\n",
       "    <tr>\n",
       "      <td>349</td>\n",
       "      <td>RF</td>\n",
       "      <td>logWD</td>\n",
       "      <td>68.434475</td>\n",
       "      <td>45.212963</td>\n",
       "      <td>63.425153</td>\n",
       "      <td>-0.006286</td>\n",
       "      <td>0.006286</td>\n",
       "      <td>124.626685</td>\n",
       "      <td>6.640783</td>\n",
       "      <td>KF</td>\n",
       "    </tr>\n",
       "  </tbody>\n",
       "</table>\n",
       "<p>350 rows × 10 columns</p>\n",
       "</div>"
      ],
      "text/plain": [
       "    Optimizer Training       mape      smape     csmape        r2     r2abs  \\\n",
       "0         XGB     RMSE  65.257056  46.831741  63.611916 -0.045706  0.045706   \n",
       "1         XGB     RMSE  52.956125  38.097111  47.899022 -0.022714  0.022714   \n",
       "2         XGB     RMSE  72.759959  48.919465  71.457445 -0.204415  0.204415   \n",
       "3         XGB     RMSE  90.419278  59.202514  88.601153 -0.412441  0.412441   \n",
       "4         XGB     RMSE  54.548364  41.717375  51.096861  0.005795  0.005795   \n",
       "..        ...      ...        ...        ...        ...       ...       ...   \n",
       "345        RF    logWD  85.060817  51.049506  83.294951 -0.149792  0.149792   \n",
       "346        RF    logWD  66.615789  42.844265  61.745165  0.074288  0.074288   \n",
       "347        RF    logWD  50.977088  39.572994  49.685731  0.024723  0.024723   \n",
       "348        RF    logWD  64.249472  41.374748  62.515225 -0.085491  0.085491   \n",
       "349        RF    logWD  68.434475  45.212963  63.425153 -0.006286  0.006286   \n",
       "\n",
       "            mse        WD folding  \n",
       "0    140.452420  6.160600      KF  \n",
       "1     98.325785  5.161770      KF  \n",
       "2    159.873529  6.903147      KF  \n",
       "3    218.738070  6.934836      KF  \n",
       "4     97.675589  5.699479      KF  \n",
       "..          ...       ...     ...  \n",
       "345  145.187343  6.996993      KF  \n",
       "346  114.912266  7.098569      KF  \n",
       "347  115.159094  6.360667      KF  \n",
       "348  113.218974  6.281806      KF  \n",
       "349  124.626685  6.640783      KF  \n",
       "\n",
       "[350 rows x 10 columns]"
      ]
     },
     "execution_count": 20,
     "metadata": {},
     "output_type": "execute_result"
    }
   ],
   "source": [
    "RESULTS\n",
    "RES = pd.DataFrame(RESULTS)\n",
    "RES.to_csv(\"extrapolation.csv\",index=false)"
   ]
  }
 ],
 "metadata": {
  "kernelspec": {
   "display_name": "Python 3 (ipykernel)",
   "language": "python",
   "name": "python3"
  },
  "language_info": {
   "codemirror_mode": {
    "name": "ipython",
    "version": 3
   },
   "file_extension": ".py",
   "mimetype": "text/x-python",
   "name": "python",
   "nbconvert_exporter": "python",
   "pygments_lexer": "ipython3",
   "version": "3.10.4"
  }
 },
 "nbformat": 4,
 "nbformat_minor": 4
}
