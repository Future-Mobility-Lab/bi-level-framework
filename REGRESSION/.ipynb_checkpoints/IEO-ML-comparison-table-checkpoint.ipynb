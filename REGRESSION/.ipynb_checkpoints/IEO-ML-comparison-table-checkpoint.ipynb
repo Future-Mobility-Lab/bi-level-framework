{
 "cells": [
  {
   "cell_type": "code",
   "execution_count": 1,
   "metadata": {},
   "outputs": [],
   "source": [
    "import pandas as pd"
   ]
  },
  {
   "cell_type": "code",
   "execution_count": 11,
   "metadata": {},
   "outputs": [],
   "source": [
    "dt=pd.read_csv('regresSF2_AlltoAll.csv')"
   ]
  },
  {
   "cell_type": "code",
   "execution_count": 12,
   "metadata": {},
   "outputs": [],
   "source": [
    "orig = dt[dt['Model'].apply(lambda v: 'orig' in v)].reset_index().drop('index',axis=1)['MAPE'].min()\n",
    "LT = dt[dt['Model'].apply(lambda v: 'LT' in v)].reset_index().drop('index',axis=1)['MAPE'].min()\n",
    "intra = dt[dt['Model'].apply(lambda v: '-i' in v)].reset_index().drop('index',axis=1)['MAPE'].min()\n",
    "extra = dt[dt['Model'].apply(lambda v: '-e' in v)].reset_index().drop('index',axis=1)['MAPE'].min()\n",
    "IF = dt[dt['Model'].apply(lambda v: 'IF' in v)].reset_index().drop('index',axis=1)['MAPE'].min()\n",
    "LOF = dt[dt['Model'].apply(lambda v: 'LOF' in v)].reset_index().drop('index',axis=1)['MAPE'].min()\n",
    "eLOF = dt[dt['Model'].apply(lambda v: '-eLOF' in v)].reset_index().drop('index',axis=1)['MAPE'].min()\n",
    "eIF = dt[dt['Model'].apply(lambda v: '-eIF' in v)].reset_index().drop('index',axis=1)['MAPE'].min()\n",
    "iIF = dt[dt['Model'].apply(lambda v: '-iLOF' in v)].reset_index().drop('index',axis=1)['MAPE'].min()\n",
    "iLOF = dt[dt['Model'].apply(lambda v: '-iIF' in v)].reset_index().drop('index',axis=1)['MAPE'].min()"
   ]
  },
  {
   "cell_type": "code",
   "execution_count": 13,
   "metadata": {},
   "outputs": [
    {
     "name": "stdout",
     "output_type": "stream",
     "text": [
      "LGBM;30.6;29.6;32.2;30.9;31.0;33.7;\n",
      "RF;38.2;28.4;39.3;38.9;36.1;36.4;\n",
      "LR;131.4;70.9;133.0;133.1;127.6;127.3;\n",
      "GBDT;43.4;30.1;45.3;44.9;43.9;42.2;\n",
      "KNN;64.0;47.3;64.0;63.9;61.7;62.8;\n",
      "XGB;38.0;31.7;36.8;35.6;33.7;38.6;\n",
      "\n"
     ]
    },
    {
     "name": "stderr",
     "output_type": "stream",
     "text": [
      "/home/agrigore/anaconda3/lib/python3.7/site-packages/ipykernel_launcher.py:6: UserWarning: Boolean Series key will be reindexed to match DataFrame index.\n",
      "  \n"
     ]
    }
   ],
   "source": [
    "import numpy as np\n",
    "LINE=''\n",
    "for model in ['LGBM','RF','LR','GBDT','KNN','XGB']:\n",
    "    LINE+=model+';'\n",
    "    for suffix in ['-orig','-LT','-iIF','-eIF','-iLOF','-eLOF']:\n",
    "        LINE += str(np.round(dt[dt.Metric=='MAPE'][dt.Model==model+suffix]['MAPE'].values[0],1))+';'\n",
    "    LINE+='\\n'\n",
    "print(LINE)"
   ]
  },
  {
   "cell_type": "code",
   "execution_count": null,
   "metadata": {},
   "outputs": [],
   "source": []
  },
  {
   "cell_type": "code",
   "execution_count": 1,
   "metadata": {},
   "outputs": [],
   "source": [
    "import pandas as pd"
   ]
  },
  {
   "cell_type": "code",
   "execution_count": 8,
   "metadata": {},
   "outputs": [],
   "source": [
    "dt=pd.read_csv('regresM3_AlltoAll.csv')"
   ]
  },
  {
   "cell_type": "code",
   "execution_count": 9,
   "metadata": {},
   "outputs": [],
   "source": [
    "# orig = dt[dt['Model'].apply(lambda v: 'orig' in v)].reset_index().drop('index',axis=1)['MAPE'].min()\n",
    "# LT = dt[dt['Model'].apply(lambda v: 'LT' in v)].reset_index().drop('index',axis=1)['MAPE'].min()\n",
    "intra = dt[dt['Model'].apply(lambda v: '-i' in v)].reset_index().drop('index',axis=1)['MAPE'].min()\n",
    "extra = dt[dt['Model'].apply(lambda v: '-e' in v)].reset_index().drop('index',axis=1)['MAPE'].min()\n",
    "IF = dt[dt['Model'].apply(lambda v: 'IF' in v)].reset_index().drop('index',axis=1)['MAPE'].min()\n",
    "LOF = dt[dt['Model'].apply(lambda v: 'LOF' in v)].reset_index().drop('index',axis=1)['MAPE'].min()\n",
    "eLOF = dt[dt['Model'].apply(lambda v: '-eLOF' in v)].reset_index().drop('index',axis=1)['MAPE'].min()\n",
    "eIF = dt[dt['Model'].apply(lambda v: '-eIF' in v)].reset_index().drop('index',axis=1)['MAPE'].min()\n",
    "iIF = dt[dt['Model'].apply(lambda v: '-iLOF' in v)].reset_index().drop('index',axis=1)['MAPE'].min()\n",
    "iLOF = dt[dt['Model'].apply(lambda v: '-iIF' in v)].reset_index().drop('index',axis=1)['MAPE'].min()"
   ]
  },
  {
   "cell_type": "code",
   "execution_count": 10,
   "metadata": {},
   "outputs": [
    {
     "name": "stdout",
     "output_type": "stream",
     "text": [
      "LGBM;123.2;121.7;122.4;116.0;\n",
      "RF;127.9;118.3;126.0;120.5;\n",
      "LR;131.3;121.6;130.4;123.3;\n",
      "GBDT;126.1;122.9;125.6;118.6;\n",
      "KNN;130.1;128.9;130.6;119.8;\n",
      "XGB;77.2;80.1;78.6;80.7;\n",
      "\n"
     ]
    },
    {
     "name": "stderr",
     "output_type": "stream",
     "text": [
      "/home/agrigore/anaconda3/lib/python3.7/site-packages/ipykernel_launcher.py:6: UserWarning: Boolean Series key will be reindexed to match DataFrame index.\n",
      "  \n"
     ]
    }
   ],
   "source": [
    "import numpy as np\n",
    "LINE=''\n",
    "for model in ['LGBM','RF','LR','GBDT','KNN','XGB']:\n",
    "    LINE+=model+';'\n",
    "    for suffix in ['-iIF','-eIF','-iLOF','-eLOF']:\n",
    "        LINE += str(np.round(dt[dt.Metric=='MAPE'][dt.Model==model+suffix]['MAPE'].values[0],1))+';'\n",
    "    LINE+='\\n'\n",
    "print(LINE)"
   ]
  },
  {
   "cell_type": "code",
   "execution_count": null,
   "metadata": {},
   "outputs": [],
   "source": []
  },
  {
   "cell_type": "code",
   "execution_count": null,
   "metadata": {},
   "outputs": [],
   "source": []
  },
  {
   "cell_type": "code",
   "execution_count": null,
   "metadata": {},
   "outputs": [],
   "source": []
  },
  {
   "cell_type": "code",
   "execution_count": null,
   "metadata": {},
   "outputs": [],
   "source": []
  },
  {
   "cell_type": "code",
   "execution_count": null,
   "metadata": {},
   "outputs": [],
   "source": []
  },
  {
   "cell_type": "code",
   "execution_count": 14,
   "metadata": {},
   "outputs": [
    {
     "name": "stdout",
     "output_type": "stream",
     "text": [
      "scenario;LGBM;RF;LR;GBDT;KNN;XGB;\n",
      "scenario;MAPE;RMSE;MAPE;RMSE;MAPE;RMSE;MAPE;RMSE;MAPE;RMSE;MAPE;RMSE;;\n",
      "AlltoAll;31.0;90.2;38.9;55.1;133.2;120.0;45.5;69.4;64.7;77.6;34.1;68.6;\n",
      "AtoA;11.0;6.6;13.3;5.9;18.9;7.1;13.4;5.9;15.3;6.8;12.7;6.4;\n",
      "AtoB;68.1;220.5;67.7;220.5;69.8;213.9;67.6;224.1;68.7;232.0;68.0;225.1;\n",
      "BtoB;21.4;127.8;30.0;77.3;57.8;105.4;32.9;89.8;35.9;84.8;26.7;93.2;\n",
      "BtoA;179.0;73.8;237.4;87.1;427.6;149.5;246.4;101.8;337.7;142.4;91.5;30.7;\n",
      "AlltoA;43.5;26.7;51.8;33.1;212.6;75.9;64.0;34.9;94.2;60.0;35.7;20.6;\n",
      "AlltoB;23.6;85.3;23.8;75.7;43.5;171.5;25.0;83.0;31.7;104.1;24.0;89.1;\n",
      "\n"
     ]
    },
    {
     "name": "stderr",
     "output_type": "stream",
     "text": [
      "/home/agrigore/anaconda3/lib/python3.7/site-packages/ipykernel_launcher.py:14: UserWarning: Boolean Series key will be reindexed to match DataFrame index.\n",
      "  \n",
      "/home/agrigore/anaconda3/lib/python3.7/site-packages/ipykernel_launcher.py:15: UserWarning: Boolean Series key will be reindexed to match DataFrame index.\n",
      "  from ipykernel import kernelapp as app\n"
     ]
    }
   ],
   "source": [
    "import pandas as pd\n",
    "import numpy as np\n",
    "\n",
    "S=''\n",
    "S+='scenario;'+';'.join(['LGBM','RF','LR','GBDT','KNN','XGB'])+';\\n'\n",
    "S+='scenario;'+''.join(['MAPE;RMSE;' for i in range(6)])+';\\n'\n",
    "\n",
    "for scenario in ['AlltoAll','AtoA','AtoB','BtoB','BtoA','AlltoA','AlltoB']:\n",
    "\n",
    "    S+=scenario+';' #print(scenario)\n",
    "    dt=pd.read_csv('regresSF_{}.csv'.format(scenario))\n",
    "\n",
    "    for model in ['LGBM','RF','LR','GBDT','KNN','XGB']:\n",
    "        S+= str(np.round(dt[dt.Model==model+'-orig'][dt.Metric=='MAPE']['MAPE'].values[0],1))+';'\n",
    "        S+= str(np.round(dt[dt.Model==model+'-orig'][dt.Metric=='MAPE']['RMSE'].values[0],1))+';'\n",
    "    S+='\\n'\n",
    "print(S)\n",
    " \n",
    "\n",
    "#     orig = dt[dt['Model'].apply(lambda v: 'orig' in v)].reset_index().drop('index',axis=1)['MAPE'].min()\n",
    "#     LT = dt[dt['Model'].apply(lambda v: 'LT' in v)].reset_index().drop('index',axis=1)['MAPE'].min()\n",
    "#     intra = dt[dt['Model'].apply(lambda v: '-i' in v)].reset_index().drop('index',axis=1)['MAPE'].min()\n",
    "#     extra = dt[dt['Model'].apply(lambda v: '-e' in v)].reset_index().drop('index',axis=1)['MAPE'].min()\n",
    "#     IF = dt[dt['Model'].apply(lambda v: 'IF' in v)].reset_index().drop('index',axis=1)['MAPE'].min()\n",
    "#     LOF = dt[dt['Model'].apply(lambda v: 'LOF' in v)].reset_index().drop('index',axis=1)['MAPE'].min()\n",
    "#     eLOF = dt[dt['Model'].apply(lambda v: '-eLOF' in v)].reset_index().drop('index',axis=1)['MAPE'].min()\n",
    "#     eIF = dt[dt['Model'].apply(lambda v: '-eIF' in v)].reset_index().drop('index',axis=1)['MAPE'].min()\n",
    "#     iIF = dt[dt['Model'].apply(lambda v: '-iLOF' in v)].reset_index().drop('index',axis=1)['MAPE'].min()\n",
    "#     iLOF = dt[dt['Model'].apply(lambda v: '-iIF' in v)].reset_index().drop('index',axis=1)['MAPE'].min()"
   ]
  },
  {
   "cell_type": "code",
   "execution_count": null,
   "metadata": {},
   "outputs": [],
   "source": [
    "        model\n",
    "scenario"
   ]
  },
  {
   "cell_type": "code",
   "execution_count": null,
   "metadata": {},
   "outputs": [],
   "source": []
  },
  {
   "cell_type": "code",
   "execution_count": null,
   "metadata": {},
   "outputs": [],
   "source": []
  },
  {
   "cell_type": "code",
   "execution_count": null,
   "metadata": {},
   "outputs": [],
   "source": []
  },
  {
   "cell_type": "markdown",
   "metadata": {},
   "source": [
    "# log-space vs extra vs intra"
   ]
  },
  {
   "cell_type": "code",
   "execution_count": 4,
   "metadata": {},
   "outputs": [
    {
     "data": {
      "text/plain": [
       "-7.441959678387383"
      ]
     },
     "execution_count": 4,
     "metadata": {},
     "output_type": "execute_result"
    }
   ],
   "source": [
    "100*(LT-orig)/orig"
   ]
  },
  {
   "cell_type": "code",
   "execution_count": 5,
   "metadata": {},
   "outputs": [
    {
     "data": {
      "text/plain": [
       "-0.30163715219515386"
      ]
     },
     "execution_count": 5,
     "metadata": {},
     "output_type": "execute_result"
    }
   ],
   "source": [
    "100*(extra-orig)/orig"
   ]
  },
  {
   "cell_type": "code",
   "execution_count": 6,
   "metadata": {},
   "outputs": [
    {
     "data": {
      "text/plain": [
       "-1.602648411678148"
      ]
     },
     "execution_count": 6,
     "metadata": {},
     "output_type": "execute_result"
    }
   ],
   "source": [
    "100*(intra-orig)/orig"
   ]
  },
  {
   "cell_type": "markdown",
   "metadata": {},
   "source": [
    "# IF vs LOF in total"
   ]
  },
  {
   "cell_type": "code",
   "execution_count": 40,
   "metadata": {},
   "outputs": [
    {
     "data": {
      "text/plain": [
       "5.577573706634668"
      ]
     },
     "execution_count": 40,
     "metadata": {},
     "output_type": "execute_result"
    }
   ],
   "source": [
    "100*(IF-orig)/orig"
   ]
  },
  {
   "cell_type": "code",
   "execution_count": 41,
   "metadata": {},
   "outputs": [
    {
     "data": {
      "text/plain": [
       "5.825194539596619"
      ]
     },
     "execution_count": 41,
     "metadata": {},
     "output_type": "execute_result"
    }
   ],
   "source": [
    "100*(LOF-orig)/orig"
   ]
  },
  {
   "cell_type": "markdown",
   "metadata": {},
   "source": [
    "# extra IF vs LOF"
   ]
  },
  {
   "cell_type": "code",
   "execution_count": 42,
   "metadata": {},
   "outputs": [
    {
     "data": {
      "text/plain": [
       "5.577573706634668"
      ]
     },
     "execution_count": 42,
     "metadata": {},
     "output_type": "execute_result"
    }
   ],
   "source": [
    "100*(eIF-orig)/orig"
   ]
  },
  {
   "cell_type": "code",
   "execution_count": 43,
   "metadata": {},
   "outputs": [
    {
     "data": {
      "text/plain": [
       "6.3655908564840455"
      ]
     },
     "execution_count": 43,
     "metadata": {},
     "output_type": "execute_result"
    }
   ],
   "source": [
    "100*(eLOF-orig)/orig"
   ]
  },
  {
   "cell_type": "markdown",
   "metadata": {},
   "source": [
    "# intra IF vs LOF"
   ]
  },
  {
   "cell_type": "code",
   "execution_count": 44,
   "metadata": {},
   "outputs": [
    {
     "data": {
      "text/plain": [
       "5.825194539596619"
      ]
     },
     "execution_count": 44,
     "metadata": {},
     "output_type": "execute_result"
    }
   ],
   "source": [
    "100*(iIF-orig)/orig"
   ]
  },
  {
   "cell_type": "code",
   "execution_count": 45,
   "metadata": {},
   "outputs": [
    {
     "data": {
      "text/plain": [
       "5.592210297758978"
      ]
     },
     "execution_count": 45,
     "metadata": {},
     "output_type": "execute_result"
    }
   ],
   "source": [
    "100*(iLOF-orig)/orig"
   ]
  },
  {
   "cell_type": "code",
   "execution_count": null,
   "metadata": {},
   "outputs": [],
   "source": []
  },
  {
   "cell_type": "code",
   "execution_count": null,
   "metadata": {},
   "outputs": [],
   "source": []
  },
  {
   "cell_type": "code",
   "execution_count": null,
   "metadata": {},
   "outputs": [],
   "source": []
  },
  {
   "cell_type": "code",
   "execution_count": null,
   "metadata": {},
   "outputs": [],
   "source": []
  },
  {
   "cell_type": "code",
   "execution_count": null,
   "metadata": {},
   "outputs": [],
   "source": []
  },
  {
   "cell_type": "code",
   "execution_count": null,
   "metadata": {},
   "outputs": [],
   "source": []
  },
  {
   "cell_type": "code",
   "execution_count": null,
   "metadata": {},
   "outputs": [],
   "source": []
  },
  {
   "cell_type": "code",
   "execution_count": null,
   "metadata": {},
   "outputs": [],
   "source": []
  },
  {
   "cell_type": "code",
   "execution_count": null,
   "metadata": {},
   "outputs": [],
   "source": []
  },
  {
   "cell_type": "code",
   "execution_count": 73,
   "metadata": {},
   "outputs": [
    {
     "data": {
      "text/plain": [
       "20.957076566089075"
      ]
     },
     "execution_count": 73,
     "metadata": {},
     "output_type": "execute_result"
    }
   ],
   "source": [
    "import numpy as np\n",
    "-np.mean(100*(np.concatenate([orig,orig],axis=0)-intra) / np.concatenate([orig,orig],axis=0))"
   ]
  },
  {
   "cell_type": "code",
   "execution_count": 74,
   "metadata": {},
   "outputs": [
    {
     "data": {
      "text/plain": [
       "18.199023798920877"
      ]
     },
     "execution_count": 74,
     "metadata": {},
     "output_type": "execute_result"
    }
   ],
   "source": [
    "-np.mean(100*(np.concatenate([orig,orig],axis=0)-extra) / np.concatenate([orig,orig],axis=0))"
   ]
  },
  {
   "cell_type": "code",
   "execution_count": 75,
   "metadata": {},
   "outputs": [
    {
     "data": {
      "text/plain": [
       "28.508199861430167"
      ]
     },
     "execution_count": 75,
     "metadata": {},
     "output_type": "execute_result"
    }
   ],
   "source": [
    "-np.mean(100*(np.concatenate([orig,orig],axis=0)-IF) / np.concatenate([orig,orig],axis=0))"
   ]
  },
  {
   "cell_type": "code",
   "execution_count": 76,
   "metadata": {},
   "outputs": [
    {
     "data": {
      "text/plain": [
       "10.647900503579784"
      ]
     },
     "execution_count": 76,
     "metadata": {},
     "output_type": "execute_result"
    }
   ],
   "source": [
    "-np.mean(100*(np.concatenate([orig,orig],axis=0)-LOF) / np.concatenate([orig,orig],axis=0))"
   ]
  },
  {
   "cell_type": "code",
   "execution_count": 63,
   "metadata": {},
   "outputs": [
    {
     "data": {
      "text/plain": [
       "array([12.29203399,  7.5376722 ,  5.07998632,  7.2795274 , 27.82076898,\n",
       "       21.33293018, 42.41179896, 24.47716752, 18.25399211, 18.03579046,\n",
       "       19.48663109, 16.01596887, 17.81622956, 20.95690339, 15.8527373 ,\n",
       "       19.03829029, 20.36003404, 20.00267298, 19.9940093 , 19.78297678,\n",
       "       15.47331543,  1.60438564, 22.23021582, 12.63158497])"
      ]
     },
     "execution_count": 63,
     "metadata": {},
     "output_type": "execute_result"
    }
   ],
   "source": [
    "orig-LT"
   ]
  },
  {
   "cell_type": "code",
   "execution_count": 65,
   "metadata": {},
   "outputs": [],
   "source": [
    "orig = dt[dt['Model'].apply(lambda v: 'orig' in v)]"
   ]
  },
  {
   "cell_type": "code",
   "execution_count": 66,
   "metadata": {},
   "outputs": [
    {
     "data": {
      "text/html": [
       "<div>\n",
       "<style scoped>\n",
       "    .dataframe tbody tr th:only-of-type {\n",
       "        vertical-align: middle;\n",
       "    }\n",
       "\n",
       "    .dataframe tbody tr th {\n",
       "        vertical-align: top;\n",
       "    }\n",
       "\n",
       "    .dataframe thead th {\n",
       "        text-align: right;\n",
       "    }\n",
       "</style>\n",
       "<table border=\"1\" class=\"dataframe\">\n",
       "  <thead>\n",
       "    <tr style=\"text-align: right;\">\n",
       "      <th></th>\n",
       "      <th>RMSE</th>\n",
       "      <th>MAPE</th>\n",
       "      <th>R2</th>\n",
       "      <th>SMAPE</th>\n",
       "      <th>Metric</th>\n",
       "      <th>Model</th>\n",
       "      <th>Transform</th>\n",
       "    </tr>\n",
       "  </thead>\n",
       "  <tbody>\n",
       "    <tr>\n",
       "      <td>0</td>\n",
       "      <td>25.281715</td>\n",
       "      <td>95.305906</td>\n",
       "      <td>-0.050463</td>\n",
       "      <td>56.232334</td>\n",
       "      <td>RMSE</td>\n",
       "      <td>LGBM-orig</td>\n",
       "      <td>None</td>\n",
       "    </tr>\n",
       "    <tr>\n",
       "      <td>1</td>\n",
       "      <td>25.306822</td>\n",
       "      <td>88.893308</td>\n",
       "      <td>-0.034887</td>\n",
       "      <td>55.628532</td>\n",
       "      <td>MAPE</td>\n",
       "      <td>LGBM-orig</td>\n",
       "      <td>None</td>\n",
       "    </tr>\n",
       "    <tr>\n",
       "      <td>2</td>\n",
       "      <td>40.436968</td>\n",
       "      <td>110.975697</td>\n",
       "      <td>-0.045666</td>\n",
       "      <td>58.516973</td>\n",
       "      <td>R2</td>\n",
       "      <td>LGBM-orig</td>\n",
       "      <td>None</td>\n",
       "    </tr>\n",
       "    <tr>\n",
       "      <td>3</td>\n",
       "      <td>25.997563</td>\n",
       "      <td>95.809720</td>\n",
       "      <td>-0.003115</td>\n",
       "      <td>55.058208</td>\n",
       "      <td>SMAPE</td>\n",
       "      <td>LGBM-orig</td>\n",
       "      <td>None</td>\n",
       "    </tr>\n",
       "    <tr>\n",
       "      <td>4</td>\n",
       "      <td>24.196005</td>\n",
       "      <td>110.499852</td>\n",
       "      <td>-0.005421</td>\n",
       "      <td>55.952485</td>\n",
       "      <td>RMSE</td>\n",
       "      <td>RF-orig</td>\n",
       "      <td>None</td>\n",
       "    </tr>\n",
       "    <tr>\n",
       "      <td>5</td>\n",
       "      <td>24.863949</td>\n",
       "      <td>104.518474</td>\n",
       "      <td>-0.010094</td>\n",
       "      <td>55.846752</td>\n",
       "      <td>MAPE</td>\n",
       "      <td>RF-orig</td>\n",
       "      <td>None</td>\n",
       "    </tr>\n",
       "    <tr>\n",
       "      <td>6</td>\n",
       "      <td>43.961205</td>\n",
       "      <td>131.033713</td>\n",
       "      <td>0.033520</td>\n",
       "      <td>61.306805</td>\n",
       "      <td>R2</td>\n",
       "      <td>RF-orig</td>\n",
       "      <td>None</td>\n",
       "    </tr>\n",
       "    <tr>\n",
       "      <td>7</td>\n",
       "      <td>25.118009</td>\n",
       "      <td>107.202747</td>\n",
       "      <td>-0.039741</td>\n",
       "      <td>56.639580</td>\n",
       "      <td>SMAPE</td>\n",
       "      <td>RF-orig</td>\n",
       "      <td>None</td>\n",
       "    </tr>\n",
       "    <tr>\n",
       "      <td>8</td>\n",
       "      <td>22.017647</td>\n",
       "      <td>96.976290</td>\n",
       "      <td>0.023990</td>\n",
       "      <td>53.661252</td>\n",
       "      <td>RMSE</td>\n",
       "      <td>LR-orig</td>\n",
       "      <td>None</td>\n",
       "    </tr>\n",
       "    <tr>\n",
       "      <td>9</td>\n",
       "      <td>22.409299</td>\n",
       "      <td>97.199441</td>\n",
       "      <td>-0.015805</td>\n",
       "      <td>53.653480</td>\n",
       "      <td>MAPE</td>\n",
       "      <td>LR-orig</td>\n",
       "      <td>None</td>\n",
       "    </tr>\n",
       "    <tr>\n",
       "      <td>10</td>\n",
       "      <td>22.465453</td>\n",
       "      <td>99.440869</td>\n",
       "      <td>-0.015308</td>\n",
       "      <td>54.665248</td>\n",
       "      <td>R2</td>\n",
       "      <td>LR-orig</td>\n",
       "      <td>None</td>\n",
       "    </tr>\n",
       "    <tr>\n",
       "      <td>11</td>\n",
       "      <td>22.465403</td>\n",
       "      <td>97.925948</td>\n",
       "      <td>-0.041476</td>\n",
       "      <td>53.881573</td>\n",
       "      <td>SMAPE</td>\n",
       "      <td>LR-orig</td>\n",
       "      <td>None</td>\n",
       "    </tr>\n",
       "    <tr>\n",
       "      <td>12</td>\n",
       "      <td>21.900202</td>\n",
       "      <td>97.007481</td>\n",
       "      <td>0.039100</td>\n",
       "      <td>53.452135</td>\n",
       "      <td>RMSE</td>\n",
       "      <td>GBDT-orig</td>\n",
       "      <td>None</td>\n",
       "    </tr>\n",
       "    <tr>\n",
       "      <td>13</td>\n",
       "      <td>22.597247</td>\n",
       "      <td>100.232990</td>\n",
       "      <td>-0.032824</td>\n",
       "      <td>54.443719</td>\n",
       "      <td>MAPE</td>\n",
       "      <td>GBDT-orig</td>\n",
       "      <td>None</td>\n",
       "    </tr>\n",
       "    <tr>\n",
       "      <td>14</td>\n",
       "      <td>22.005735</td>\n",
       "      <td>98.333067</td>\n",
       "      <td>0.024235</td>\n",
       "      <td>53.497361</td>\n",
       "      <td>R2</td>\n",
       "      <td>GBDT-orig</td>\n",
       "      <td>None</td>\n",
       "    </tr>\n",
       "    <tr>\n",
       "      <td>15</td>\n",
       "      <td>22.112053</td>\n",
       "      <td>97.675800</td>\n",
       "      <td>0.015342</td>\n",
       "      <td>53.903633</td>\n",
       "      <td>SMAPE</td>\n",
       "      <td>GBDT-orig</td>\n",
       "      <td>None</td>\n",
       "    </tr>\n",
       "    <tr>\n",
       "      <td>16</td>\n",
       "      <td>22.379609</td>\n",
       "      <td>98.376084</td>\n",
       "      <td>-0.020852</td>\n",
       "      <td>54.017138</td>\n",
       "      <td>RMSE</td>\n",
       "      <td>KNN-orig</td>\n",
       "      <td>None</td>\n",
       "    </tr>\n",
       "    <tr>\n",
       "      <td>17</td>\n",
       "      <td>22.651148</td>\n",
       "      <td>98.134982</td>\n",
       "      <td>-0.035129</td>\n",
       "      <td>54.299306</td>\n",
       "      <td>MAPE</td>\n",
       "      <td>KNN-orig</td>\n",
       "      <td>None</td>\n",
       "    </tr>\n",
       "    <tr>\n",
       "      <td>18</td>\n",
       "      <td>22.232265</td>\n",
       "      <td>98.293540</td>\n",
       "      <td>0.007944</td>\n",
       "      <td>54.087135</td>\n",
       "      <td>R2</td>\n",
       "      <td>KNN-orig</td>\n",
       "      <td>None</td>\n",
       "    </tr>\n",
       "    <tr>\n",
       "      <td>19</td>\n",
       "      <td>22.343811</td>\n",
       "      <td>98.297593</td>\n",
       "      <td>-0.003109</td>\n",
       "      <td>53.961248</td>\n",
       "      <td>SMAPE</td>\n",
       "      <td>KNN-orig</td>\n",
       "      <td>None</td>\n",
       "    </tr>\n",
       "    <tr>\n",
       "      <td>20</td>\n",
       "      <td>22.196431</td>\n",
       "      <td>96.384573</td>\n",
       "      <td>-0.001932</td>\n",
       "      <td>53.495336</td>\n",
       "      <td>RMSE</td>\n",
       "      <td>XGB-orig</td>\n",
       "      <td>None</td>\n",
       "    </tr>\n",
       "    <tr>\n",
       "      <td>21</td>\n",
       "      <td>32.733866</td>\n",
       "      <td>63.753332</td>\n",
       "      <td>-1.203381</td>\n",
       "      <td>91.815920</td>\n",
       "      <td>MAPE</td>\n",
       "      <td>XGB-orig</td>\n",
       "      <td>None</td>\n",
       "    </tr>\n",
       "    <tr>\n",
       "      <td>22</td>\n",
       "      <td>22.695058</td>\n",
       "      <td>102.666848</td>\n",
       "      <td>-0.059190</td>\n",
       "      <td>55.291766</td>\n",
       "      <td>R2</td>\n",
       "      <td>XGB-orig</td>\n",
       "      <td>None</td>\n",
       "    </tr>\n",
       "    <tr>\n",
       "      <td>23</td>\n",
       "      <td>22.433984</td>\n",
       "      <td>92.969276</td>\n",
       "      <td>-0.015618</td>\n",
       "      <td>53.616403</td>\n",
       "      <td>SMAPE</td>\n",
       "      <td>XGB-orig</td>\n",
       "      <td>None</td>\n",
       "    </tr>\n",
       "  </tbody>\n",
       "</table>\n",
       "</div>"
      ],
      "text/plain": [
       "         RMSE        MAPE        R2      SMAPE Metric      Model Transform\n",
       "0   25.281715   95.305906 -0.050463  56.232334   RMSE  LGBM-orig      None\n",
       "1   25.306822   88.893308 -0.034887  55.628532   MAPE  LGBM-orig      None\n",
       "2   40.436968  110.975697 -0.045666  58.516973     R2  LGBM-orig      None\n",
       "3   25.997563   95.809720 -0.003115  55.058208  SMAPE  LGBM-orig      None\n",
       "4   24.196005  110.499852 -0.005421  55.952485   RMSE    RF-orig      None\n",
       "5   24.863949  104.518474 -0.010094  55.846752   MAPE    RF-orig      None\n",
       "6   43.961205  131.033713  0.033520  61.306805     R2    RF-orig      None\n",
       "7   25.118009  107.202747 -0.039741  56.639580  SMAPE    RF-orig      None\n",
       "8   22.017647   96.976290  0.023990  53.661252   RMSE    LR-orig      None\n",
       "9   22.409299   97.199441 -0.015805  53.653480   MAPE    LR-orig      None\n",
       "10  22.465453   99.440869 -0.015308  54.665248     R2    LR-orig      None\n",
       "11  22.465403   97.925948 -0.041476  53.881573  SMAPE    LR-orig      None\n",
       "12  21.900202   97.007481  0.039100  53.452135   RMSE  GBDT-orig      None\n",
       "13  22.597247  100.232990 -0.032824  54.443719   MAPE  GBDT-orig      None\n",
       "14  22.005735   98.333067  0.024235  53.497361     R2  GBDT-orig      None\n",
       "15  22.112053   97.675800  0.015342  53.903633  SMAPE  GBDT-orig      None\n",
       "16  22.379609   98.376084 -0.020852  54.017138   RMSE   KNN-orig      None\n",
       "17  22.651148   98.134982 -0.035129  54.299306   MAPE   KNN-orig      None\n",
       "18  22.232265   98.293540  0.007944  54.087135     R2   KNN-orig      None\n",
       "19  22.343811   98.297593 -0.003109  53.961248  SMAPE   KNN-orig      None\n",
       "20  22.196431   96.384573 -0.001932  53.495336   RMSE   XGB-orig      None\n",
       "21  32.733866   63.753332 -1.203381  91.815920   MAPE   XGB-orig      None\n",
       "22  22.695058  102.666848 -0.059190  55.291766     R2   XGB-orig      None\n",
       "23  22.433984   92.969276 -0.015618  53.616403  SMAPE   XGB-orig      None"
      ]
     },
     "execution_count": 66,
     "metadata": {},
     "output_type": "execute_result"
    }
   ],
   "source": [
    "orig"
   ]
  },
  {
   "cell_type": "code",
   "execution_count": 68,
   "metadata": {},
   "outputs": [],
   "source": [
    "extra = dt[dt['Model'].apply(lambda v: '-e' in v)]"
   ]
  },
  {
   "cell_type": "code",
   "execution_count": 69,
   "metadata": {},
   "outputs": [
    {
     "data": {
      "text/html": [
       "<div>\n",
       "<style scoped>\n",
       "    .dataframe tbody tr th:only-of-type {\n",
       "        vertical-align: middle;\n",
       "    }\n",
       "\n",
       "    .dataframe tbody tr th {\n",
       "        vertical-align: top;\n",
       "    }\n",
       "\n",
       "    .dataframe thead th {\n",
       "        text-align: right;\n",
       "    }\n",
       "</style>\n",
       "<table border=\"1\" class=\"dataframe\">\n",
       "  <thead>\n",
       "    <tr style=\"text-align: right;\">\n",
       "      <th></th>\n",
       "      <th>RMSE</th>\n",
       "      <th>MAPE</th>\n",
       "      <th>R2</th>\n",
       "      <th>SMAPE</th>\n",
       "      <th>Metric</th>\n",
       "      <th>Model</th>\n",
       "      <th>Transform</th>\n",
       "    </tr>\n",
       "  </thead>\n",
       "  <tbody>\n",
       "    <tr>\n",
       "      <td>48</td>\n",
       "      <td>24.431275</td>\n",
       "      <td>105.313047</td>\n",
       "      <td>-0.058491</td>\n",
       "      <td>56.747524</td>\n",
       "      <td>RMSE</td>\n",
       "      <td>LGBM-eLOF</td>\n",
       "      <td>NaN</td>\n",
       "    </tr>\n",
       "    <tr>\n",
       "      <td>49</td>\n",
       "      <td>26.558480</td>\n",
       "      <td>93.356891</td>\n",
       "      <td>-0.047687</td>\n",
       "      <td>56.105823</td>\n",
       "      <td>MAPE</td>\n",
       "      <td>LGBM-eLOF</td>\n",
       "      <td>NaN</td>\n",
       "    </tr>\n",
       "    <tr>\n",
       "      <td>50</td>\n",
       "      <td>58.085880</td>\n",
       "      <td>126.066481</td>\n",
       "      <td>0.101035</td>\n",
       "      <td>61.718440</td>\n",
       "      <td>R2</td>\n",
       "      <td>LGBM-eLOF</td>\n",
       "      <td>NaN</td>\n",
       "    </tr>\n",
       "    <tr>\n",
       "      <td>51</td>\n",
       "      <td>24.922851</td>\n",
       "      <td>92.344671</td>\n",
       "      <td>-0.019238</td>\n",
       "      <td>55.365809</td>\n",
       "      <td>SMAPE</td>\n",
       "      <td>LGBM-eLOF</td>\n",
       "      <td>NaN</td>\n",
       "    </tr>\n",
       "    <tr>\n",
       "      <td>52</td>\n",
       "      <td>23.987801</td>\n",
       "      <td>106.191244</td>\n",
       "      <td>0.020504</td>\n",
       "      <td>55.329563</td>\n",
       "      <td>RMSE</td>\n",
       "      <td>RF-eLOF</td>\n",
       "      <td>NaN</td>\n",
       "    </tr>\n",
       "    <tr>\n",
       "      <td>53</td>\n",
       "      <td>24.770436</td>\n",
       "      <td>106.711137</td>\n",
       "      <td>-0.014956</td>\n",
       "      <td>56.119391</td>\n",
       "      <td>MAPE</td>\n",
       "      <td>RF-eLOF</td>\n",
       "      <td>NaN</td>\n",
       "    </tr>\n",
       "    <tr>\n",
       "      <td>54</td>\n",
       "      <td>44.080528</td>\n",
       "      <td>135.077462</td>\n",
       "      <td>-0.033991</td>\n",
       "      <td>63.188034</td>\n",
       "      <td>R2</td>\n",
       "      <td>RF-eLOF</td>\n",
       "      <td>NaN</td>\n",
       "    </tr>\n",
       "    <tr>\n",
       "      <td>55</td>\n",
       "      <td>23.953836</td>\n",
       "      <td>105.737889</td>\n",
       "      <td>0.019348</td>\n",
       "      <td>55.633148</td>\n",
       "      <td>SMAPE</td>\n",
       "      <td>RF-eLOF</td>\n",
       "      <td>NaN</td>\n",
       "    </tr>\n",
       "    <tr>\n",
       "      <td>56</td>\n",
       "      <td>23.949758</td>\n",
       "      <td>105.888926</td>\n",
       "      <td>0.016920</td>\n",
       "      <td>55.851380</td>\n",
       "      <td>RMSE</td>\n",
       "      <td>LR-eLOF</td>\n",
       "      <td>NaN</td>\n",
       "    </tr>\n",
       "    <tr>\n",
       "      <td>57</td>\n",
       "      <td>24.673859</td>\n",
       "      <td>103.958356</td>\n",
       "      <td>0.001714</td>\n",
       "      <td>55.509362</td>\n",
       "      <td>MAPE</td>\n",
       "      <td>LR-eLOF</td>\n",
       "      <td>NaN</td>\n",
       "    </tr>\n",
       "    <tr>\n",
       "      <td>58</td>\n",
       "      <td>25.576612</td>\n",
       "      <td>107.482037</td>\n",
       "      <td>0.038102</td>\n",
       "      <td>56.414530</td>\n",
       "      <td>R2</td>\n",
       "      <td>LR-eLOF</td>\n",
       "      <td>NaN</td>\n",
       "    </tr>\n",
       "    <tr>\n",
       "      <td>59</td>\n",
       "      <td>22.361709</td>\n",
       "      <td>97.870622</td>\n",
       "      <td>-0.028820</td>\n",
       "      <td>53.798217</td>\n",
       "      <td>SMAPE</td>\n",
       "      <td>LR-eLOF</td>\n",
       "      <td>NaN</td>\n",
       "    </tr>\n",
       "    <tr>\n",
       "      <td>60</td>\n",
       "      <td>24.317791</td>\n",
       "      <td>108.995274</td>\n",
       "      <td>-0.003079</td>\n",
       "      <td>56.584811</td>\n",
       "      <td>RMSE</td>\n",
       "      <td>GBDT-eLOF</td>\n",
       "      <td>NaN</td>\n",
       "    </tr>\n",
       "    <tr>\n",
       "      <td>61</td>\n",
       "      <td>26.550005</td>\n",
       "      <td>105.754194</td>\n",
       "      <td>-0.044457</td>\n",
       "      <td>56.930138</td>\n",
       "      <td>MAPE</td>\n",
       "      <td>GBDT-eLOF</td>\n",
       "      <td>NaN</td>\n",
       "    </tr>\n",
       "    <tr>\n",
       "      <td>62</td>\n",
       "      <td>45.218239</td>\n",
       "      <td>127.297215</td>\n",
       "      <td>-0.019487</td>\n",
       "      <td>62.870101</td>\n",
       "      <td>R2</td>\n",
       "      <td>GBDT-eLOF</td>\n",
       "      <td>NaN</td>\n",
       "    </tr>\n",
       "    <tr>\n",
       "      <td>63</td>\n",
       "      <td>25.208391</td>\n",
       "      <td>107.757910</td>\n",
       "      <td>-0.044101</td>\n",
       "      <td>57.118345</td>\n",
       "      <td>SMAPE</td>\n",
       "      <td>GBDT-eLOF</td>\n",
       "      <td>NaN</td>\n",
       "    </tr>\n",
       "    <tr>\n",
       "      <td>64</td>\n",
       "      <td>24.191813</td>\n",
       "      <td>104.159033</td>\n",
       "      <td>0.004501</td>\n",
       "      <td>55.721461</td>\n",
       "      <td>RMSE</td>\n",
       "      <td>KNN-eLOF</td>\n",
       "      <td>NaN</td>\n",
       "    </tr>\n",
       "    <tr>\n",
       "      <td>65</td>\n",
       "      <td>24.731390</td>\n",
       "      <td>103.656518</td>\n",
       "      <td>0.004415</td>\n",
       "      <td>55.866423</td>\n",
       "      <td>MAPE</td>\n",
       "      <td>KNN-eLOF</td>\n",
       "      <td>NaN</td>\n",
       "    </tr>\n",
       "    <tr>\n",
       "      <td>66</td>\n",
       "      <td>61.962081</td>\n",
       "      <td>133.134531</td>\n",
       "      <td>-0.025515</td>\n",
       "      <td>65.190288</td>\n",
       "      <td>R2</td>\n",
       "      <td>KNN-eLOF</td>\n",
       "      <td>NaN</td>\n",
       "    </tr>\n",
       "    <tr>\n",
       "      <td>67</td>\n",
       "      <td>22.296214</td>\n",
       "      <td>98.102751</td>\n",
       "      <td>-0.001595</td>\n",
       "      <td>54.012658</td>\n",
       "      <td>SMAPE</td>\n",
       "      <td>KNN-eLOF</td>\n",
       "      <td>NaN</td>\n",
       "    </tr>\n",
       "    <tr>\n",
       "      <td>68</td>\n",
       "      <td>25.451185</td>\n",
       "      <td>105.889647</td>\n",
       "      <td>-0.107710</td>\n",
       "      <td>56.777963</td>\n",
       "      <td>RMSE</td>\n",
       "      <td>XGB-eLOF</td>\n",
       "      <td>NaN</td>\n",
       "    </tr>\n",
       "    <tr>\n",
       "      <td>69</td>\n",
       "      <td>28.483395</td>\n",
       "      <td>67.865502</td>\n",
       "      <td>-0.391065</td>\n",
       "      <td>63.235270</td>\n",
       "      <td>MAPE</td>\n",
       "      <td>XGB-eLOF</td>\n",
       "      <td>NaN</td>\n",
       "    </tr>\n",
       "    <tr>\n",
       "      <td>70</td>\n",
       "      <td>43.422485</td>\n",
       "      <td>127.650835</td>\n",
       "      <td>0.054557</td>\n",
       "      <td>62.664884</td>\n",
       "      <td>R2</td>\n",
       "      <td>XGB-eLOF</td>\n",
       "      <td>NaN</td>\n",
       "    </tr>\n",
       "    <tr>\n",
       "      <td>71</td>\n",
       "      <td>23.392286</td>\n",
       "      <td>98.798881</td>\n",
       "      <td>-0.115220</td>\n",
       "      <td>54.565388</td>\n",
       "      <td>SMAPE</td>\n",
       "      <td>XGB-eLOF</td>\n",
       "      <td>NaN</td>\n",
       "    </tr>\n",
       "    <tr>\n",
       "      <td>120</td>\n",
       "      <td>58.359465</td>\n",
       "      <td>122.097188</td>\n",
       "      <td>-0.073977</td>\n",
       "      <td>63.304561</td>\n",
       "      <td>RMSE</td>\n",
       "      <td>LGBM-eIF</td>\n",
       "      <td>NaN</td>\n",
       "    </tr>\n",
       "    <tr>\n",
       "      <td>121</td>\n",
       "      <td>57.401521</td>\n",
       "      <td>99.346872</td>\n",
       "      <td>-0.042983</td>\n",
       "      <td>60.965188</td>\n",
       "      <td>MAPE</td>\n",
       "      <td>LGBM-eIF</td>\n",
       "      <td>NaN</td>\n",
       "    </tr>\n",
       "    <tr>\n",
       "      <td>122</td>\n",
       "      <td>59.297582</td>\n",
       "      <td>96.362440</td>\n",
       "      <td>0.018117</td>\n",
       "      <td>63.721910</td>\n",
       "      <td>R2</td>\n",
       "      <td>LGBM-eIF</td>\n",
       "      <td>NaN</td>\n",
       "    </tr>\n",
       "    <tr>\n",
       "      <td>123</td>\n",
       "      <td>63.363820</td>\n",
       "      <td>95.468615</td>\n",
       "      <td>-0.024878</td>\n",
       "      <td>60.160796</td>\n",
       "      <td>SMAPE</td>\n",
       "      <td>LGBM-eIF</td>\n",
       "      <td>NaN</td>\n",
       "    </tr>\n",
       "    <tr>\n",
       "      <td>124</td>\n",
       "      <td>61.440324</td>\n",
       "      <td>146.699319</td>\n",
       "      <td>-0.197859</td>\n",
       "      <td>65.206500</td>\n",
       "      <td>RMSE</td>\n",
       "      <td>RF-eIF</td>\n",
       "      <td>NaN</td>\n",
       "    </tr>\n",
       "    <tr>\n",
       "      <td>125</td>\n",
       "      <td>50.236914</td>\n",
       "      <td>133.435353</td>\n",
       "      <td>-0.018956</td>\n",
       "      <td>63.472652</td>\n",
       "      <td>MAPE</td>\n",
       "      <td>RF-eIF</td>\n",
       "      <td>NaN</td>\n",
       "    </tr>\n",
       "    <tr>\n",
       "      <td>126</td>\n",
       "      <td>57.228441</td>\n",
       "      <td>138.957274</td>\n",
       "      <td>-0.018886</td>\n",
       "      <td>63.343194</td>\n",
       "      <td>R2</td>\n",
       "      <td>RF-eIF</td>\n",
       "      <td>NaN</td>\n",
       "    </tr>\n",
       "    <tr>\n",
       "      <td>127</td>\n",
       "      <td>59.800051</td>\n",
       "      <td>142.106276</td>\n",
       "      <td>-0.203191</td>\n",
       "      <td>65.303570</td>\n",
       "      <td>SMAPE</td>\n",
       "      <td>RF-eIF</td>\n",
       "      <td>NaN</td>\n",
       "    </tr>\n",
       "    <tr>\n",
       "      <td>128</td>\n",
       "      <td>43.154961</td>\n",
       "      <td>127.027949</td>\n",
       "      <td>-0.032987</td>\n",
       "      <td>62.306079</td>\n",
       "      <td>RMSE</td>\n",
       "      <td>LR-eIF</td>\n",
       "      <td>NaN</td>\n",
       "    </tr>\n",
       "    <tr>\n",
       "      <td>129</td>\n",
       "      <td>46.676291</td>\n",
       "      <td>123.561842</td>\n",
       "      <td>-0.029885</td>\n",
       "      <td>62.115025</td>\n",
       "      <td>MAPE</td>\n",
       "      <td>LR-eIF</td>\n",
       "      <td>NaN</td>\n",
       "    </tr>\n",
       "    <tr>\n",
       "      <td>130</td>\n",
       "      <td>61.793600</td>\n",
       "      <td>143.508610</td>\n",
       "      <td>-0.041148</td>\n",
       "      <td>67.933405</td>\n",
       "      <td>R2</td>\n",
       "      <td>LR-eIF</td>\n",
       "      <td>NaN</td>\n",
       "    </tr>\n",
       "    <tr>\n",
       "      <td>131</td>\n",
       "      <td>62.680755</td>\n",
       "      <td>143.390260</td>\n",
       "      <td>-0.064890</td>\n",
       "      <td>67.483774</td>\n",
       "      <td>SMAPE</td>\n",
       "      <td>LR-eIF</td>\n",
       "      <td>NaN</td>\n",
       "    </tr>\n",
       "    <tr>\n",
       "      <td>132</td>\n",
       "      <td>51.100222</td>\n",
       "      <td>140.627085</td>\n",
       "      <td>-0.031301</td>\n",
       "      <td>64.484716</td>\n",
       "      <td>RMSE</td>\n",
       "      <td>GBDT-eIF</td>\n",
       "      <td>NaN</td>\n",
       "    </tr>\n",
       "    <tr>\n",
       "      <td>133</td>\n",
       "      <td>49.245952</td>\n",
       "      <td>123.350690</td>\n",
       "      <td>-0.029212</td>\n",
       "      <td>62.199927</td>\n",
       "      <td>MAPE</td>\n",
       "      <td>GBDT-eIF</td>\n",
       "      <td>NaN</td>\n",
       "    </tr>\n",
       "    <tr>\n",
       "      <td>134</td>\n",
       "      <td>64.407363</td>\n",
       "      <td>145.948739</td>\n",
       "      <td>-0.240049</td>\n",
       "      <td>73.354266</td>\n",
       "      <td>R2</td>\n",
       "      <td>GBDT-eIF</td>\n",
       "      <td>NaN</td>\n",
       "    </tr>\n",
       "    <tr>\n",
       "      <td>135</td>\n",
       "      <td>49.002060</td>\n",
       "      <td>133.612834</td>\n",
       "      <td>-0.002146</td>\n",
       "      <td>62.694160</td>\n",
       "      <td>SMAPE</td>\n",
       "      <td>GBDT-eIF</td>\n",
       "      <td>NaN</td>\n",
       "    </tr>\n",
       "    <tr>\n",
       "      <td>136</td>\n",
       "      <td>60.189930</td>\n",
       "      <td>138.723501</td>\n",
       "      <td>-0.057968</td>\n",
       "      <td>65.471777</td>\n",
       "      <td>RMSE</td>\n",
       "      <td>KNN-eIF</td>\n",
       "      <td>NaN</td>\n",
       "    </tr>\n",
       "    <tr>\n",
       "      <td>137</td>\n",
       "      <td>56.763412</td>\n",
       "      <td>130.940613</td>\n",
       "      <td>-0.035511</td>\n",
       "      <td>63.799348</td>\n",
       "      <td>MAPE</td>\n",
       "      <td>KNN-eIF</td>\n",
       "      <td>NaN</td>\n",
       "    </tr>\n",
       "    <tr>\n",
       "      <td>138</td>\n",
       "      <td>61.127579</td>\n",
       "      <td>129.230644</td>\n",
       "      <td>0.048231</td>\n",
       "      <td>63.635030</td>\n",
       "      <td>R2</td>\n",
       "      <td>KNN-eIF</td>\n",
       "      <td>NaN</td>\n",
       "    </tr>\n",
       "    <tr>\n",
       "      <td>139</td>\n",
       "      <td>45.754494</td>\n",
       "      <td>126.476159</td>\n",
       "      <td>-0.004239</td>\n",
       "      <td>61.769049</td>\n",
       "      <td>SMAPE</td>\n",
       "      <td>KNN-eIF</td>\n",
       "      <td>NaN</td>\n",
       "    </tr>\n",
       "    <tr>\n",
       "      <td>140</td>\n",
       "      <td>53.915381</td>\n",
       "      <td>160.761553</td>\n",
       "      <td>-0.037299</td>\n",
       "      <td>83.038433</td>\n",
       "      <td>RMSE</td>\n",
       "      <td>XGB-eIF</td>\n",
       "      <td>NaN</td>\n",
       "    </tr>\n",
       "    <tr>\n",
       "      <td>141</td>\n",
       "      <td>68.469684</td>\n",
       "      <td>64.350382</td>\n",
       "      <td>-0.384170</td>\n",
       "      <td>88.268605</td>\n",
       "      <td>MAPE</td>\n",
       "      <td>XGB-eIF</td>\n",
       "      <td>NaN</td>\n",
       "    </tr>\n",
       "    <tr>\n",
       "      <td>142</td>\n",
       "      <td>58.764885</td>\n",
       "      <td>138.611168</td>\n",
       "      <td>0.004834</td>\n",
       "      <td>66.849703</td>\n",
       "      <td>R2</td>\n",
       "      <td>XGB-eIF</td>\n",
       "      <td>NaN</td>\n",
       "    </tr>\n",
       "    <tr>\n",
       "      <td>143</td>\n",
       "      <td>57.697481</td>\n",
       "      <td>100.264331</td>\n",
       "      <td>0.019557</td>\n",
       "      <td>59.638746</td>\n",
       "      <td>SMAPE</td>\n",
       "      <td>XGB-eIF</td>\n",
       "      <td>NaN</td>\n",
       "    </tr>\n",
       "  </tbody>\n",
       "</table>\n",
       "</div>"
      ],
      "text/plain": [
       "          RMSE        MAPE        R2      SMAPE Metric      Model Transform\n",
       "48   24.431275  105.313047 -0.058491  56.747524   RMSE  LGBM-eLOF       NaN\n",
       "49   26.558480   93.356891 -0.047687  56.105823   MAPE  LGBM-eLOF       NaN\n",
       "50   58.085880  126.066481  0.101035  61.718440     R2  LGBM-eLOF       NaN\n",
       "51   24.922851   92.344671 -0.019238  55.365809  SMAPE  LGBM-eLOF       NaN\n",
       "52   23.987801  106.191244  0.020504  55.329563   RMSE    RF-eLOF       NaN\n",
       "53   24.770436  106.711137 -0.014956  56.119391   MAPE    RF-eLOF       NaN\n",
       "54   44.080528  135.077462 -0.033991  63.188034     R2    RF-eLOF       NaN\n",
       "55   23.953836  105.737889  0.019348  55.633148  SMAPE    RF-eLOF       NaN\n",
       "56   23.949758  105.888926  0.016920  55.851380   RMSE    LR-eLOF       NaN\n",
       "57   24.673859  103.958356  0.001714  55.509362   MAPE    LR-eLOF       NaN\n",
       "58   25.576612  107.482037  0.038102  56.414530     R2    LR-eLOF       NaN\n",
       "59   22.361709   97.870622 -0.028820  53.798217  SMAPE    LR-eLOF       NaN\n",
       "60   24.317791  108.995274 -0.003079  56.584811   RMSE  GBDT-eLOF       NaN\n",
       "61   26.550005  105.754194 -0.044457  56.930138   MAPE  GBDT-eLOF       NaN\n",
       "62   45.218239  127.297215 -0.019487  62.870101     R2  GBDT-eLOF       NaN\n",
       "63   25.208391  107.757910 -0.044101  57.118345  SMAPE  GBDT-eLOF       NaN\n",
       "64   24.191813  104.159033  0.004501  55.721461   RMSE   KNN-eLOF       NaN\n",
       "65   24.731390  103.656518  0.004415  55.866423   MAPE   KNN-eLOF       NaN\n",
       "66   61.962081  133.134531 -0.025515  65.190288     R2   KNN-eLOF       NaN\n",
       "67   22.296214   98.102751 -0.001595  54.012658  SMAPE   KNN-eLOF       NaN\n",
       "68   25.451185  105.889647 -0.107710  56.777963   RMSE   XGB-eLOF       NaN\n",
       "69   28.483395   67.865502 -0.391065  63.235270   MAPE   XGB-eLOF       NaN\n",
       "70   43.422485  127.650835  0.054557  62.664884     R2   XGB-eLOF       NaN\n",
       "71   23.392286   98.798881 -0.115220  54.565388  SMAPE   XGB-eLOF       NaN\n",
       "120  58.359465  122.097188 -0.073977  63.304561   RMSE   LGBM-eIF       NaN\n",
       "121  57.401521   99.346872 -0.042983  60.965188   MAPE   LGBM-eIF       NaN\n",
       "122  59.297582   96.362440  0.018117  63.721910     R2   LGBM-eIF       NaN\n",
       "123  63.363820   95.468615 -0.024878  60.160796  SMAPE   LGBM-eIF       NaN\n",
       "124  61.440324  146.699319 -0.197859  65.206500   RMSE     RF-eIF       NaN\n",
       "125  50.236914  133.435353 -0.018956  63.472652   MAPE     RF-eIF       NaN\n",
       "126  57.228441  138.957274 -0.018886  63.343194     R2     RF-eIF       NaN\n",
       "127  59.800051  142.106276 -0.203191  65.303570  SMAPE     RF-eIF       NaN\n",
       "128  43.154961  127.027949 -0.032987  62.306079   RMSE     LR-eIF       NaN\n",
       "129  46.676291  123.561842 -0.029885  62.115025   MAPE     LR-eIF       NaN\n",
       "130  61.793600  143.508610 -0.041148  67.933405     R2     LR-eIF       NaN\n",
       "131  62.680755  143.390260 -0.064890  67.483774  SMAPE     LR-eIF       NaN\n",
       "132  51.100222  140.627085 -0.031301  64.484716   RMSE   GBDT-eIF       NaN\n",
       "133  49.245952  123.350690 -0.029212  62.199927   MAPE   GBDT-eIF       NaN\n",
       "134  64.407363  145.948739 -0.240049  73.354266     R2   GBDT-eIF       NaN\n",
       "135  49.002060  133.612834 -0.002146  62.694160  SMAPE   GBDT-eIF       NaN\n",
       "136  60.189930  138.723501 -0.057968  65.471777   RMSE    KNN-eIF       NaN\n",
       "137  56.763412  130.940613 -0.035511  63.799348   MAPE    KNN-eIF       NaN\n",
       "138  61.127579  129.230644  0.048231  63.635030     R2    KNN-eIF       NaN\n",
       "139  45.754494  126.476159 -0.004239  61.769049  SMAPE    KNN-eIF       NaN\n",
       "140  53.915381  160.761553 -0.037299  83.038433   RMSE    XGB-eIF       NaN\n",
       "141  68.469684   64.350382 -0.384170  88.268605   MAPE    XGB-eIF       NaN\n",
       "142  58.764885  138.611168  0.004834  66.849703     R2    XGB-eIF       NaN\n",
       "143  57.697481  100.264331  0.019557  59.638746  SMAPE    XGB-eIF       NaN"
      ]
     },
     "execution_count": 69,
     "metadata": {},
     "output_type": "execute_result"
    }
   ],
   "source": [
    "extra"
   ]
  },
  {
   "cell_type": "code",
   "execution_count": null,
   "metadata": {},
   "outputs": [],
   "source": []
  }
 ],
 "metadata": {
  "kernelspec": {
   "display_name": "Python 3 (ipykernel)",
   "language": "python",
   "name": "python3"
  },
  "language_info": {
   "codemirror_mode": {
    "name": "ipython",
    "version": 3
   },
   "file_extension": ".py",
   "mimetype": "text/x-python",
   "name": "python",
   "nbconvert_exporter": "python",
   "pygments_lexer": "ipython3",
   "version": "3.10.4"
  }
 },
 "nbformat": 4,
 "nbformat_minor": 2
}
