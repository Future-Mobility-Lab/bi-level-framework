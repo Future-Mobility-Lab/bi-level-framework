{
 "cells": [
  {
   "cell_type": "code",
   "execution_count": 1,
   "id": "200fc037",
   "metadata": {},
   "outputs": [
    {
     "name": "stdout",
     "output_type": "stream",
     "text": [
      "\n",
      "from copy import copy\n",
      "from lightgbm import LGBMClassifier as LGB\n",
      "from scipy import stats\n",
      "from sklearn import metrics,neighbors,preprocessing\n",
      "from sklearn import tree\n",
      "from sklearn.ensemble import GradientBoostingClassifier, GradientBoostingRegressor\n",
      "from sklearn.ensemble import IsolationForest\n",
      "from sklearn.ensemble import RandomForestClassifier\n",
      "from sklearn.ensemble import RandomForestRegressor\n",
      "from sklearn.feature_selection import SelectPercentile, f_classif\n",
      "from sklearn.linear_model import LinearRegression, Ridge\n",
      "from sklearn.linear_model import LogisticRegression\n",
      "from sklearn.linear_model import LogisticRegression as LR\n",
      "from sklearn.linear_model import SGDClassifier\n",
      "from sklearn.metrics import accuracy_score\n",
      "from sklearn.metrics import cohen_kappa_score\n",
      "from sklearn.metrics import f1_score\n",
      "from sklearn.metrics import mean_absolute_error\n",
      "from sklearn.metrics import mean_squared_error\n",
      "from sklearn.metrics import mean_squared_error as mse\n",
      "from sklearn.metrics import precision_score\n",
      "from sklearn.metrics import r2_score,mean_squared_error\n",
      "from sklearn.metrics import recall_score\n",
      "from sklearn.metrics import recall_score, accuracy_score, precision_score,f1_score, make_scorer\n",
      "from sklearn.metrics import recall_score, accuracy_score, precision_score,f1_score, make_scorer \n",
      "from sklearn.model_selection import StratifiedKFold\n",
      "from sklearn.model_selection import cross_val_score as cv\n",
      "from sklearn.model_selection import cross_val_score, cross_validate, cross_val_predict, LeaveOneOut, KFold, StratifiedKFold\n",
      "from sklearn.model_selection import train_test_split, KFold, LeaveOneOut,GridSearchCV,RandomizedSearchCV\n",
      "from sklearn.neighbors import KNeighborsClassifier\n",
      "from sklearn.neighbors import KNeighborsClassifier as KNN\n",
      "from sklearn.pipeline import make_pipeline, make_union\n",
      "from sklearn.preprocessing import FunctionTransformer\n",
      "from sklearn.svm import SVC\n",
      "from time import time\n",
      "from xgboost import XGBClassifier, XGBRegressor, plot_tree, plot_importance\n",
      "from xgboost import XGBClassifier, plot_tree, plot_importance\n",
      "import copy\n",
      "import csv,sys, os, errno,os.path,io\n",
      "import matplotlib\n",
      "import matplotlib.pyplot as plt\n",
      "import multiprocessing\n",
      "import numpy as np\n",
      "import pandas as pd\n",
      "import scipy\n",
      "import seaborn as sns\n",
      "import tqdm\n",
      "import xgboost as xgb\n"
     ]
    }
   ],
   "source": [
    "from MLimports2 import *\n",
    "exec(MLimports())"
   ]
  },
  {
   "cell_type": "code",
   "execution_count": 2,
   "id": "3337016e",
   "metadata": {},
   "outputs": [],
   "source": [
    "from sklearn.linear_model import QuantileRegressor"
   ]
  },
  {
   "cell_type": "code",
   "execution_count": 123,
   "id": "7d29b63c",
   "metadata": {},
   "outputs": [],
   "source": [
    "X,Y = getBFS(part=[5,-1],dataset='a')\n",
    "X = X.values"
   ]
  },
  {
   "cell_type": "code",
   "execution_count": 124,
   "id": "9f2e2239",
   "metadata": {},
   "outputs": [],
   "source": [
    "zipped = list(zip(X,Y))\n",
    "X = [A for A,B in sorted(zipped, key = lambda x: x[1])]\n",
    "Y = [B for A,B in sorted(zipped, key = lambda x: x[1])]\n",
    "X = np.array(X)\n",
    "Y = np.array(Y)"
   ]
  },
  {
   "cell_type": "code",
   "execution_count": 87,
   "id": "12bc2ada",
   "metadata": {},
   "outputs": [
    {
     "name": "stdout",
     "output_type": "stream",
     "text": [
      "[66.41859826165862, 45.843493276510266]\n"
     ]
    }
   ],
   "source": [
    "#QUANTILED\n",
    "\n",
    "from sklearn.model_selection import KFold\n",
    "\n",
    "RES=[]\n",
    "\n",
    "kf = KFold(n_splits=10,shuffle=False)\n",
    "\n",
    "kf.get_n_splits(X,Y)\n",
    "RMSEQ = []\n",
    "\n",
    "for train_index, test_index in kf.split(X,Y):\n",
    "#             print('k')\n",
    "    Xtr, Xte = X[train_index], X[test_index]\n",
    "    Ytr, Yte = Y[train_index], Y[test_index]\n",
    "    #reg = QuantileRegressor(quantile=quantile, alpha=0)\n",
    "    reg = XGBRegressor(n_estimators=150,verbosity = 0)\n",
    "    reg.fit(Xtr,Ytr)\n",
    "    preds = reg.predict(Xte)\n",
    "    RMSEQ.append(np.sqrt(mse(Yte,preds)))\n",
    "#     RMSEQ.append(mape(Yte,preds))\n",
    "            \n",
    "RES.append([np.mean(RMSEQ),np.std(RMSEQ)])\n",
    "print(RES[-1])"
   ]
  },
  {
   "cell_type": "code",
   "execution_count": 155,
   "id": "a53f9e73",
   "metadata": {},
   "outputs": [],
   "source": [
    "RES=[]\n",
    "\n",
    "kf = KFold(n_splits=10,shuffle=True)\n",
    "\n",
    "kf.get_n_splits(X,Y)\n",
    "RMSEQ = []\n",
    "\n",
    "for train_index, test_index in kf.split(X,Y):\n",
    "    Xtr, Xte = X[train_index], X[test_index]\n",
    "    Ytr, Yte = Y[train_index], Y[test_index]\n",
    "    reg = XGBRegressor(n_estimators=350,verbosity = 0)\n",
    "    reg.fit(Xtr,Ytr)\n",
    "    preds = reg.predict(Xte)\n",
    "    RMSEQ.append(np.sqrt(mse(Yte,preds)))\n"
   ]
  },
  {
   "cell_type": "code",
   "execution_count": 156,
   "id": "6e0fb65b",
   "metadata": {},
   "outputs": [
    {
     "data": {
      "text/plain": [
       "[58.033465914479855,\n",
       " 35.272086804733945,\n",
       " 45.15763871358063,\n",
       " 81.12830161070828,\n",
       " 57.677462708625455,\n",
       " 92.02634839463795,\n",
       " 94.27136734291784,\n",
       " 70.39178288106343,\n",
       " 98.14809337183857,\n",
       " 76.2484835862898]"
      ]
     },
     "execution_count": 156,
     "metadata": {},
     "output_type": "execute_result"
    }
   ],
   "source": [
    "RMSEQ"
   ]
  },
  {
   "cell_type": "code",
   "execution_count": 157,
   "id": "615da013",
   "metadata": {},
   "outputs": [
    {
     "data": {
      "image/png": "[encoded data removed]",
      "text/plain": [
       "<Figure size 288x252 with 1 Axes>"
      ]
     },
     "metadata": {
      "needs_background": "light"
     },
     "output_type": "display_data"
    }
   ],
   "source": [
    "plt.rc('axes', axisbelow=True)\n",
    "plt.figure(figsize=(4,3.5))\n",
    "plt.bar(np.array(list(range(len(RMSEQ)))),RMSEQ)\n",
    "plt.xlabel('Fold',fontsize=13)\n",
    "plt.ylabel('MAPE [%]',fontsize=13)\n",
    "plt.xticks(np.arange(0,10))\n",
    "plt.text(-0.4, max(RMSEQ)*0.93, 'a)', fontsize = 20)\n",
    "plt.grid()\n",
    "# plt.ylim(0,90)\n",
    "plt.tight_layout()\n",
    "plt.savefig('A_KF.pdf')\n",
    "# plt.title('10 quantiled time-folds')"
   ]
  },
  {
   "cell_type": "code",
   "execution_count": null,
   "id": "de166d6b",
   "metadata": {},
   "outputs": [],
   "source": []
  },
  {
   "cell_type": "code",
   "execution_count": null,
   "id": "a9d97630",
   "metadata": {},
   "outputs": [],
   "source": []
  },
  {
   "cell_type": "code",
   "execution_count": null,
   "id": "29afb27c",
   "metadata": {},
   "outputs": [],
   "source": []
  },
  {
   "cell_type": "code",
   "execution_count": null,
   "id": "08d00844",
   "metadata": {},
   "outputs": [],
   "source": []
  },
  {
   "cell_type": "code",
   "execution_count": null,
   "id": "948fb15a",
   "metadata": {},
   "outputs": [],
   "source": []
  },
  {
   "cell_type": "code",
   "execution_count": 112,
   "id": "b0f602b6",
   "metadata": {},
   "outputs": [
    {
     "data": {
      "text/plain": [
       "[10.0, 29.0, 29.0, 30.0, 44.0, 47.0, 72.0, 108.0, 360.0, 2715.0]"
      ]
     },
     "execution_count": 112,
     "metadata": {},
     "output_type": "execute_result"
    }
   ],
   "source": [
    "[np.quantile(Y,A) for A in np.linspace(0.0,1,10)]"
   ]
  },
  {
   "cell_type": "code",
   "execution_count": null,
   "id": "3a6ab4eb",
   "metadata": {},
   "outputs": [],
   "source": []
  },
  {
   "cell_type": "code",
   "execution_count": 101,
   "id": "ddf05e8f",
   "metadata": {},
   "outputs": [
    {
     "name": "stdout",
     "output_type": "stream",
     "text": [
      "[49.95608084175136, 7.333926505347353]\n"
     ]
    }
   ],
   "source": [
    "from sklearn.model_selection import KFold\n",
    "\n",
    "RES=[]\n",
    "\n",
    "kf = KFold(n_splits=10,shuffle=True)\n",
    "\n",
    "kf.get_n_splits(X,Y)\n",
    "RMSE = []\n",
    "\n",
    "\n",
    "for train_index, test_index in kf.split(X,Y):\n",
    "#             print('k')\n",
    "    Xtr, Xte = X[train_index], X[test_index]\n",
    "    Ytr, Yte = Y[train_index], Y[test_index]\n",
    "    #reg = QuantileRegressor(quantile=quantile, alpha=0)\n",
    "#     for i in range(10):\n",
    "    reg = XGBRegressor(n_estimators=100,verbosity = 0)\n",
    "    reg.fit(Xtr,Ytr)\n",
    "    preds = reg.predict(Xte)\n",
    "    RMSE.append(np.sqrt(mse(Yte,preds)))\n",
    "            \n",
    "RES.append([np.mean(RMSE),np.std(RMSE)])\n",
    "print(RES[-1])"
   ]
  },
  {
   "cell_type": "code",
   "execution_count": 102,
   "id": "d32ecaaa",
   "metadata": {},
   "outputs": [
    {
     "data": {
      "text/plain": [
       "[49.40480450880131,\n",
       " 51.73428926895006,\n",
       " 47.030082339087336,\n",
       " 50.65605126405232,\n",
       " 42.50628689118303,\n",
       " 43.62171836222986,\n",
       " 46.24212844494563,\n",
       " 50.87276134896721,\n",
       " 70.16020917363426,\n",
       " 47.33247681566265]"
      ]
     },
     "execution_count": 102,
     "metadata": {},
     "output_type": "execute_result"
    }
   ],
   "source": [
    "RMSE"
   ]
  },
  {
   "cell_type": "code",
   "execution_count": 103,
   "id": "24a0b342",
   "metadata": {},
   "outputs": [
    {
     "data": {
      "text/plain": [
       "Text(0.5, 1.0, '10-folds')"
      ]
     },
     "execution_count": 103,
     "metadata": {},
     "output_type": "execute_result"
    },
    {
     "data": {
      "image/png": "[encoded data removed]",
      "text/plain": [
       "<Figure size 648x504 with 1 Axes>"
      ]
     },
     "metadata": {
      "needs_background": "light"
     },
     "output_type": "display_data"
    }
   ],
   "source": [
    "plt.bar(list(range(len(RMSE))),RMSE)\n",
    "plt.xlabel('Fold')\n",
    "plt.ylabel('RMSE')\n",
    "plt.title('10-folds')"
   ]
  },
  {
   "cell_type": "code",
   "execution_count": null,
   "id": "b110e5ac",
   "metadata": {},
   "outputs": [],
   "source": []
  },
  {
   "cell_type": "code",
   "execution_count": null,
   "id": "9ac073fe",
   "metadata": {},
   "outputs": [],
   "source": []
  },
  {
   "cell_type": "code",
   "execution_count": null,
   "id": "fe9687a4",
   "metadata": {},
   "outputs": [],
   "source": []
  },
  {
   "cell_type": "code",
   "execution_count": 14,
   "id": "434b5903",
   "metadata": {},
   "outputs": [],
   "source": [
    "reg = QuantileRegressor(quantile=0.5,alpha=0.5)"
   ]
  },
  {
   "cell_type": "code",
   "execution_count": 15,
   "id": "49e30e63",
   "metadata": {},
   "outputs": [
    {
     "name": "stderr",
     "output_type": "stream",
     "text": [
      "c:\\users\\user\\python39\\lib\\site-packages\\sklearn\\linear_model\\_quantile.py:268: ConvergenceWarning: Linear programming for QuantileRegressor did not succeed.\n",
      "Status is 1: Iteration limit reached.\n",
      "Result message of linprog:\n",
      "The iteration limit was reached before the algorithm converged.\n",
      "  warnings.warn(\n"
     ]
    },
    {
     "data": {
      "text/plain": [
       "QuantileRegressor(alpha=0.5)"
      ]
     },
     "execution_count": 15,
     "metadata": {},
     "output_type": "execute_result"
    }
   ],
   "source": [
    "reg.fit(X,Y)"
   ]
  },
  {
   "cell_type": "code",
   "execution_count": null,
   "id": "0154f09c",
   "metadata": {},
   "outputs": [],
   "source": []
  }
 ],
 "metadata": {
  "kernelspec": {
   "display_name": "Python 3 (ipykernel)",
   "language": "python",
   "name": "python3"
  },
  "language_info": {
   "codemirror_mode": {
    "name": "ipython",
    "version": 3
   },
   "file_extension": ".py",
   "mimetype": "text/x-python",
   "name": "python",
   "nbconvert_exporter": "python",
   "pygments_lexer": "ipython3",
   "version": "3.9.6"
  }
 },
 "nbformat": 4,
 "nbformat_minor": 5
}
