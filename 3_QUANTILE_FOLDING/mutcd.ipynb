{
 "cells": [
  {
   "cell_type": "code",
   "execution_count": 1,
   "id": "7d5ad89a",
   "metadata": {},
   "outputs": [
    {
     "name": "stdout",
     "output_type": "stream",
     "text": [
      "\n",
      "from copy import copy\n",
      "from lightgbm import LGBMClassifier as LGB\n",
      "from scipy import stats\n",
      "from sklearn import metrics,neighbors,preprocessing\n",
      "from sklearn import tree\n",
      "from sklearn.ensemble import GradientBoostingClassifier, GradientBoostingRegressor\n",
      "from sklearn.ensemble import IsolationForest\n",
      "from sklearn.ensemble import RandomForestClassifier\n",
      "from sklearn.ensemble import RandomForestRegressor\n",
      "from sklearn.feature_selection import SelectPercentile, f_classif\n",
      "from sklearn.linear_model import LinearRegression, Ridge\n",
      "from sklearn.linear_model import LogisticRegression\n",
      "from sklearn.linear_model import LogisticRegression as LR\n",
      "from sklearn.linear_model import SGDClassifier\n",
      "from sklearn.metrics import accuracy_score\n",
      "from sklearn.metrics import cohen_kappa_score\n",
      "from sklearn.metrics import f1_score\n",
      "from sklearn.metrics import mean_absolute_error\n",
      "from sklearn.metrics import mean_squared_error\n",
      "from sklearn.metrics import mean_squared_error as mse\n",
      "from sklearn.metrics import precision_score\n",
      "from sklearn.metrics import r2_score,mean_squared_error\n",
      "from sklearn.metrics import recall_score\n",
      "from sklearn.metrics import recall_score, accuracy_score, precision_score,f1_score, make_scorer\n",
      "from sklearn.metrics import recall_score, accuracy_score, precision_score,f1_score, make_scorer \n",
      "from sklearn.model_selection import StratifiedKFold\n",
      "from sklearn.model_selection import cross_val_score as cv\n",
      "from sklearn.model_selection import cross_val_score, cross_validate, cross_val_predict, LeaveOneOut, KFold, StratifiedKFold\n",
      "from sklearn.model_selection import train_test_split, KFold, LeaveOneOut,GridSearchCV,RandomizedSearchCV\n",
      "from sklearn.neighbors import KNeighborsClassifier\n",
      "from sklearn.neighbors import KNeighborsClassifier as KNN\n",
      "from sklearn.pipeline import make_pipeline, make_union\n",
      "from sklearn.preprocessing import FunctionTransformer\n",
      "from sklearn.svm import SVC\n",
      "from time import time\n",
      "from xgboost import XGBClassifier, XGBRegressor, plot_tree, plot_importance\n",
      "from xgboost import XGBClassifier, plot_tree, plot_importance\n",
      "import copy\n",
      "import csv,sys, os, errno,os.path,io\n",
      "import matplotlib\n",
      "import matplotlib.pyplot as plt\n",
      "import multiprocessing\n",
      "import numpy as np\n",
      "import pandas as pd\n",
      "import scipy\n",
      "import seaborn as sns\n",
      "import tqdm\n",
      "import xgboost as xgb\n"
     ]
    }
   ],
   "source": [
    "from MLimports2 import *\n",
    "exec(MLimports())\n",
    "\n"
   ]
  },
  {
   "cell_type": "code",
   "execution_count": 43,
   "id": "41529f3b",
   "metadata": {},
   "outputs": [
    {
     "data": {
      "image/png": "[encoded data removed]",
      "text/plain": [
       "<Figure size 180x216 with 1 Axes>"
      ]
     },
     "metadata": {
      "needs_background": "light"
     },
     "output_type": "display_data"
    }
   ],
   "source": [
    "X,Y = getBFS(part=[0,-1],dataset='a')\n",
    "X=X.values\n",
    "\n",
    "nY=copy.deepcopy(Y)\n",
    "\n",
    "nY[nY<=30] = 0\n",
    "nY[(nY<=120) & (nY>30)] = 1\n",
    "nY[nY>120] = 2\n",
    "\n",
    "plt.figure(figsize=(2.5,3))\n",
    "plt.xlabel('MUTCD duration class',fontsize=12)\n",
    "plt.ylabel('Number of instances',fontsize=12)\n",
    "plt.hist(nY)\n",
    "plt.text(1.6, 270, 'a)', fontsize = 20)\n",
    "plt.tight_layout()\n",
    "plt.xticks([0,1,2],[\"a\",\"b\",\"c\"])\n",
    "plt.savefig('A_MUT.pdf')"
   ]
  },
  {
   "cell_type": "code",
   "execution_count": 41,
   "id": "8a43d2ab",
   "metadata": {},
   "outputs": [
    {
     "data": {
      "image/png": "[encoded data removed]",
      "text/plain": [
       "<Figure size 180x216 with 1 Axes>"
      ]
     },
     "metadata": {
      "needs_background": "light"
     },
     "output_type": "display_data"
    }
   ],
   "source": [
    "X,Y = getBFS(part=[0,-1],dataset='m')\n",
    "X=X.values\n",
    "\n",
    "nY=copy.deepcopy(Y)\n",
    "\n",
    "nY[nY<=30] = 0\n",
    "nY[(nY<=120) & (nY>30)] = 1\n",
    "nY[nY>120] = 2\n",
    "\n",
    "plt.figure(figsize=(2.5,3))\n",
    "plt.xlabel('MUTCD duration class',fontsize=12)\n",
    "plt.ylabel('Number of instances',fontsize=12)\n",
    "plt.hist(nY)\n",
    "plt.text(1.6, 3300, 'b)', fontsize = 20)\n",
    "plt.tight_layout()\n",
    "plt.xticks([0,1,2],[\"a\",\"b\",\"c\"])\n",
    "plt.savefig('M_MUT.pdf')"
   ]
  },
  {
   "cell_type": "code",
   "execution_count": 40,
   "id": "dd1c22ff",
   "metadata": {},
   "outputs": [
    {
     "data": {
      "image/png": "[encoded data removed]",
      "text/plain": [
       "<Figure size 180x216 with 1 Axes>"
      ]
     },
     "metadata": {
      "needs_background": "light"
     },
     "output_type": "display_data"
    }
   ],
   "source": [
    "X,Y = getBFS(part=[0,-1],dataset='sf')\n",
    "X=X.values\n",
    "\n",
    "nY=copy.deepcopy(Y)\n",
    "\n",
    "nY[nY<=30] = 0\n",
    "nY[(nY<=120) & (nY>30)] = 1\n",
    "nY[nY>120] = 2\n",
    "\n",
    "plt.figure(figsize=(2.5,3))\n",
    "plt.xlabel('MUTCD duration class',fontsize=12)\n",
    "plt.ylabel('Number of instances',fontsize=12)\n",
    "plt.hist(nY)\n",
    "plt.text(1.7, 3400, 'c)', fontsize = 20)\n",
    "plt.tight_layout()\n",
    "plt.xticks([0,1,2],[\"a\",\"b\",\"c\"])\n",
    "plt.savefig('SF_MUT.pdf')"
   ]
  },
  {
   "cell_type": "code",
   "execution_count": null,
   "id": "80f7f783",
   "metadata": {},
   "outputs": [],
   "source": []
  }
 ],
 "metadata": {
  "kernelspec": {
   "display_name": "Python 3 (ipykernel)",
   "language": "python",
   "name": "python3"
  },
  "language_info": {
   "codemirror_mode": {
    "name": "ipython",
    "version": 3
   },
   "file_extension": ".py",
   "mimetype": "text/x-python",
   "name": "python",
   "nbconvert_exporter": "python",
   "pygments_lexer": "ipython3",
   "version": "3.9.6"
  }
 },
 "nbformat": 4,
 "nbformat_minor": 5
}
