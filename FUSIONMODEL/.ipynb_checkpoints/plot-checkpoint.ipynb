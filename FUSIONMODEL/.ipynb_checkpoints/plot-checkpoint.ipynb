{
 "cells": [
  {
   "cell_type": "code",
   "execution_count": 1,
   "id": "9bc0ebd8",
   "metadata": {},
   "outputs": [],
   "source": [
    "import pandas as pd"
   ]
  },
  {
   "cell_type": "code",
   "execution_count": 2,
   "id": "5220d1b2",
   "metadata": {},
   "outputs": [
    {
     "data": {
      "text/html": [
       "<div>\n",
       "<style scoped>\n",
       "    .dataframe tbody tr th:only-of-type {\n",
       "        vertical-align: middle;\n",
       "    }\n",
       "\n",
       "    .dataframe tbody tr th {\n",
       "        vertical-align: top;\n",
       "    }\n",
       "\n",
       "    .dataframe thead th {\n",
       "        text-align: right;\n",
       "    }\n",
       "</style>\n",
       "<table border=\"1\" class=\"dataframe\">\n",
       "  <thead>\n",
       "    <tr style=\"text-align: right;\">\n",
       "      <th></th>\n",
       "      <th>RMSEfusion</th>\n",
       "      <th>RMSEreg</th>\n",
       "      <th>RMSEpipe</th>\n",
       "    </tr>\n",
       "  </thead>\n",
       "  <tbody>\n",
       "    <tr>\n",
       "      <th>0</th>\n",
       "      <td>57.0</td>\n",
       "      <td>74.0</td>\n",
       "      <td>79.0</td>\n",
       "    </tr>\n",
       "    <tr>\n",
       "      <th>1</th>\n",
       "      <td>50.0</td>\n",
       "      <td>57.0</td>\n",
       "      <td>63.0</td>\n",
       "    </tr>\n",
       "    <tr>\n",
       "      <th>2</th>\n",
       "      <td>70.0</td>\n",
       "      <td>101.0</td>\n",
       "      <td>95.0</td>\n",
       "    </tr>\n",
       "    <tr>\n",
       "      <th>3</th>\n",
       "      <td>56.0</td>\n",
       "      <td>68.0</td>\n",
       "      <td>73.0</td>\n",
       "    </tr>\n",
       "    <tr>\n",
       "      <th>4</th>\n",
       "      <td>96.0</td>\n",
       "      <td>88.0</td>\n",
       "      <td>101.0</td>\n",
       "    </tr>\n",
       "    <tr>\n",
       "      <th>5</th>\n",
       "      <td>49.0</td>\n",
       "      <td>88.0</td>\n",
       "      <td>86.0</td>\n",
       "    </tr>\n",
       "    <tr>\n",
       "      <th>6</th>\n",
       "      <td>46.0</td>\n",
       "      <td>49.0</td>\n",
       "      <td>58.0</td>\n",
       "    </tr>\n",
       "    <tr>\n",
       "      <th>7</th>\n",
       "      <td>52.0</td>\n",
       "      <td>55.0</td>\n",
       "      <td>59.0</td>\n",
       "    </tr>\n",
       "    <tr>\n",
       "      <th>8</th>\n",
       "      <td>66.0</td>\n",
       "      <td>112.0</td>\n",
       "      <td>107.0</td>\n",
       "    </tr>\n",
       "    <tr>\n",
       "      <th>9</th>\n",
       "      <td>38.0</td>\n",
       "      <td>44.0</td>\n",
       "      <td>49.0</td>\n",
       "    </tr>\n",
       "  </tbody>\n",
       "</table>\n",
       "</div>"
      ],
      "text/plain": [
       "   RMSEfusion  RMSEreg  RMSEpipe\n",
       "0        57.0     74.0      79.0\n",
       "1        50.0     57.0      63.0\n",
       "2        70.0    101.0      95.0\n",
       "3        56.0     68.0      73.0\n",
       "4        96.0     88.0     101.0\n",
       "5        49.0     88.0      86.0\n",
       "6        46.0     49.0      58.0\n",
       "7        52.0     55.0      59.0\n",
       "8        66.0    112.0     107.0\n",
       "9        38.0     44.0      49.0"
      ]
     },
     "execution_count": 2,
     "metadata": {},
     "output_type": "execute_result"
    }
   ],
   "source": [
    "dt = pd.read_csv(\"SF_fusion.csv\",sep=',')\n",
    "dt"
   ]
  },
  {
   "cell_type": "code",
   "execution_count": 3,
   "id": "9441228b",
   "metadata": {},
   "outputs": [],
   "source": [
    "import matplotlib.pyplot as plt\n",
    "import numpy as np"
   ]
  },
  {
   "cell_type": "code",
   "execution_count": 29,
   "id": "3e5e2c79",
   "metadata": {},
   "outputs": [
    {
     "name": "stdout",
     "output_type": "stream",
     "text": [
      "\n"
     ]
    },
    {
     "data": {
      "image/png": "[encoded data removed]",
      "text/plain": [
       "<Figure size 360x252 with 1 Axes>"
      ]
     },
     "metadata": {
      "needs_background": "light"
     },
     "output_type": "display_data"
    }
   ],
   "source": [
    "fig = plt.figure(figsize=(5,3.5))\n",
    "\n",
    "ax = fig.add_axes([0,0,1,1])\n",
    "\n",
    "\n",
    "ax.grid(linewidth=1,ls='--')\n",
    "ax.bar(np.arange(10),dt.iloc[:,0],width = 0.25,label=\"Fusion model\")\n",
    "ax.bar(np.arange(10)+0.25,dt.iloc[:,1],width = 0.25, label=\"Single model\")\n",
    "ax.bar(np.arange(10)+0.5,dt.iloc[:,2],width = 0.25, label=\"Pipeline model\")\n",
    "ax.set_xticks(np.arange(10))\n",
    "ax.set_xticklabels(np.arange(10), fontsize=14 )\n",
    "ax.tick_params(axis='y', labelsize=14 )\n",
    "ax.set_xlabel(\"Fold [k]\",fontsize=16)\n",
    "ax.set_ylabel(\"RMSE\",fontsize=16)\n",
    "ax.set_title(\"c)\",fontsize=20)\n",
    "ax.set_axisbelow(True)\n",
    "# ax.set_ylim(dt.iloc[:,0].min()-20,dt.iloc[:,1].max()+15)\n",
    "\n",
    "ax.axhline(y=dt.iloc[:,0].mean(), color='blue', linestyle='--',lw=2.3,label='avg RMSE, fusion')\n",
    "ax.axhline(y=dt.iloc[:,1].mean(), color='orange', linestyle='--',lw=2.3,label='avg RMSE, single')\n",
    "ax.axhline(y=dt.iloc[:,2].mean(), color='green', linestyle='--',lw=2.3,label='avg RMSE, pipeline')\n",
    "\n",
    "leg = ax.legend(loc='lower right',fontsize=12)\n",
    "\n",
    "\n",
    "\n",
    "fig.savefig(\"SF_fusion.pdf\",format=\"pdf\",bbox_inches = 'tight')\n",
    "print()"
   ]
  },
  {
   "cell_type": "code",
   "execution_count": null,
   "id": "120db2ba",
   "metadata": {},
   "outputs": [],
   "source": []
  }
 ],
 "metadata": {
  "kernelspec": {
   "display_name": "Python 3 (ipykernel)",
   "language": "python",
   "name": "python3"
  },
  "language_info": {
   "codemirror_mode": {
    "name": "ipython",
    "version": 3
   },
   "file_extension": ".py",
   "mimetype": "text/x-python",
   "name": "python",
   "nbconvert_exporter": "python",
   "pygments_lexer": "ipython3",
   "version": "3.10.4"
  }
 },
 "nbformat": 4,
 "nbformat_minor": 5
}
