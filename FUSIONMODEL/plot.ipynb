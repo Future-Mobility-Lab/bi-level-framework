{
 "cells": [
  {
   "cell_type": "code",
   "execution_count": 1,
   "id": "9bc0ebd8",
   "metadata": {},
   "outputs": [],
   "source": [
    "import pandas as pd"
   ]
  },
  {
   "cell_type": "code",
   "execution_count": 82,
   "id": "5220d1b2",
   "metadata": {},
   "outputs": [
    {
     "data": {
      "text/html": [
       "<div>\n",
       "<style scoped>\n",
       "    .dataframe tbody tr th:only-of-type {\n",
       "        vertical-align: middle;\n",
       "    }\n",
       "\n",
       "    .dataframe tbody tr th {\n",
       "        vertical-align: top;\n",
       "    }\n",
       "\n",
       "    .dataframe thead th {\n",
       "        text-align: right;\n",
       "    }\n",
       "</style>\n",
       "<table border=\"1\" class=\"dataframe\">\n",
       "  <thead>\n",
       "    <tr style=\"text-align: right;\">\n",
       "      <th></th>\n",
       "      <th>RMSEfusion</th>\n",
       "      <th>RMSEreg</th>\n",
       "      <th>RMSEpipe</th>\n",
       "    </tr>\n",
       "  </thead>\n",
       "  <tbody>\n",
       "    <tr>\n",
       "      <th>0</th>\n",
       "      <td>70.0</td>\n",
       "      <td>89.0</td>\n",
       "      <td>87.0</td>\n",
       "    </tr>\n",
       "    <tr>\n",
       "      <th>1</th>\n",
       "      <td>40.0</td>\n",
       "      <td>28.0</td>\n",
       "      <td>31.0</td>\n",
       "    </tr>\n",
       "    <tr>\n",
       "      <th>2</th>\n",
       "      <td>96.0</td>\n",
       "      <td>99.0</td>\n",
       "      <td>97.0</td>\n",
       "    </tr>\n",
       "    <tr>\n",
       "      <th>3</th>\n",
       "      <td>27.0</td>\n",
       "      <td>23.0</td>\n",
       "      <td>30.0</td>\n",
       "    </tr>\n",
       "    <tr>\n",
       "      <th>4</th>\n",
       "      <td>94.0</td>\n",
       "      <td>93.0</td>\n",
       "      <td>94.0</td>\n",
       "    </tr>\n",
       "    <tr>\n",
       "      <th>5</th>\n",
       "      <td>78.0</td>\n",
       "      <td>82.0</td>\n",
       "      <td>84.0</td>\n",
       "    </tr>\n",
       "    <tr>\n",
       "      <th>6</th>\n",
       "      <td>39.0</td>\n",
       "      <td>42.0</td>\n",
       "      <td>45.0</td>\n",
       "    </tr>\n",
       "    <tr>\n",
       "      <th>7</th>\n",
       "      <td>48.0</td>\n",
       "      <td>46.0</td>\n",
       "      <td>50.0</td>\n",
       "    </tr>\n",
       "    <tr>\n",
       "      <th>8</th>\n",
       "      <td>45.0</td>\n",
       "      <td>43.0</td>\n",
       "      <td>47.0</td>\n",
       "    </tr>\n",
       "    <tr>\n",
       "      <th>9</th>\n",
       "      <td>53.0</td>\n",
       "      <td>53.0</td>\n",
       "      <td>57.0</td>\n",
       "    </tr>\n",
       "  </tbody>\n",
       "</table>\n",
       "</div>"
      ],
      "text/plain": [
       "   RMSEfusion  RMSEreg  RMSEpipe\n",
       "0        70.0     89.0      87.0\n",
       "1        40.0     28.0      31.0\n",
       "2        96.0     99.0      97.0\n",
       "3        27.0     23.0      30.0\n",
       "4        94.0     93.0      94.0\n",
       "5        78.0     82.0      84.0\n",
       "6        39.0     42.0      45.0\n",
       "7        48.0     46.0      50.0\n",
       "8        45.0     43.0      47.0\n",
       "9        53.0     53.0      57.0"
      ]
     },
     "execution_count": 82,
     "metadata": {},
     "output_type": "execute_result"
    }
   ],
   "source": [
    "dt = pd.read_csv(\"A_fusion.csv\",sep=',')\n",
    "dt"
   ]
  },
  {
   "cell_type": "code",
   "execution_count": 83,
   "id": "9441228b",
   "metadata": {},
   "outputs": [],
   "source": [
    "import matplotlib.pyplot as plt\n",
    "import numpy as np"
   ]
  },
  {
   "cell_type": "code",
   "execution_count": 85,
   "id": "3e5e2c79",
   "metadata": {},
   "outputs": [
    {
     "name": "stdout",
     "output_type": "stream",
     "text": [
      "\n"
     ]
    },
    {
     "data": {
      "image/png": "[encoded data removed]",
      "text/plain": [
       "<Figure size 360x288 with 1 Axes>"
      ]
     },
     "metadata": {
      "needs_background": "light"
     },
     "output_type": "display_data"
    }
   ],
   "source": [
    "fig = plt.figure(figsize=(5,4))\n",
    "\n",
    "ax = fig.add_axes([0,0,1,1])\n",
    "\n",
    "\n",
    "\n",
    "ax.grid(linewidth=1,ls='--')\n",
    "ax.bar(np.arange(10),dt.iloc[:,0],width = 0.25,label=\"Fusion model\")\n",
    "ax.bar(np.arange(10)+0.25,dt.iloc[:,1],width = 0.25, label=\"Single model\")\n",
    "ax.bar(np.arange(10)+0.5,dt.iloc[:,2],width = 0.25, label=\"Pipeline model\")\n",
    "ax.set_xticks(np.arange(10))\n",
    "ax.set_xticklabels(np.arange(10), fontsize=14 )\n",
    "ax.tick_params(axis='y', labelsize=14 )\n",
    "ax.set_xlabel(\"Fold [k]\",fontsize=16)\n",
    "ax.set_ylabel(\"RMSE\",fontsize=16)\n",
    "ax.set_title(\"a)\",fontsize=20)\n",
    "ax.set_axisbelow(True)\n",
    "# ax.set_ylim(dt.iloc[:,0].min()-20,dt.iloc[:,1].max()+15)\n",
    "\n",
    "leg1 = plt.legend(loc='lower right',fontsize=11)\n",
    "\n",
    "ax.axhline(y=dt.iloc[:,0].mean(), color='blue', linestyle='--',lw=2.3,label='Fusion model')\n",
    "ax.axhline(y=dt.iloc[:,1].mean(), color='orange', linestyle='--',lw=2.3,label='Single model')\n",
    "ax.axhline(y=dt.iloc[:,2].mean(), color='limegreen', linestyle='--',lw=2.3,label='Pipeline model')\n",
    "\n",
    "leg2 = ax.legend(loc='lower right',fontsize=11)\n",
    "# leg2.set_title(\"title\")\n",
    "# plt.gca().add_artist(leg1)\n",
    "# plt.gca().add_artist(leg2)\n",
    "\n",
    "# ax.add_artist(leg1)\n",
    "# ax.add_artist(leg2)\n",
    "\n",
    "fig.savefig(\"A_fusion.pdf\",format=\"pdf\",bbox_inches = 'tight')\n",
    "print()"
   ]
  },
  {
   "cell_type": "code",
   "execution_count": null,
   "id": "120db2ba",
   "metadata": {},
   "outputs": [],
   "source": []
  }
 ],
 "metadata": {
  "kernelspec": {
   "display_name": "Python 3 (ipykernel)",
   "language": "python",
   "name": "python3"
  },
  "language_info": {
   "codemirror_mode": {
    "name": "ipython",
    "version": 3
   },
   "file_extension": ".py",
   "mimetype": "text/x-python",
   "name": "python",
   "nbconvert_exporter": "python",
   "pygments_lexer": "ipython3",
   "version": "3.10.4"
  }
 },
 "nbformat": 4,
 "nbformat_minor": 5
}
