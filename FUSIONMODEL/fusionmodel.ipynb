{
 "cells": [
  {
   "cell_type": "code",
   "execution_count": 98,
   "id": "200fc037",
   "metadata": {},
   "outputs": [],
   "source": [
    "from MLimports2 import *\n",
    "exec(MLimports())"
   ]
  },
  {
   "cell_type": "code",
   "execution_count": 99,
   "id": "3c54e3fb",
   "metadata": {},
   "outputs": [],
   "source": [
    "# 1. Find the best model (hyper-parameters) for classification\n",
    "# 2. Find the best models (hyper-parameters) for regression of short term incidents and long-term incidents\n",
    "# 3. Find the best All-to-All regression model\n",
    "\n",
    "# 10-fold cross-validation\n",
    "#     1. Train on train-set and perform classification (divide incidents into two groups)\n",
    "#     2. Use best model hyper-parameters to train regression model A-A, use samples based on the predicted duration\n",
    "#     3. Use best model hyper-parameters to train regression model B-B, use samples based on the predicted duration\n",
    "#     4. Collect predictions and estimate metrics"
   ]
  },
  {
   "cell_type": "code",
   "execution_count": 100,
   "id": "4b954c2e",
   "metadata": {},
   "outputs": [],
   "source": [
    "def mse(yt,yp):\n",
    "    return mean_squared_error(yt,yp)\n",
    "\n",
    "def rmse(yt,yp):\n",
    "    return np.sqrt(mean_squared_error(yt,yp))\n",
    "\n",
    "\n",
    "METRIC = {'name':'RMSE','instance':rmse}"
   ]
  },
  {
   "cell_type": "code",
   "execution_count": 155,
   "id": "34a4153b",
   "metadata": {},
   "outputs": [
    {
     "name": "stdout",
     "output_type": "stream",
     "text": [
      "[LightGBM] [Warning] lambda_l1 is set=0.10010010010010009, reg_alpha=0.0 will be ignored. Current value: lambda_l1=0.10010010010010009\n",
      "[LightGBM] [Warning] bagging_fraction is set=0.8888888888888888, subsample=1.0 will be ignored. Current value: bagging_fraction=0.8888888888888888\n",
      "[LightGBM] [Warning] feature_fraction is set=0.7929292929292929, colsample_bytree=1.0 will be ignored. Current value: feature_fraction=0.7929292929292929\n",
      "[LightGBM] [Warning] lambda_l2 is set=0.2802802802802803, reg_lambda=0.0 will be ignored. Current value: lambda_l2=0.2802802802802803\n"
     ]
    }
   ],
   "source": [
    "#Table 5. Data set SF. All-to-All, A-to-A, B-to-B regression.\n",
    "# best All-to-All model for the data set SF\n",
    "\n",
    "import lightgbm as lgb\n",
    "from sklearn.model_selection import RandomizedSearchCV as RCV\n",
    "\n",
    "OPT={'name':'LGBM','instance':lgb.LGBMRegressor,'param':{\n",
    "            'feature_fraction':np.linspace(0.5,1,100),'bagging_fraction':np.linspace(0.5,1,100),\n",
    "            'learning_rate' : np.linspace(0.00001,1,10000), 'lambda_l1':np.linspace(0,5,1000),'lambda_l2':np.linspace(0,5,1000),\n",
    "            'max_depth' : np.arange(2,15), 'metric':['MAE','RMSE'],'objective':['huber', 'gamma', 'fair', 'tweedie'],\n",
    "        }}\n",
    "\n",
    "X,Y = getBFS(part=[0,-1],dataset='sf')\n",
    "\n",
    "reg = RCV(OPT['instance'](),OPT['param'],cv=10,n_jobs=20,random_state=1000,n_iter=250)\n",
    "reg.fit(X,np.log1p(Y))\n",
    "bestfullreg = OPT['instance'](**reg.best_params_)"
   ]
  },
  {
   "cell_type": "code",
   "execution_count": 156,
   "id": "ed6838f5",
   "metadata": {},
   "outputs": [],
   "source": [
    "# best regression model for A part\n",
    "X,Y = getBFS(part=[0,45],dataset='sf')\n",
    "\n",
    "reg = RCV(OPT['instance'](),OPT['param'],cv=10,n_jobs=20,random_state=1000,n_iter=250)\n",
    "reg.fit(X,Y)\n",
    "bestAreg = OPT['instance'](**reg.best_params_)"
   ]
  },
  {
   "cell_type": "code",
   "execution_count": 157,
   "id": "2f9d2032",
   "metadata": {},
   "outputs": [],
   "source": [
    "# best regression model for B part\n",
    "X,Y = getBFS(part=[45,-1],dataset='sf')\n",
    "\n",
    "reg = RCV(OPT['instance'](),OPT['param'],cv=10,n_jobs=20,random_state=1000,n_iter=250)\n",
    "reg.fit(X,Y)\n",
    "bestBreg = OPT['instance'](**reg.best_params_)"
   ]
  },
  {
   "cell_type": "code",
   "execution_count": 158,
   "id": "5ecba094",
   "metadata": {},
   "outputs": [
    {
     "data": {
      "text/plain": [
       "LGBMRegressor(bagging_fraction=0.8888888888888888,\n",
       "              feature_fraction=0.7929292929292929,\n",
       "              lambda_l1=0.10010010010010009, lambda_l2=0.2802802802802803,\n",
       "              learning_rate=0.07351661566156616, max_depth=8, metric='MAE',\n",
       "              objective='fair')"
      ]
     },
     "execution_count": 158,
     "metadata": {},
     "output_type": "execute_result"
    }
   ],
   "source": [
    "bestBreg"
   ]
  },
  {
   "cell_type": "code",
   "execution_count": 160,
   "id": "376713a2",
   "metadata": {},
   "outputs": [],
   "source": [
    "#best classifier\n",
    "OPT = {'name':'RF','instance': RandomForestClassifier, 'param':{\n",
    "    'n_estimators' : np.arange(20,200,1),\n",
    "    'max_depth':np.arange(2,15,1),\n",
    "}}\n",
    "\n",
    "from sklearn.preprocessing import binarize\n",
    "X,Y = getBFS(part=[0,-1],dataset='sf')\n",
    "X = X.values\n",
    "Ybin = binarize(Y.reshape(-1,1),threshold=45).ravel()\n",
    "\n",
    "\n",
    "cla = RCV(OPT['instance'](),OPT['param'],cv=10,n_jobs=20,random_state=1000,n_iter=250)\n",
    "cla.fit(X,Ybin)\n",
    "\n",
    "bestfullcla = OPT['instance'](**cla.best_params_)"
   ]
  },
  {
   "cell_type": "code",
   "execution_count": 164,
   "id": "fcecba41",
   "metadata": {},
   "outputs": [
    {
     "name": "stdout",
     "output_type": "stream",
     "text": [
      "[LightGBM] [Warning] lambda_l1 is set=0.10010010010010009, reg_alpha=0.0 will be ignored. Current value: lambda_l1=0.10010010010010009\n",
      "[LightGBM] [Warning] bagging_fraction is set=0.8888888888888888, subsample=1.0 will be ignored. Current value: bagging_fraction=0.8888888888888888\n",
      "[LightGBM] [Warning] feature_fraction is set=0.7929292929292929, colsample_bytree=1.0 will be ignored. Current value: feature_fraction=0.7929292929292929\n",
      "[LightGBM] [Warning] lambda_l2 is set=0.2802802802802803, reg_lambda=0.0 will be ignored. Current value: lambda_l2=0.2802802802802803\n",
      "[LightGBM] [Warning] lambda_l1 is set=0.8308308308308309, reg_alpha=0.0 will be ignored. Current value: lambda_l1=0.8308308308308309\n",
      "[LightGBM] [Warning] bagging_fraction is set=0.7626262626262627, subsample=1.0 will be ignored. Current value: bagging_fraction=0.7626262626262627\n",
      "[LightGBM] [Warning] feature_fraction is set=0.7878787878787878, colsample_bytree=1.0 will be ignored. Current value: feature_fraction=0.7878787878787878\n",
      "[LightGBM] [Warning] lambda_l2 is set=2.7777777777777777, reg_lambda=0.0 will be ignored. Current value: lambda_l2=2.7777777777777777\n",
      "85.0,87.0,91.0\n",
      "[LightGBM] [Warning] lambda_l1 is set=0.10010010010010009, reg_alpha=0.0 will be ignored. Current value: lambda_l1=0.10010010010010009\n",
      "[LightGBM] [Warning] bagging_fraction is set=0.8888888888888888, subsample=1.0 will be ignored. Current value: bagging_fraction=0.8888888888888888\n",
      "[LightGBM] [Warning] feature_fraction is set=0.7929292929292929, colsample_bytree=1.0 will be ignored. Current value: feature_fraction=0.7929292929292929\n",
      "[LightGBM] [Warning] lambda_l2 is set=0.2802802802802803, reg_lambda=0.0 will be ignored. Current value: lambda_l2=0.2802802802802803\n",
      "[LightGBM] [Warning] lambda_l1 is set=0.8308308308308309, reg_alpha=0.0 will be ignored. Current value: lambda_l1=0.8308308308308309\n",
      "[LightGBM] [Warning] bagging_fraction is set=0.7626262626262627, subsample=1.0 will be ignored. Current value: bagging_fraction=0.7626262626262627\n",
      "[LightGBM] [Warning] feature_fraction is set=0.7878787878787878, colsample_bytree=1.0 will be ignored. Current value: feature_fraction=0.7878787878787878\n",
      "[LightGBM] [Warning] lambda_l2 is set=2.7777777777777777, reg_lambda=0.0 will be ignored. Current value: lambda_l2=2.7777777777777777\n",
      "47.0,83.0,85.0\n",
      "[LightGBM] [Warning] lambda_l1 is set=0.10010010010010009, reg_alpha=0.0 will be ignored. Current value: lambda_l1=0.10010010010010009\n",
      "[LightGBM] [Warning] bagging_fraction is set=0.8888888888888888, subsample=1.0 will be ignored. Current value: bagging_fraction=0.8888888888888888\n",
      "[LightGBM] [Warning] feature_fraction is set=0.7929292929292929, colsample_bytree=1.0 will be ignored. Current value: feature_fraction=0.7929292929292929\n",
      "[LightGBM] [Warning] lambda_l2 is set=0.2802802802802803, reg_lambda=0.0 will be ignored. Current value: lambda_l2=0.2802802802802803\n",
      "[LightGBM] [Warning] lambda_l1 is set=0.8308308308308309, reg_alpha=0.0 will be ignored. Current value: lambda_l1=0.8308308308308309\n",
      "[LightGBM] [Warning] bagging_fraction is set=0.7626262626262627, subsample=1.0 will be ignored. Current value: bagging_fraction=0.7626262626262627\n",
      "[LightGBM] [Warning] feature_fraction is set=0.7878787878787878, colsample_bytree=1.0 will be ignored. Current value: feature_fraction=0.7878787878787878\n",
      "[LightGBM] [Warning] lambda_l2 is set=2.7777777777777777, reg_lambda=0.0 will be ignored. Current value: lambda_l2=2.7777777777777777\n",
      "47.0,50.0,57.0\n",
      "[LightGBM] [Warning] lambda_l1 is set=0.10010010010010009, reg_alpha=0.0 will be ignored. Current value: lambda_l1=0.10010010010010009\n",
      "[LightGBM] [Warning] bagging_fraction is set=0.8888888888888888, subsample=1.0 will be ignored. Current value: bagging_fraction=0.8888888888888888\n",
      "[LightGBM] [Warning] feature_fraction is set=0.7929292929292929, colsample_bytree=1.0 will be ignored. Current value: feature_fraction=0.7929292929292929\n",
      "[LightGBM] [Warning] lambda_l2 is set=0.2802802802802803, reg_lambda=0.0 will be ignored. Current value: lambda_l2=0.2802802802802803\n",
      "[LightGBM] [Warning] lambda_l1 is set=0.8308308308308309, reg_alpha=0.0 will be ignored. Current value: lambda_l1=0.8308308308308309\n",
      "[LightGBM] [Warning] bagging_fraction is set=0.7626262626262627, subsample=1.0 will be ignored. Current value: bagging_fraction=0.7626262626262627\n",
      "[LightGBM] [Warning] feature_fraction is set=0.7878787878787878, colsample_bytree=1.0 will be ignored. Current value: feature_fraction=0.7878787878787878\n",
      "[LightGBM] [Warning] lambda_l2 is set=2.7777777777777777, reg_lambda=0.0 will be ignored. Current value: lambda_l2=2.7777777777777777\n",
      "56.0,63.0,65.0\n",
      "[LightGBM] [Warning] lambda_l1 is set=0.10010010010010009, reg_alpha=0.0 will be ignored. Current value: lambda_l1=0.10010010010010009\n",
      "[LightGBM] [Warning] bagging_fraction is set=0.8888888888888888, subsample=1.0 will be ignored. Current value: bagging_fraction=0.8888888888888888\n",
      "[LightGBM] [Warning] feature_fraction is set=0.7929292929292929, colsample_bytree=1.0 will be ignored. Current value: feature_fraction=0.7929292929292929\n",
      "[LightGBM] [Warning] lambda_l2 is set=0.2802802802802803, reg_lambda=0.0 will be ignored. Current value: lambda_l2=0.2802802802802803\n",
      "[LightGBM] [Warning] lambda_l1 is set=0.8308308308308309, reg_alpha=0.0 will be ignored. Current value: lambda_l1=0.8308308308308309\n",
      "[LightGBM] [Warning] bagging_fraction is set=0.7626262626262627, subsample=1.0 will be ignored. Current value: bagging_fraction=0.7626262626262627\n",
      "[LightGBM] [Warning] feature_fraction is set=0.7878787878787878, colsample_bytree=1.0 will be ignored. Current value: feature_fraction=0.7878787878787878\n",
      "[LightGBM] [Warning] lambda_l2 is set=2.7777777777777777, reg_lambda=0.0 will be ignored. Current value: lambda_l2=2.7777777777777777\n",
      "46.0,63.0,69.0\n",
      "[LightGBM] [Warning] lambda_l1 is set=0.10010010010010009, reg_alpha=0.0 will be ignored. Current value: lambda_l1=0.10010010010010009\n",
      "[LightGBM] [Warning] bagging_fraction is set=0.8888888888888888, subsample=1.0 will be ignored. Current value: bagging_fraction=0.8888888888888888\n",
      "[LightGBM] [Warning] feature_fraction is set=0.7929292929292929, colsample_bytree=1.0 will be ignored. Current value: feature_fraction=0.7929292929292929\n",
      "[LightGBM] [Warning] lambda_l2 is set=0.2802802802802803, reg_lambda=0.0 will be ignored. Current value: lambda_l2=0.2802802802802803\n",
      "[LightGBM] [Warning] lambda_l1 is set=0.8308308308308309, reg_alpha=0.0 will be ignored. Current value: lambda_l1=0.8308308308308309\n",
      "[LightGBM] [Warning] bagging_fraction is set=0.7626262626262627, subsample=1.0 will be ignored. Current value: bagging_fraction=0.7626262626262627\n",
      "[LightGBM] [Warning] feature_fraction is set=0.7878787878787878, colsample_bytree=1.0 will be ignored. Current value: feature_fraction=0.7878787878787878\n",
      "[LightGBM] [Warning] lambda_l2 is set=2.7777777777777777, reg_lambda=0.0 will be ignored. Current value: lambda_l2=2.7777777777777777\n",
      "55.0,71.0,75.0\n",
      "[LightGBM] [Warning] lambda_l1 is set=0.10010010010010009, reg_alpha=0.0 will be ignored. Current value: lambda_l1=0.10010010010010009\n",
      "[LightGBM] [Warning] bagging_fraction is set=0.8888888888888888, subsample=1.0 will be ignored. Current value: bagging_fraction=0.8888888888888888\n",
      "[LightGBM] [Warning] feature_fraction is set=0.7929292929292929, colsample_bytree=1.0 will be ignored. Current value: feature_fraction=0.7929292929292929\n",
      "[LightGBM] [Warning] lambda_l2 is set=0.2802802802802803, reg_lambda=0.0 will be ignored. Current value: lambda_l2=0.2802802802802803\n",
      "[LightGBM] [Warning] lambda_l1 is set=0.8308308308308309, reg_alpha=0.0 will be ignored. Current value: lambda_l1=0.8308308308308309\n",
      "[LightGBM] [Warning] bagging_fraction is set=0.7626262626262627, subsample=1.0 will be ignored. Current value: bagging_fraction=0.7626262626262627\n",
      "[LightGBM] [Warning] feature_fraction is set=0.7878787878787878, colsample_bytree=1.0 will be ignored. Current value: feature_fraction=0.7878787878787878\n",
      "[LightGBM] [Warning] lambda_l2 is set=2.7777777777777777, reg_lambda=0.0 will be ignored. Current value: lambda_l2=2.7777777777777777\n",
      "69.0,71.0,77.0\n",
      "[LightGBM] [Warning] lambda_l1 is set=0.10010010010010009, reg_alpha=0.0 will be ignored. Current value: lambda_l1=0.10010010010010009\n",
      "[LightGBM] [Warning] bagging_fraction is set=0.8888888888888888, subsample=1.0 will be ignored. Current value: bagging_fraction=0.8888888888888888\n",
      "[LightGBM] [Warning] feature_fraction is set=0.7929292929292929, colsample_bytree=1.0 will be ignored. Current value: feature_fraction=0.7929292929292929\n",
      "[LightGBM] [Warning] lambda_l2 is set=0.2802802802802803, reg_lambda=0.0 will be ignored. Current value: lambda_l2=0.2802802802802803\n"
     ]
    },
    {
     "name": "stdout",
     "output_type": "stream",
     "text": [
      "[LightGBM] [Warning] lambda_l1 is set=0.8308308308308309, reg_alpha=0.0 will be ignored. Current value: lambda_l1=0.8308308308308309\n",
      "[LightGBM] [Warning] bagging_fraction is set=0.7626262626262627, subsample=1.0 will be ignored. Current value: bagging_fraction=0.7626262626262627\n",
      "[LightGBM] [Warning] feature_fraction is set=0.7878787878787878, colsample_bytree=1.0 will be ignored. Current value: feature_fraction=0.7878787878787878\n",
      "[LightGBM] [Warning] lambda_l2 is set=2.7777777777777777, reg_lambda=0.0 will be ignored. Current value: lambda_l2=2.7777777777777777\n",
      "47.0,50.0,53.0\n",
      "[LightGBM] [Warning] lambda_l1 is set=0.10010010010010009, reg_alpha=0.0 will be ignored. Current value: lambda_l1=0.10010010010010009\n",
      "[LightGBM] [Warning] bagging_fraction is set=0.8888888888888888, subsample=1.0 will be ignored. Current value: bagging_fraction=0.8888888888888888\n",
      "[LightGBM] [Warning] feature_fraction is set=0.7929292929292929, colsample_bytree=1.0 will be ignored. Current value: feature_fraction=0.7929292929292929\n",
      "[LightGBM] [Warning] lambda_l2 is set=0.2802802802802803, reg_lambda=0.0 will be ignored. Current value: lambda_l2=0.2802802802802803\n",
      "[LightGBM] [Warning] lambda_l1 is set=0.8308308308308309, reg_alpha=0.0 will be ignored. Current value: lambda_l1=0.8308308308308309\n",
      "[LightGBM] [Warning] bagging_fraction is set=0.7626262626262627, subsample=1.0 will be ignored. Current value: bagging_fraction=0.7626262626262627\n",
      "[LightGBM] [Warning] feature_fraction is set=0.7878787878787878, colsample_bytree=1.0 will be ignored. Current value: feature_fraction=0.7878787878787878\n",
      "[LightGBM] [Warning] lambda_l2 is set=2.7777777777777777, reg_lambda=0.0 will be ignored. Current value: lambda_l2=2.7777777777777777\n",
      "57.0,115.0,111.0\n",
      "[LightGBM] [Warning] lambda_l1 is set=0.10010010010010009, reg_alpha=0.0 will be ignored. Current value: lambda_l1=0.10010010010010009\n",
      "[LightGBM] [Warning] bagging_fraction is set=0.8888888888888888, subsample=1.0 will be ignored. Current value: bagging_fraction=0.8888888888888888\n",
      "[LightGBM] [Warning] feature_fraction is set=0.7929292929292929, colsample_bytree=1.0 will be ignored. Current value: feature_fraction=0.7929292929292929\n",
      "[LightGBM] [Warning] lambda_l2 is set=0.2802802802802803, reg_lambda=0.0 will be ignored. Current value: lambda_l2=0.2802802802802803\n",
      "[LightGBM] [Warning] lambda_l1 is set=0.8308308308308309, reg_alpha=0.0 will be ignored. Current value: lambda_l1=0.8308308308308309\n",
      "[LightGBM] [Warning] bagging_fraction is set=0.7626262626262627, subsample=1.0 will be ignored. Current value: bagging_fraction=0.7626262626262627\n",
      "[LightGBM] [Warning] feature_fraction is set=0.7878787878787878, colsample_bytree=1.0 will be ignored. Current value: feature_fraction=0.7878787878787878\n",
      "[LightGBM] [Warning] lambda_l2 is set=2.7777777777777777, reg_lambda=0.0 will be ignored. Current value: lambda_l2=2.7777777777777777\n",
      "53.0,88.0,81.0\n",
      "RMSEfusion,RMSEreg,RMSEpipe\n",
      "85.0,87.0,91.0\n",
      "47.0,83.0,85.0\n",
      "47.0,50.0,57.0\n",
      "56.0,63.0,65.0\n",
      "46.0,63.0,69.0\n",
      "55.0,71.0,75.0\n",
      "69.0,71.0,77.0\n",
      "47.0,50.0,53.0\n",
      "57.0,115.0,111.0\n",
      "53.0,88.0,81.0\n"
     ]
    }
   ],
   "source": [
    "from sklearn.model_selection import KFold\n",
    "from sklearn.linear_model import RidgeCV    \n",
    "from sklearn.tree import DecisionTreeRegressor as DTR\n",
    "from sklearn.preprocessing import binarize\n",
    "\n",
    "X,Y = getBFS(part=[0,-1],dataset='sf')\n",
    "X = X.values\n",
    "\n",
    "# def quantilefold(X,Y):\n",
    "#     zipped = list(zip(X,Y))\n",
    "#     X = [A for A,B in sorted(zipped, key = lambda x: x[1])]\n",
    "#     Y = [B for A,B in sorted(zipped, key = lambda x: x[1])]\n",
    "#     X = np.array(X)\n",
    "#     Y = np.array(Y)\n",
    "#     return X,Y\n",
    "\n",
    "# X,Y = quantilefold(X,Y)\n",
    "\n",
    "\n",
    "Ybin = binarize(Y.reshape(-1,1),threshold=45).ravel()\n",
    "Yfull = np.concatenate([Y.reshape(-1,1),Ybin.reshape(-1,1)],axis=1)\n",
    "\n",
    "kf = KFold(n_splits=10,shuffle=True)\n",
    "kf.get_n_splits(X,Yfull)\n",
    "\n",
    "RES=[]\n",
    "\n",
    "for train_index, test_index in kf.split(X,Yfull):\n",
    "    \n",
    "    Xtr, Xte = X[train_index], X[test_index]\n",
    "    Ytr, Yte = Yfull[train_index], Yfull[test_index]\n",
    "    \n",
    "    # one regression model predictions\n",
    "    reg = bestfullreg\n",
    "    reg.fit(Xtr,np.log1p(Ytr[:,0]))\n",
    "    Rpreds = np.expm1(reg.predict(Xte))\n",
    "    RTrpreds = np.expm1(reg.predict(Xtr))\n",
    "    \n",
    "    # classification model predictions\n",
    "    cla = bestfullcla\n",
    "    cla.fit(Xtr,Ytr[:,1])\n",
    "    Cpreds = cla.predict(Xte)\n",
    "    CTrpreds = cla.predict(Xtr)\n",
    "    \n",
    "    # A- and B- models try to predict\n",
    "    regA = bestAreg\n",
    "    regB = bestBreg\n",
    "    \n",
    "    As = Ytr[:,1]==0\n",
    "    Bs = Ytr[:,1]==1\n",
    "    regA.fit(Xtr[As],np.log1p(Ytr[As,0]))\n",
    "    regB.fit(Xtr[Bs],np.log1p(Ytr[Bs,0]))\n",
    "    \n",
    "    Apreds = np.expm1(regA.predict(Xte))\n",
    "    Bpreds = np.expm1(regB.predict(Xte))\n",
    "    \n",
    "    ATrpreds = np.expm1(regA.predict(Xtr))\n",
    "    BTrpreds = np.expm1(regB.predict(Xtr))\n",
    "    # accumulating predictions\n",
    "    \n",
    "    \n",
    "    # performing training on predictions on the training part\n",
    "#     R3tr = np.concatenate([reg.predict(Xtr).reshape(-1,1), regA.predict(Xtr).reshape(-1,1), regB.predict(Xtr).reshape(-1,1), cla.predict(Xtr).reshape(-1,1)],axis=1)\n",
    "#     R3te = np.concatenate([reg.predict(Xte).reshape(-1,1), regA.predict(Xte).reshape(-1,1), regB.predict(Xte).reshape(-1,1), cla.predict(Xte).reshape(-1,1)],axis=1)\n",
    "\n",
    "    \n",
    "    \n",
    "#     full.fit(R3tr,np.log1p(Ytr[:,0]))\n",
    "    \n",
    "    # after training the fusion model - making predictions\n",
    "#     PREDS = np.expm1(full.predict(R3te))\n",
    "    \n",
    "#     TRPREDS = []\n",
    "    \n",
    "#     for i in range(len(Xtr)):\n",
    "        \n",
    "#         if CTrpreds[i]==0:\n",
    "#             TRPREDS.append(ATrpreds[i])\n",
    "            \n",
    "#         if CTrpreds[i]==1:\n",
    "#             TRPREDS.append(BTrpreds[i])\n",
    "            \n",
    "    TEPREDS = []\n",
    "    \n",
    "    for i in range(len(Xte)):\n",
    "        \n",
    "        if Cpreds[i]==0:\n",
    "            TEPREDS.append(Apreds[i])\n",
    "            \n",
    "        if Cpreds[i]==1:\n",
    "            TEPREDS.append(Bpreds[i])  \n",
    "    \n",
    "    #pipeline predictions\n",
    "#     TRPREDS = np.array(TRPREDS).reshape(-1,1)  \n",
    "    TEPREDS = np.array(TEPREDS).reshape(-1,1)\n",
    "    \n",
    "    fusion = XGBRegressor()\n",
    "    fusion.fit(np.concatenate([RTrpreds.reshape(-1,1),CTrpreds.reshape(-1,1),ATrpreds.reshape(-1,1),BTrpreds.reshape(-1,1)],axis=1), np.log1p(Ytr[:,0]))\n",
    "    PREDS = fusion.predict(np.concatenate([Rpreds.reshape(-1,1),Cpreds.reshape(-1,1),Apreds.reshape(-1,1),Bpreds.reshape(-1,1)],axis=1))\n",
    "    PREDS = np.expm1(PREDS)\n",
    "#     PREDS=PREDS\n",
    "    \n",
    "    rA, rB = np.sqrt(mse(Yte[:,0],np.array(PREDS))), np.sqrt(mse(Yte[:,0],np.array(Rpreds)))\n",
    "    \n",
    "    rP = np.sqrt(mse(Yte[:,0],np.array(TEPREDS).ravel()))\n",
    "\n",
    "    rA = np.round(rA)\n",
    "    rB = np.round(rB)\n",
    "    rP = np.round(rP)\n",
    "\n",
    "    print(\"{},{},{}\".format(rA, rB, rP))\n",
    "    RES.append(\"{},{},{}\".format(rA, rB, rP))\n",
    "\n",
    "print(\"RMSEfusion,RMSEreg,RMSEpipe\")\n",
    "print(\"\\n\".join(RES))"
   ]
  },
  {
   "cell_type": "code",
   "execution_count": 165,
   "id": "60586c84",
   "metadata": {},
   "outputs": [],
   "source": [
    "out = open('SF_fusion2.csv','w')\n",
    "out.write(\"RMSEfusion,RMSEreg,RMSEpipe\\n\")\n",
    "out.write(\"\\n\".join(RES))\n",
    "out.close()"
   ]
  },
  {
   "cell_type": "code",
   "execution_count": 167,
   "id": "6406ca42",
   "metadata": {},
   "outputs": [
    {
     "name": "stdout",
     "output_type": "stream",
     "text": [
      "\n"
     ]
    },
    {
     "data": {
      "image/png": "[encoded data removed]",
      "text/plain": [
       "<Figure size 576x324 with 1 Axes>"
      ]
     },
     "metadata": {
      "needs_background": "light"
     },
     "output_type": "display_data"
    }
   ],
   "source": [
    "dt = pd.read_csv('SF_fusion2.csv')\n",
    "dt = dt.rename({'RMSEfusion':'Fusion model','RMSEreg':'Single model','RMSEpipe':'Pipeline model'},axis=1)\n",
    "\n",
    "# plt.figure()\n",
    "dt.plot.bar(figsize=(8,4.5))\n",
    "plt.ylabel('RMSE',fontsize=14)\n",
    "plt.xlabel('Fold [k]',fontsize=14)\n",
    "plt.legend(fontsize=12,loc='lower right')\n",
    "plt.grid()\n",
    "plt.xticks(np.arange(10),np.arange(10),fontsize=12)\n",
    "\n",
    "print()"
   ]
  },
  {
   "cell_type": "code",
   "execution_count": null,
   "id": "d0364552",
   "metadata": {},
   "outputs": [],
   "source": []
  },
  {
   "cell_type": "code",
   "execution_count": null,
   "id": "bef3be8f",
   "metadata": {},
   "outputs": [],
   "source": []
  },
  {
   "cell_type": "code",
   "execution_count": null,
   "id": "a1c22de1",
   "metadata": {},
   "outputs": [],
   "source": []
  },
  {
   "cell_type": "code",
   "execution_count": null,
   "id": "b10b9199",
   "metadata": {},
   "outputs": [],
   "source": []
  },
  {
   "cell_type": "code",
   "execution_count": null,
   "id": "aef96599",
   "metadata": {},
   "outputs": [],
   "source": []
  },
  {
   "cell_type": "markdown",
   "id": "c2a7e518",
   "metadata": {},
   "source": [
    "More advanced hyper-parameter optimization (using evolutionary algorithm, TPOT package), not included in the paper (results are similar to random search)."
   ]
  },
  {
   "cell_type": "code",
   "execution_count": 4,
   "id": "e4b84d4d",
   "metadata": {},
   "outputs": [
    {
     "data": {
      "application/vnd.jupyter.widget-view+json": {
       "model_id": "",
       "version_major": 2,
       "version_minor": 0
      },
      "text/plain": [
       "Optimization Progress:   0%|          | 0/300 [00:00<?, ?pipeline/s]"
      ]
     },
     "metadata": {},
     "output_type": "display_data"
    },
    {
     "name": "stdout",
     "output_type": "stream",
     "text": [
      "\n",
      "Generation 1 - Current best internal CV score: -0.28362255070780235\n",
      "\n",
      "Generation 2 - Current best internal CV score: -0.28362255070780235\n",
      "\n",
      "Generation 3 - Current best internal CV score: -0.28362255070780235\n",
      "\n",
      "Generation 4 - Current best internal CV score: -0.28362255070780235\n",
      "\n",
      "Generation 5 - Current best internal CV score: -0.28362255070780235\n",
      "\n",
      "Best pipeline: GradientBoostingRegressor(input_matrix, alpha=0.99, learning_rate=0.1, loss=lad, max_depth=9, max_features=0.6000000000000001, min_samples_leaf=12, min_samples_split=17, n_estimators=100, subsample=0.6000000000000001)\n"
     ]
    }
   ],
   "source": [
    "X,Y = getBFS(part=[0,-1],dataset='sf')\n",
    "X = X.values\n",
    "\n",
    "tpot = TPOTRegressor(generations=5, cv=10,template='Regressor',population_size=50, verbosity=2, n_jobs=30,random_state=42, scoring='neg_mean_squared_error',config_dict=tpotreg_config)\n",
    "tpot.fit(X,np.log1p(Y))\n",
    "# print(tpot.score(X,Y))\n",
    "bestfullreg = tpot.fitted_pipeline_[0]"
   ]
  },
  {
   "cell_type": "code",
   "execution_count": 6,
   "id": "63701c16",
   "metadata": {},
   "outputs": [
    {
     "data": {
      "application/vnd.jupyter.widget-view+json": {
       "model_id": "",
       "version_major": 2,
       "version_minor": 0
      },
      "text/plain": [
       "Optimization Progress:   0%|          | 0/300 [00:00<?, ?pipeline/s]"
      ]
     },
     "metadata": {},
     "output_type": "display_data"
    },
    {
     "name": "stdout",
     "output_type": "stream",
     "text": [
      "\n",
      "Generation 1 - Current best internal CV score: -0.015318264676631676\n",
      "\n",
      "Generation 2 - Current best internal CV score: -0.014913248709005792\n",
      "\n",
      "Generation 3 - Current best internal CV score: -0.014629825111804806\n",
      "\n",
      "Generation 4 - Current best internal CV score: -0.014629825111804806\n",
      "\n",
      "Generation 5 - Current best internal CV score: -0.014629825111804806\n",
      "\n",
      "Best pipeline: GradientBoostingRegressor(input_matrix, alpha=0.99, learning_rate=0.1, loss=lad, max_depth=9, max_features=0.45, min_samples_leaf=12, min_samples_split=17, n_estimators=100, subsample=0.6000000000000001)\n"
     ]
    }
   ],
   "source": [
    "X,Y = getBFS(part=[0,40],dataset='sf')\n",
    "X = X.values\n",
    "\n",
    "tpot = TPOTRegressor(generations=5, cv=10, template='Regressor',population_size=50, verbosity=2, n_jobs=30,random_state=42, scoring='neg_mean_squared_error',config_dict=tpotreg_config)\n",
    "tpot.fit(X,np.log1p(Y))\n",
    "# print(tpot.score(X,Y))\n",
    "bestAreg = tpot.fitted_pipeline_[0]"
   ]
  },
  {
   "cell_type": "code",
   "execution_count": 7,
   "id": "21f82fb3",
   "metadata": {},
   "outputs": [
    {
     "data": {
      "application/vnd.jupyter.widget-view+json": {
       "model_id": "",
       "version_major": 2,
       "version_minor": 0
      },
      "text/plain": [
       "Optimization Progress:   0%|          | 0/300 [00:00<?, ?pipeline/s]"
      ]
     },
     "metadata": {},
     "output_type": "display_data"
    },
    {
     "name": "stdout",
     "output_type": "stream",
     "text": [
      "\n",
      "Generation 1 - Current best internal CV score: -0.2023757211233609\n",
      "\n",
      "Generation 2 - Current best internal CV score: -0.2023757211233609\n",
      "\n",
      "Generation 3 - Current best internal CV score: -0.20031564276479408\n",
      "\n",
      "Generation 4 - Current best internal CV score: -0.19457925256068012\n",
      "\n",
      "Generation 5 - Current best internal CV score: -0.1942929066981764\n",
      "\n",
      "Best pipeline: XGBRegressor(input_matrix, learning_rate=0.1, max_depth=4, min_child_weight=8, n_estimators=100, n_jobs=1, objective=reg:squarederror, subsample=0.25, verbosity=0)\n"
     ]
    }
   ],
   "source": [
    "X,Y = getBFS(part=[40,-1],dataset='sf')\n",
    "X = X.values\n",
    "\n",
    "tpot = TPOTRegressor(generations=5, cv=10, template='Regressor',population_size=50, verbosity=2, n_jobs=30,random_state=42, scoring='neg_mean_squared_error',config_dict=tpotreg_config)\n",
    "tpot.fit(X,np.log1p(Y))\n",
    "# print(tpot.score(X,Y))\n",
    "bestBreg = tpot.fitted_pipeline_[0]"
   ]
  },
  {
   "cell_type": "code",
   "execution_count": 8,
   "id": "7a17d79f",
   "metadata": {},
   "outputs": [
    {
     "data": {
      "application/vnd.jupyter.widget-view+json": {
       "model_id": "",
       "version_major": 2,
       "version_minor": 0
      },
      "text/plain": [
       "Optimization Progress:   0%|          | 0/300 [00:00<?, ?pipeline/s]"
      ]
     },
     "metadata": {},
     "output_type": "display_data"
    },
    {
     "name": "stdout",
     "output_type": "stream",
     "text": [
      "\n",
      "Generation 1 - Current best internal CV score: 0.7203215476650155\n",
      "\n",
      "Generation 2 - Current best internal CV score: 0.7203215476650155\n",
      "\n",
      "Generation 3 - Current best internal CV score: 0.7203215476650155\n",
      "\n",
      "Generation 4 - Current best internal CV score: 0.7203215476650155\n",
      "\n",
      "Generation 5 - Current best internal CV score: 0.7203215476650155\n",
      "\n",
      "Best pipeline: GradientBoostingClassifier(input_matrix, learning_rate=0.001, max_depth=8, max_features=0.05, min_samples_leaf=12, min_samples_split=9, n_estimators=100, subsample=0.55)\n"
     ]
    }
   ],
   "source": [
    "from sklearn.preprocessing import binarize\n",
    "X,Y = getBFS(part=[0,-1],dataset='sf')\n",
    "X = X.values\n",
    "Ybin = binarize(Y.reshape(-1,1),threshold=40).ravel()\n",
    "\n",
    "from tpot import TPOTClassifier\n",
    "tpot = TPOTClassifier(generations=5, cv=10, scoring='f1', template='Classifier',population_size=50, verbosity=2, n_jobs=30,random_state=42,config_dict=tpotcla_config)\n",
    "tpot.fit(X,Ybin)\n",
    "# print(tpot.score(X,Ybin))\n",
    "bestfullcla = tpot.fitted_pipeline_[0]"
   ]
  },
  {
   "cell_type": "code",
   "execution_count": 11,
   "id": "ae1b3277",
   "metadata": {},
   "outputs": [
    {
     "name": "stdout",
     "output_type": "stream",
     "text": [
      "RMSEfull,RMSEreg\n",
      "52.0,100.0\n",
      "109.0,135.0\n",
      "56.0,110.0\n",
      "45.0,60.0\n",
      "44.0,49.0\n",
      "45.0,46.0\n",
      "51.0,56.0\n",
      "59.0,59.0\n",
      "45.0,52.0\n",
      "80.0,95.0\n",
      "RMSEfull,RMSEreg\n",
      "52.0,100.0\n",
      "109.0,135.0\n",
      "56.0,110.0\n",
      "45.0,60.0\n",
      "44.0,49.0\n",
      "45.0,46.0\n",
      "51.0,56.0\n",
      "59.0,59.0\n",
      "45.0,52.0\n",
      "80.0,95.0\n"
     ]
    }
   ],
   "source": [
    "from sklearn.model_selection import KFold\n",
    "\n",
    "from sklearn.preprocessing import binarize\n",
    "X,Y = getBFS(part=[0,-1],dataset='sf')\n",
    "X = X.values\n",
    "\n",
    "# def quantilefold(X,Y):\n",
    "#     zipped = list(zip(X,Y))\n",
    "#     X = [A for A,B in sorted(zipped, key = lambda x: x[1])]\n",
    "#     Y = [B for A,B in sorted(zipped, key = lambda x: x[1])]\n",
    "#     X = np.array(X)\n",
    "#     Y = np.array(Y)\n",
    "#     return X,Y\n",
    "\n",
    "# X,Y = quantilefold(X,Y)\n",
    "\n",
    "\n",
    "Ybin = binarize(Y.reshape(-1,1),threshold=40).ravel()\n",
    "Yfull = np.concatenate([Y.reshape(-1,1),Ybin.reshape(-1,1)],axis=1)\n",
    "\n",
    "kf = KFold(n_splits=10,shuffle=True)\n",
    "kf.get_n_splits(X,Yfull)\n",
    "\n",
    "print(\"RMSEfull,RMSEreg\")\n",
    "\n",
    "RES=[]\n",
    "\n",
    "for train_index, test_index in kf.split(X,Yfull):\n",
    "    \n",
    "    # reset models (since some may use iterative training)\n",
    "#     bestAreg.fit([[0],[0]],[0,0])\n",
    "#     bestBreg.fit([[0],[0]],[0,0])\n",
    "#     bestfullreg.fit([[0],[0]],[0,0])\n",
    "#     bestfullcla.fit([[0],[0]],[0,1])\n",
    "#     print()\n",
    "    \n",
    "    Xtr, Xte = X[train_index], X[test_index]\n",
    "    Ytr, Yte = Yfull[train_index], Yfull[test_index]\n",
    "    \n",
    "    # one regression model predictions\n",
    "    reg = bestfullreg\n",
    "    reg.fit(Xtr,np.log1p(Ytr[:,0]))\n",
    "    Rpreds = np.expm1(reg.predict(Xte))\n",
    "    RTrpreds = np.expm1(reg.predict(Xtr))\n",
    "    \n",
    "    #one classification model predictions\n",
    "    cla = bestfullcla\n",
    "    cla.fit(Xtr,Ytr[:,1])\n",
    "    Cpreds = cla.predict(Xte)\n",
    "    CTrpreds = cla.predict(Xtr)\n",
    "    \n",
    "    \n",
    "    # A- and B- models try to predict\n",
    "    regA = bestAreg\n",
    "    regB = bestBreg\n",
    "    \n",
    "    As = Ytr[:,1]==0\n",
    "    Bs = Ytr[:,1]==1\n",
    "    regA.fit(Xtr[As],np.log1p(Ytr[As,0]))\n",
    "    regB.fit(Xtr[Bs],np.log1p(Ytr[Bs,0]))\n",
    "    \n",
    "    Apreds = np.expm1(regA.predict(Xte))\n",
    "    Bpreds = np.expm1(regB.predict(Xte))\n",
    "    \n",
    "    ATrpreds = np.expm1(regA.predict(Xtr))\n",
    "    BTrpreds = np.expm1(regB.predict(Xtr))\n",
    "    #accumulating predictions\n",
    "    \n",
    "    R3tr = np.concatenate([reg.predict(Xtr).reshape(-1,1), regA.predict(Xtr).reshape(-1,1), regB.predict(Xtr).reshape(-1,1), cla.predict(Xtr).reshape(-1,1)],axis=1)\n",
    "    R3te = np.concatenate([reg.predict(Xte).reshape(-1,1), regA.predict(Xte).reshape(-1,1), regB.predict(Xte).reshape(-1,1), cla.predict(Xte).reshape(-1,1)],axis=1)\n",
    "#     print(R3tr.shape,Ytr[:,0].shape)\n",
    "\n",
    "    from sklearn.linear_model import RidgeCV\n",
    "    \n",
    "    from sklearn.tree import DecisionTreeRegressor as DTR\n",
    "    full = XGBRegressor()#DTR(max_depth=4)\n",
    "#     full = TPOTRegressor(generations=5, template='Regressor',population_size=40, verbosity=2, n_jobs=20,random_state=42, scoring='neg_mean_squared_error',config_dict=tpotreg_config)\n",
    "    full.fit(R3tr,np.log1p(Ytr[:,0]))\n",
    "#     bestfullreg.fit([[0],[0]],[0,0])\n",
    "#     finalreg = bestfullreg\n",
    "#     finalreg.fit(R3tr,Ytr[:,0])\n",
    "    \n",
    "    \n",
    "    PREDS = np.expm1(full.predict(R3te))\n",
    "    \n",
    "    \n",
    "    \n",
    "    TRPREDS = []\n",
    "    \n",
    "    for i in range(len(Xtr)):\n",
    "        \n",
    "        if CTrpreds[i]==0:\n",
    "            TRPREDS.append(ATrpreds[i])\n",
    "            \n",
    "        if CTrpreds[i]==1:\n",
    "            TRPREDS.append(BTrpreds[i])\n",
    "            \n",
    "    TEPREDS = []\n",
    "    \n",
    "    for i in range(len(Xte)):\n",
    "        \n",
    "        if Cpreds[i]==0:\n",
    "            TEPREDS.append(Apreds[i])\n",
    "            \n",
    "        if Cpreds[i]==1:\n",
    "            TEPREDS.append(Bpreds[i])  \n",
    "    TRPREDS = np.array(TRPREDS).reshape(-1,1)  \n",
    "    \n",
    "#     print(TRPREDS.shape)\n",
    "    TEPREDS = np.array(TEPREDS).reshape(-1,1)\n",
    "#     print(TEPREDS.shape)\n",
    "    \n",
    "    full.fit(np.concatenate([RTrpreds.reshape(-1,1),CTrpreds.reshape(-1,1),ATrpreds.reshape(-1,1),BTrpreds.reshape(-1,1)],axis=1), np.log1p(Ytr[:,0]))\n",
    "    PREDS = full.predict(np.concatenate([Rpreds.reshape(-1,1),Cpreds.reshape(-1,1),Apreds.reshape(-1,1),Bpreds.reshape(-1,1)],axis=1))\n",
    "    PREDS = np.expm1(PREDS)\n",
    "#     PREDS=PREDS\n",
    "    \n",
    "    rA, rB = np.sqrt(mse(Yte[:,0],np.array(PREDS))), np.sqrt(mse(Yte[:,0],np.array(Rpreds)))\n",
    "\n",
    "    rA = np.round(rA)\n",
    "    rB = np.round(rB)\n",
    "\n",
    "    print(\"{},{}\".format(rA, rB))\n",
    "    RES.append(\"{},{}\".format(rA, rB))\n",
    "#     print(PREDS[0],Rpreds[0])\n",
    "\n",
    "\n",
    "print(\"RMSEfull,RMSEreg\")\n",
    "print(\"\\n\".join(RES))"
   ]
  },
  {
   "cell_type": "code",
   "execution_count": null,
   "id": "dfde5f24",
   "metadata": {},
   "outputs": [],
   "source": []
  }
 ],
 "metadata": {
  "kernelspec": {
   "display_name": "Python 3 (ipykernel)",
   "language": "python",
   "name": "python3"
  },
  "language_info": {
   "codemirror_mode": {
    "name": "ipython",
    "version": 3
   },
   "file_extension": ".py",
   "mimetype": "text/x-python",
   "name": "python",
   "nbconvert_exporter": "python",
   "pygments_lexer": "ipython3",
   "version": "3.10.4"
  }
 },
 "nbformat": 4,
 "nbformat_minor": 5
}
