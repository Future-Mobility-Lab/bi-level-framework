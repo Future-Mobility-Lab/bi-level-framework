{
 "cells": [
  {
   "cell_type": "code",
   "execution_count": 1,
   "metadata": {},
   "outputs": [
    {
     "name": "stdout",
     "output_type": "stream",
     "text": [
      "\n",
      "from copy import copy\n",
      "from hyperopt import fmin, tpe, hp, STATUS_OK, Trials\n",
      "from hyperopt.pyll import scope\n",
      "from lightgbm import LGBMClassifier as LGB\n",
      "from scipy import stats\n",
      "from sklearn import metrics,neighbors,preprocessing\n",
      "from sklearn import tree\n",
      "from sklearn.ensemble import GradientBoostingClassifier, GradientBoostingRegressor\n",
      "from sklearn.ensemble import IsolationForest\n",
      "from sklearn.ensemble import RandomForestClassifier\n",
      "from sklearn.ensemble import RandomForestRegressor\n",
      "from sklearn.feature_selection import SelectPercentile, f_classif\n",
      "from sklearn.linear_model import LinearRegression, Ridge\n",
      "from sklearn.linear_model import LogisticRegression\n",
      "from sklearn.linear_model import LogisticRegression as LR\n",
      "from sklearn.linear_model import SGDClassifier\n",
      "from sklearn.metrics import accuracy_score\n",
      "from sklearn.metrics import cohen_kappa_score\n",
      "from sklearn.metrics import f1_score\n",
      "from sklearn.metrics import mean_absolute_error\n",
      "from sklearn.metrics import mean_squared_error\n",
      "from sklearn.metrics import mean_squared_error as mse\n",
      "from sklearn.metrics import precision_score\n",
      "from sklearn.metrics import r2_score,mean_squared_error\n",
      "from sklearn.metrics import recall_score\n",
      "from sklearn.metrics import recall_score, accuracy_score, precision_score,f1_score, make_scorer\n",
      "from sklearn.metrics import recall_score, accuracy_score, precision_score,f1_score, make_scorer \n",
      "from sklearn.model_selection import StratifiedKFold\n",
      "from sklearn.model_selection import cross_val_score as cv\n",
      "from sklearn.model_selection import cross_val_score, cross_validate, cross_val_predict, LeaveOneOut, KFold, StratifiedKFold\n",
      "from sklearn.model_selection import train_test_split, KFold, LeaveOneOut,GridSearchCV,RandomizedSearchCV\n",
      "from sklearn.neighbors import KNeighborsClassifier\n",
      "from sklearn.neighbors import KNeighborsClassifier as KNN\n",
      "from sklearn.pipeline import make_pipeline, make_union\n",
      "from sklearn.preprocessing import FunctionTransformer\n",
      "from sklearn.svm import SVC\n",
      "from time import time\n",
      "from xgboost import XGBClassifier, XGBRegressor, plot_tree, plot_importance\n",
      "from xgboost import XGBClassifier, plot_tree, plot_importance\n",
      "import copy\n",
      "import csv,sys, os, errno,os.path,io\n",
      "import hyperopt\n",
      "import matplotlib\n",
      "import matplotlib.pyplot as plt\n",
      "import multiprocessing\n",
      "import numpy as np\n",
      "import pandas as pd\n",
      "import scipy\n",
      "import seaborn as sns\n",
      "import tqdm\n",
      "import xgboost as xgb\n"
     ]
    }
   ],
   "source": [
    "from MLimports2 import *\n",
    "exec(MLimports())"
   ]
  },
  {
   "cell_type": "markdown",
   "metadata": {},
   "source": [
    "# Arterial roads"
   ]
  },
  {
   "cell_type": "code",
   "execution_count": 2,
   "metadata": {},
   "outputs": [],
   "source": [
    "X,Y = getBFS(part=[5,40],dataset='a')"
   ]
  },
  {
   "cell_type": "code",
   "execution_count": 3,
   "metadata": {},
   "outputs": [],
   "source": [
    "Xtr = X[X.MonthOfYear>=10]\n",
    "Xte = X[X.MonthOfYear<10]\n",
    "Ytr = Y[X.MonthOfYear>=10]\n",
    "Yte = Y[X.MonthOfYear<10]"
   ]
  },
  {
   "cell_type": "code",
   "execution_count": 5,
   "metadata": {},
   "outputs": [
    {
     "ename": "OverflowError",
     "evalue": "Python int too large to convert to C long",
     "output_type": "error",
     "traceback": [
      "\u001b[1;31m---------------------------------------------------------------------------\u001b[0m",
      "\u001b[1;31mOverflowError\u001b[0m                             Traceback (most recent call last)",
      "\u001b[1;32m<ipython-input-5-cce9a68c4761>\u001b[0m in \u001b[0;36m<module>\u001b[1;34m\u001b[0m\n\u001b[0;32m     20\u001b[0m                    \u001b[0mverbose\u001b[0m \u001b[1;33m=\u001b[0m \u001b[1;36m1\u001b[0m\u001b[1;33m\u001b[0m\u001b[1;33m\u001b[0m\u001b[0m\n\u001b[0;32m     21\u001b[0m                        )\n\u001b[1;32m---> 22\u001b[1;33m \u001b[0msearch\u001b[0m\u001b[1;33m.\u001b[0m\u001b[0mfit\u001b[0m\u001b[1;33m(\u001b[0m\u001b[0mXtr\u001b[0m\u001b[1;33m,\u001b[0m \u001b[0mYtr\u001b[0m\u001b[1;33m)\u001b[0m\u001b[1;33m\u001b[0m\u001b[1;33m\u001b[0m\u001b[0m\n\u001b[0m\u001b[0;32m     23\u001b[0m \u001b[0mprint\u001b[0m\u001b[1;33m(\u001b[0m\u001b[0msearch\u001b[0m\u001b[1;33m.\u001b[0m\u001b[0mbest_params_\u001b[0m\u001b[1;33m)\u001b[0m\u001b[1;33m\u001b[0m\u001b[1;33m\u001b[0m\u001b[0m\n",
      "\u001b[1;32mC:\\Software\\Anaconda3\\lib\\site-packages\\sklearn\\utils\\validation.py\u001b[0m in \u001b[0;36minner_f\u001b[1;34m(*args, **kwargs)\u001b[0m\n\u001b[0;32m     70\u001b[0m                           FutureWarning)\n\u001b[0;32m     71\u001b[0m         \u001b[0mkwargs\u001b[0m\u001b[1;33m.\u001b[0m\u001b[0mupdate\u001b[0m\u001b[1;33m(\u001b[0m\u001b[1;33m{\u001b[0m\u001b[0mk\u001b[0m\u001b[1;33m:\u001b[0m \u001b[0marg\u001b[0m \u001b[1;32mfor\u001b[0m \u001b[0mk\u001b[0m\u001b[1;33m,\u001b[0m \u001b[0marg\u001b[0m \u001b[1;32min\u001b[0m \u001b[0mzip\u001b[0m\u001b[1;33m(\u001b[0m\u001b[0msig\u001b[0m\u001b[1;33m.\u001b[0m\u001b[0mparameters\u001b[0m\u001b[1;33m,\u001b[0m \u001b[0margs\u001b[0m\u001b[1;33m)\u001b[0m\u001b[1;33m}\u001b[0m\u001b[1;33m)\u001b[0m\u001b[1;33m\u001b[0m\u001b[1;33m\u001b[0m\u001b[0m\n\u001b[1;32m---> 72\u001b[1;33m         \u001b[1;32mreturn\u001b[0m \u001b[0mf\u001b[0m\u001b[1;33m(\u001b[0m\u001b[1;33m**\u001b[0m\u001b[0mkwargs\u001b[0m\u001b[1;33m)\u001b[0m\u001b[1;33m\u001b[0m\u001b[1;33m\u001b[0m\u001b[0m\n\u001b[0m\u001b[0;32m     73\u001b[0m     \u001b[1;32mreturn\u001b[0m \u001b[0minner_f\u001b[0m\u001b[1;33m\u001b[0m\u001b[1;33m\u001b[0m\u001b[0m\n\u001b[0;32m     74\u001b[0m \u001b[1;33m\u001b[0m\u001b[0m\n",
      "\u001b[1;32mC:\\Software\\Anaconda3\\lib\\site-packages\\sklearn\\model_selection\\_search.py\u001b[0m in \u001b[0;36mfit\u001b[1;34m(self, X, y, groups, **fit_params)\u001b[0m\n\u001b[0;32m    734\u001b[0m                 \u001b[1;32mreturn\u001b[0m \u001b[0mresults\u001b[0m\u001b[1;33m\u001b[0m\u001b[1;33m\u001b[0m\u001b[0m\n\u001b[0;32m    735\u001b[0m \u001b[1;33m\u001b[0m\u001b[0m\n\u001b[1;32m--> 736\u001b[1;33m             \u001b[0mself\u001b[0m\u001b[1;33m.\u001b[0m\u001b[0m_run_search\u001b[0m\u001b[1;33m(\u001b[0m\u001b[0mevaluate_candidates\u001b[0m\u001b[1;33m)\u001b[0m\u001b[1;33m\u001b[0m\u001b[1;33m\u001b[0m\u001b[0m\n\u001b[0m\u001b[0;32m    737\u001b[0m \u001b[1;33m\u001b[0m\u001b[0m\n\u001b[0;32m    738\u001b[0m         \u001b[1;31m# For multi-metric evaluation, store the best_index_, best_params_ and\u001b[0m\u001b[1;33m\u001b[0m\u001b[1;33m\u001b[0m\u001b[1;33m\u001b[0m\u001b[0m\n",
      "\u001b[1;32mC:\\Software\\Anaconda3\\lib\\site-packages\\sklearn\\model_selection\\_search.py\u001b[0m in \u001b[0;36m_run_search\u001b[1;34m(self, evaluate_candidates)\u001b[0m\n\u001b[0;32m   1529\u001b[0m         evaluate_candidates(ParameterSampler(\n\u001b[0;32m   1530\u001b[0m             \u001b[0mself\u001b[0m\u001b[1;33m.\u001b[0m\u001b[0mparam_distributions\u001b[0m\u001b[1;33m,\u001b[0m \u001b[0mself\u001b[0m\u001b[1;33m.\u001b[0m\u001b[0mn_iter\u001b[0m\u001b[1;33m,\u001b[0m\u001b[1;33m\u001b[0m\u001b[1;33m\u001b[0m\u001b[0m\n\u001b[1;32m-> 1531\u001b[1;33m             random_state=self.random_state))\n\u001b[0m",
      "\u001b[1;32mC:\\Software\\Anaconda3\\lib\\site-packages\\sklearn\\model_selection\\_search.py\u001b[0m in \u001b[0;36mevaluate_candidates\u001b[1;34m(candidate_params)\u001b[0m\n\u001b[0;32m    698\u001b[0m \u001b[1;33m\u001b[0m\u001b[0m\n\u001b[0;32m    699\u001b[0m             \u001b[1;32mdef\u001b[0m \u001b[0mevaluate_candidates\u001b[0m\u001b[1;33m(\u001b[0m\u001b[0mcandidate_params\u001b[0m\u001b[1;33m)\u001b[0m\u001b[1;33m:\u001b[0m\u001b[1;33m\u001b[0m\u001b[1;33m\u001b[0m\u001b[0m\n\u001b[1;32m--> 700\u001b[1;33m                 \u001b[0mcandidate_params\u001b[0m \u001b[1;33m=\u001b[0m \u001b[0mlist\u001b[0m\u001b[1;33m(\u001b[0m\u001b[0mcandidate_params\u001b[0m\u001b[1;33m)\u001b[0m\u001b[1;33m\u001b[0m\u001b[1;33m\u001b[0m\u001b[0m\n\u001b[0m\u001b[0;32m    701\u001b[0m                 \u001b[0mn_candidates\u001b[0m \u001b[1;33m=\u001b[0m \u001b[0mlen\u001b[0m\u001b[1;33m(\u001b[0m\u001b[0mcandidate_params\u001b[0m\u001b[1;33m)\u001b[0m\u001b[1;33m\u001b[0m\u001b[1;33m\u001b[0m\u001b[0m\n\u001b[0;32m    702\u001b[0m \u001b[1;33m\u001b[0m\u001b[0m\n",
      "\u001b[1;32mC:\\Software\\Anaconda3\\lib\\site-packages\\sklearn\\model_selection\\_search.py\u001b[0m in \u001b[0;36m__iter__\u001b[1;34m(self)\u001b[0m\n\u001b[0;32m    283\u001b[0m                 \u001b[0mn_iter\u001b[0m \u001b[1;33m=\u001b[0m \u001b[0mgrid_size\u001b[0m\u001b[1;33m\u001b[0m\u001b[1;33m\u001b[0m\u001b[0m\n\u001b[0;32m    284\u001b[0m             for i in sample_without_replacement(grid_size, n_iter,\n\u001b[1;32m--> 285\u001b[1;33m                                                 random_state=rng):\n\u001b[0m\u001b[0;32m    286\u001b[0m                 \u001b[1;32myield\u001b[0m \u001b[0mparam_grid\u001b[0m\u001b[1;33m[\u001b[0m\u001b[0mi\u001b[0m\u001b[1;33m]\u001b[0m\u001b[1;33m\u001b[0m\u001b[1;33m\u001b[0m\u001b[0m\n\u001b[0;32m    287\u001b[0m \u001b[1;33m\u001b[0m\u001b[0m\n",
      "\u001b[1;32msklearn\\utils\\_random.pyx\u001b[0m in \u001b[0;36msklearn.utils._random.sample_without_replacement\u001b[1;34m()\u001b[0m\n",
      "\u001b[1;31mOverflowError\u001b[0m: Python int too large to convert to C long"
     ]
    }
   ],
   "source": [
    "import tqdm\n",
    "import multiprocessing\n",
    "\n",
    "REG = {'name':'XGB','instance':XGBRegressor,'param':{\n",
    "            'learning_rate' : np.log(np.linspace(1.0001,2,50000)),#np.linspace(0.00001,0.9999,10000), \n",
    "            'n_estimators' : range(20,200,1),\n",
    "            'max_depth':range(2,15,1), ##MAR: start at 3 \n",
    "            'subsample':np.linspace(0.25, 1.0 ,10000),'colsample_bytree': np.linspace(0.01,0.9999,10000),\n",
    "            'min_child_weight':np.arange(2,15),'n_jobs':[1],\n",
    "#             'gamma':np.linspace(0,50,1000),\n",
    "#             'reg_alpha':np.arange(0,15),'reg_lambda':np.arange(0,15)\n",
    "}}\n",
    "\n",
    "search = RandomizedSearchCV(estimator = REG['instance'](),\n",
    "                   param_distributions=REG['param'],\n",
    "                   n_iter=300,\n",
    "                   scoring=make_scorer(mape, greater_is_better=False),\n",
    "                   n_jobs=multiprocessing.cpu_count(), ## MAR: used to be 1\n",
    "                   cv = 10,\n",
    "                   verbose = 1\n",
    "                       )\n",
    "search.fit(Xtr, Ytr)\n",
    "print(search.best_params_)"
   ]
  },
  {
   "cell_type": "code",
   "execution_count": 14,
   "metadata": {},
   "outputs": [],
   "source": [
    "reg = REG['instance'](**search.best_params_)\n",
    "    \n",
    "reg.fit(Xtr, Ytr)\n",
    "pred = np.array(reg.predict(Xte)).ravel()\n",
    "pred=pred"
   ]
  },
  {
   "cell_type": "code",
   "execution_count": 15,
   "metadata": {},
   "outputs": [
    {
     "data": {
      "image/png": "[encoded data removed]",
      "text/plain": [
       "<Figure size 432x288 with 1 Axes>"
      ]
     },
     "metadata": {
      "needs_background": "light"
     },
     "output_type": "display_data"
    }
   ],
   "source": [
    "import matplotlib.pyplot as plt\n",
    "plt.rcParams.update({'font.size': 13})\n",
    "import matplotlib \n",
    "plt.rc('axes', labelsize=15)\n",
    "# matplotlib.rc('xtick', labelsize=13) \n",
    "# matplotlib.rc('ytick', labelsize=13) \n",
    " \n",
    "\n",
    "plt.hist(Yte-pred,bins=150)\n",
    "plt.ylabel('Number of cases [n]')\n",
    "plt.xlabel('Difference between real and predicted duration [min]')\n",
    "plt.title('a) Victoria road. Subset A (<45 min)')\n",
    "plt.savefig('aresid.pdf',format='pdf')"
   ]
  },
  {
   "cell_type": "code",
   "execution_count": 7,
   "metadata": {},
   "outputs": [
    {
     "data": {
      "text/plain": [
       "285"
      ]
     },
     "execution_count": 7,
     "metadata": {},
     "output_type": "execute_result"
    }
   ],
   "source": []
  },
  {
   "cell_type": "markdown",
   "metadata": {},
   "source": [
    "# San-Francisco"
   ]
  },
  {
   "cell_type": "code",
   "execution_count": 16,
   "metadata": {},
   "outputs": [],
   "source": [
    "X,Y = getBFS(part=[2,40],dataset='sf')\n",
    "# Y=np.log1p(Y)"
   ]
  },
  {
   "cell_type": "code",
   "execution_count": 17,
   "metadata": {},
   "outputs": [],
   "source": [
    "cnd = X.monthidx >= (X.monthidx.max()-10)\n",
    "\n",
    "Xtr = X[cnd]\n",
    "Xte = X[~cnd]\n",
    "Ytr = Y[cnd]\n",
    "Yte = Y[~cnd]"
   ]
  },
  {
   "cell_type": "code",
   "execution_count": 21,
   "metadata": {},
   "outputs": [
    {
     "name": "stdout",
     "output_type": "stream",
     "text": [
      "Fitting 10 folds for each of 350 candidates, totalling 3500 fits\n"
     ]
    },
    {
     "name": "stderr",
     "output_type": "stream",
     "text": [
      "[Parallel(n_jobs=56)]: Using backend LokyBackend with 56 concurrent workers.\n",
      "[Parallel(n_jobs=56)]: Done  88 tasks      | elapsed:    0.3s\n",
      "[Parallel(n_jobs=56)]: Done 1016 tasks      | elapsed:    1.8s\n",
      "[Parallel(n_jobs=56)]: Done 2416 tasks      | elapsed:    3.8s\n"
     ]
    },
    {
     "name": "stdout",
     "output_type": "stream",
     "text": [
      "{'subsample': 0.9564956495649566, 'objective': 'reg:squarederror', 'n_jobs': 1, 'n_estimators': 84, 'min_child_weight': 14, 'max_depth': 12, 'learning_rate': 0.07873119041286854, 'colsample_bytree': 0.7649732373237323}\n"
     ]
    },
    {
     "name": "stderr",
     "output_type": "stream",
     "text": [
      "[Parallel(n_jobs=56)]: Done 3500 out of 3500 | elapsed:    6.0s finished\n",
      "/home/agrigore/anaconda3/lib/python3.7/site-packages/sklearn/model_selection/_search.py:814: DeprecationWarning: The default of the `iid` parameter will change from True to False in version 0.22 and will be removed in 0.24. This will change numeric results when test-set sizes are unequal.\n",
      "  DeprecationWarning)\n"
     ]
    }
   ],
   "source": [
    "import tqdm\n",
    "import multiprocessing\n",
    "\n",
    "REG = {'name':'XGB','instance':XGBRegressor,'param':{\n",
    "            'learning_rate' : np.log(np.linspace(1.0001,2,50000)),#np.linspace(0.00001,0.9999,10000), \n",
    "            'n_estimators' : range(20,200,1),'objective':['reg:squarederror'],\n",
    "            'max_depth':range(2,15,1), ##MAR: start at 3 \n",
    "            'subsample':np.linspace(0.25, 1.0 ,10000),'colsample_bytree': np.linspace(0.01,0.9999,10000),\n",
    "            'min_child_weight':np.arange(2,15),'n_jobs':[1],\n",
    "#             'gamma':np.linspace(0,50,1000),\n",
    "#             'reg_alpha':np.arange(0,15),'reg_lambda':np.arange(0,15)\n",
    "}}\n",
    "\n",
    "search = RandomizedSearchCV(estimator = REG['instance'](),\n",
    "                   param_distributions=REG['param'],\n",
    "                   n_iter=350,\n",
    "                   scoring=make_scorer(mape, greater_is_better=False),\n",
    "                   n_jobs=multiprocessing.cpu_count(), ## MAR: used to be 1\n",
    "                   cv = 10,\n",
    "                   verbose = 1\n",
    "                       )\n",
    "search.fit(Xtr, Ytr)\n",
    "print(search.best_params_)"
   ]
  },
  {
   "cell_type": "code",
   "execution_count": 22,
   "metadata": {},
   "outputs": [],
   "source": [
    "reg = REG['instance'](**search.best_params_)\n",
    "    \n",
    "reg.fit(Xtr, Ytr)\n",
    "pred = np.array(reg.predict(Xte)).ravel()\n",
    "# pred=np.expm1(pred)"
   ]
  },
  {
   "cell_type": "code",
   "execution_count": 23,
   "metadata": {},
   "outputs": [
    {
     "data": {
      "image/png": "[encoded data removed]",
      "text/plain": [
       "<Figure size 432x288 with 1 Axes>"
      ]
     },
     "metadata": {
      "needs_background": "light"
     },
     "output_type": "display_data"
    }
   ],
   "source": [
    "plt.rcParams.update({'font.size': 13})\n",
    "import matplotlib \n",
    "plt.rc('axes', labelsize=15)\n",
    "\n",
    "plt.hist(Yte-pred,bins=150)\n",
    "plt.ylabel('Number of cases [n]')\n",
    "plt.xlabel('Difference between real and predicted duration [min]')\n",
    "plt.title('c) SanFrancisco. Subset A (<40 min)') #subsetA\n",
    "plt.savefig('sfresid.pdf',format='pdf')"
   ]
  },
  {
   "cell_type": "code",
   "execution_count": null,
   "metadata": {},
   "outputs": [],
   "source": []
  },
  {
   "cell_type": "code",
   "execution_count": 44,
   "metadata": {},
   "outputs": [],
   "source": [
    "X,Y = getBFS(part=[2,55],dataset='m')\n",
    "Y=np.log1p(Y)"
   ]
  },
  {
   "cell_type": "code",
   "execution_count": 45,
   "metadata": {},
   "outputs": [],
   "source": [
    "cnd = X.Month >= (X.Month.max()-10)\n",
    "\n",
    "Xtr = X[cnd]\n",
    "Xte = X[~cnd]\n",
    "Ytr = Y[cnd]\n",
    "Yte = Y[~cnd]"
   ]
  },
  {
   "cell_type": "code",
   "execution_count": 46,
   "metadata": {},
   "outputs": [
    {
     "name": "stdout",
     "output_type": "stream",
     "text": [
      "Fitting 10 folds for each of 300 candidates, totalling 3000 fits\n"
     ]
    },
    {
     "name": "stderr",
     "output_type": "stream",
     "text": [
      "[Parallel(n_jobs=56)]: Using backend LokyBackend with 56 concurrent workers.\n",
      "[Parallel(n_jobs=56)]: Done  88 tasks      | elapsed:    1.4s\n",
      "[Parallel(n_jobs=56)]: Done 564 tasks      | elapsed:    5.5s\n",
      "[Parallel(n_jobs=56)]: Done 951 tasks      | elapsed:    8.4s\n",
      "[Parallel(n_jobs=56)]: Done 1401 tasks      | elapsed:   12.2s\n",
      "[Parallel(n_jobs=56)]: Done 1951 tasks      | elapsed:   18.5s\n",
      "[Parallel(n_jobs=56)]: Done 2601 tasks      | elapsed:   25.8s\n",
      "[Parallel(n_jobs=56)]: Done 3000 out of 3000 | elapsed:   30.4s finished\n"
     ]
    },
    {
     "name": "stdout",
     "output_type": "stream",
     "text": [
      "{'subsample': 0.7855685568556856, 'n_estimators': 338, 'min_child_weight': 14, 'max_depth': 4, 'learning_rate': 0.011116719058287382, 'colsample_bytree': 0.9804019501950195}\n"
     ]
    }
   ],
   "source": [
    "import tqdm\n",
    "import multiprocessing\n",
    "\n",
    "REG = {'name':'XGB','instance':XGBRegressor,'param':{\n",
    "            'learning_rate' : np.log(np.linspace(1.00001,1.3,100000)), \n",
    "            'n_estimators' : range(50,400,1),\n",
    "            'max_depth':range(2,15,1), ##MAR: start at 3 \n",
    "            'subsample':np.linspace(0.3, 1.0 ,10000),'colsample_bytree': np.linspace(0.0001,0.9999,10000),\n",
    "            'min_child_weight':np.arange(2,31)\n",
    "        }}\n",
    "\n",
    "search = RandomizedSearchCV(estimator = REG['instance'](),\n",
    "                   param_distributions=REG['param'],\n",
    "                   n_iter=300,\n",
    "                   scoring=make_scorer(mape, greater_is_better=False),\n",
    "                   n_jobs=multiprocessing.cpu_count(), ## MAR: used to be 1\n",
    "                   cv = 10,\n",
    "                   verbose = 1\n",
    "                       )\n",
    "search.fit(Xtr, Ytr)\n",
    "print(search.best_params_)"
   ]
  },
  {
   "cell_type": "code",
   "execution_count": 47,
   "metadata": {},
   "outputs": [],
   "source": [
    "reg = REG['instance'](**search.best_params_)\n",
    "    \n",
    "reg.fit(Xtr, Ytr)\n",
    "pred = np.array(reg.predict(Xte)).ravel()\n",
    "pred=np.expm1(pred)"
   ]
  },
  {
   "cell_type": "code",
   "execution_count": 48,
   "metadata": {},
   "outputs": [
    {
     "data": {
      "image/png": "[encoded data removed]",
      "text/plain": [
       "<Figure size 432x288 with 1 Axes>"
      ]
     },
     "metadata": {
      "needs_background": "light"
     },
     "output_type": "display_data"
    }
   ],
   "source": [
    "plt.rcParams.update({'font.size': 13})\n",
    "import matplotlib \n",
    "plt.rc('axes', labelsize=15)\n",
    "\n",
    "plt.hist(Yte-pred,bins=150)\n",
    "plt.ylabel('Number of cases [n]')\n",
    "plt.xlabel('Difference between real and predicted duration [min]')\n",
    "plt.title('b) M7. Subset A (<55 min)') #, test set is the last 2 months of the year\n",
    "plt.savefig('mresid.pdf',format='pdf')"
   ]
  },
  {
   "cell_type": "code",
   "execution_count": 27,
   "metadata": {},
   "outputs": [
    {
     "name": "stdout",
     "output_type": "stream",
     "text": [
      "4909 300\n"
     ]
    }
   ],
   "source": [
    "print(len(Xtr), len(Xte))"
   ]
  },
  {
   "cell_type": "code",
   "execution_count": 49,
   "metadata": {},
   "outputs": [],
   "source": [
    "!tar -cf resid.tar *resid.pdf"
   ]
  },
  {
   "cell_type": "code",
   "execution_count": null,
   "metadata": {},
   "outputs": [],
   "source": []
  }
 ],
 "metadata": {
  "kernelspec": {
   "display_name": "Python 3",
   "language": "python",
   "name": "python3"
  },
  "language_info": {
   "codemirror_mode": {
    "name": "ipython",
    "version": 3
   },
   "file_extension": ".py",
   "mimetype": "text/x-python",
   "name": "python",
   "nbconvert_exporter": "python",
   "pygments_lexer": "ipython3",
   "version": "3.7.7"
  }
 },
 "nbformat": 4,
 "nbformat_minor": 2
}
