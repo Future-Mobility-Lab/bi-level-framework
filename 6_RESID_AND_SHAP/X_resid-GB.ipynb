{
 "cells": [
  {
   "cell_type": "code",
   "execution_count": 106,
   "metadata": {},
   "outputs": [],
   "source": [
    "from MLimports2 import *\n",
    "exec(MLimports())"
   ]
  },
  {
   "cell_type": "markdown",
   "metadata": {},
   "source": [
    "# Arterial roads"
   ]
  },
  {
   "cell_type": "code",
   "execution_count": 1044,
   "metadata": {},
   "outputs": [],
   "source": [
    "X,Y = getBFS(part=[5,90],dataset='a')\n",
    "\n",
    "# cnd = X.monthidx >= (X.monthidx.max()-10)\n",
    "\n",
    "# Xtr = X[cnd]\n",
    "# Xte = X[~cnd]\n",
    "# Ytr = Y[cnd]\n",
    "# Yte = Y[~cnd]"
   ]
  },
  {
   "cell_type": "code",
   "execution_count": 1045,
   "metadata": {},
   "outputs": [],
   "source": [
    "from sklearn.linear_model import Ridge as LR\n",
    "from sklearn.tree import DecisionTreeRegressor as DT\n",
    "from ngboost import NGBRegressor"
   ]
  },
  {
   "cell_type": "code",
   "execution_count": 909,
   "metadata": {},
   "outputs": [],
   "source": [
    "class GB:\n",
    "    def __init__(self,base,params):\n",
    "        self.est = [base(**params) for i in range(1)]\n",
    "    def fit(self,X,Y):\n",
    "        \n",
    "        self.est[0].fit(X,Y)\n",
    "        preds = self.est[0].predict(X)\n",
    "        \n",
    "        \n",
    "        \n",
    "        for i in range(1,len(self.est)):\n",
    "            self.est[i].fit(X, Y-preds )\n",
    "            preds += self.est[i].predict(X)\n",
    "            \n",
    "            \n",
    "    def predict(self,X):\n",
    "        \n",
    "#         MAPE=[]\n",
    "#         ITER=[]\n",
    "        \n",
    "#         ITER.append(0)\n",
    "        \n",
    "        preds = self.est[0].predict(X)\n",
    "        \n",
    "#         MAPE.append(mape(Yte,self.est[0].predict(Xte)))\n",
    "#         \n",
    "        for i in range(1,len(self.est)):\n",
    "#             ITER.append(i)\n",
    "#             MAPE.append(mape(Yte,self.est[i].predict(Xte)))\n",
    "            preds+=self.est[i].predict(X)\n",
    "        \n",
    "#         plt.plot(ITER,MAPE)\n",
    "        return preds"
   ]
  },
  {
   "cell_type": "code",
   "execution_count": 925,
   "metadata": {},
   "outputs": [],
   "source": [
    "reg = GB(DT,{'max_depth':1})\n",
    "# reg = XGBRegressor(max_depth=7)"
   ]
  },
  {
   "cell_type": "code",
   "execution_count": 926,
   "metadata": {},
   "outputs": [],
   "source": [
    "reg.fit(Xtr.values,np.log1p(Ytr))"
   ]
  },
  {
   "cell_type": "code",
   "execution_count": 927,
   "metadata": {},
   "outputs": [
    {
     "data": {
      "text/plain": [
       "36.74072645978327"
      ]
     },
     "execution_count": 927,
     "metadata": {},
     "output_type": "execute_result"
    }
   ],
   "source": [
    "mape(Yte,np.expm1(reg.predict(Xte.values)))"
   ]
  },
  {
   "cell_type": "code",
   "execution_count": 928,
   "metadata": {},
   "outputs": [
    {
     "data": {
      "text/plain": [
       "(array([1.000e+00, 8.000e+00, 3.055e+03, 1.600e+02, 9.290e+02, 2.080e+02,\n",
       "        3.300e+02, 1.240e+02, 2.130e+02, 1.360e+02]),\n",
       " array([-33.47429068, -25.47429068, -17.47429068,  -9.47429068,\n",
       "         -1.47429068,   6.52570932,  14.52570932,  22.52570932,\n",
       "         30.52570932,  38.52570932,  46.52570932]),\n",
       " <a list of 10 Patch objects>)"
      ]
     },
     "execution_count": 928,
     "metadata": {},
     "output_type": "execute_result"
    },
    {
     "data": {
      "image/png": "[encoded data removed]",
      "text/plain": [
       "<Figure size 432x288 with 1 Axes>"
      ]
     },
     "metadata": {
      "needs_background": "light"
     },
     "output_type": "display_data"
    }
   ],
   "source": [
    "plt.hist(Yte-np.expm1(reg.predict(Xte)))"
   ]
  },
  {
   "cell_type": "code",
   "execution_count": 941,
   "metadata": {},
   "outputs": [
    {
     "data": {
      "text/plain": [
       "18.53885627069106"
      ]
     },
     "execution_count": 941,
     "metadata": {},
     "output_type": "execute_result"
    }
   ],
   "source": [
    "mape(Yte,29*np.ones(len(Yte)))"
   ]
  },
  {
   "cell_type": "code",
   "execution_count": 1080,
   "metadata": {},
   "outputs": [],
   "source": [
    "X,Y = getBFS(part=[0,45],dataset='a')\n",
    "Xtr,Xte,Ytr,Yte = train_test_split(X,Y,test_size=0.2)"
   ]
  },
  {
   "cell_type": "code",
   "execution_count": 1081,
   "metadata": {},
   "outputs": [
    {
     "data": {
      "text/plain": [
       "69.10328859292345"
      ]
     },
     "execution_count": 1081,
     "metadata": {},
     "output_type": "execute_result"
    }
   ],
   "source": [
    "mape(Yte,np.median(Y)*np.ones(len(Yte)))"
   ]
  },
  {
   "cell_type": "code",
   "execution_count": 1082,
   "metadata": {},
   "outputs": [],
   "source": [
    "reg = XGBRegressor(max_depth=9)"
   ]
  },
  {
   "cell_type": "code",
   "execution_count": 1083,
   "metadata": {},
   "outputs": [
    {
     "data": {
      "text/plain": [
       "XGBRegressor(base_score=0.5, booster='gbtree', colsample_bylevel=1,\n",
       "             colsample_bynode=1, colsample_bytree=1, gamma=0, gpu_id=-1,\n",
       "             importance_type='gain', interaction_constraints='',\n",
       "             learning_rate=0.300000012, max_delta_step=0, max_depth=9,\n",
       "             min_child_weight=1, missing=nan, monotone_constraints='()',\n",
       "             n_estimators=100, n_jobs=0, num_parallel_tree=1,\n",
       "             objective='reg:squarederror', random_state=0, reg_alpha=0,\n",
       "             reg_lambda=1, scale_pos_weight=1, subsample=1, tree_method='exact',\n",
       "             validate_parameters=1, verbosity=None)"
      ]
     },
     "execution_count": 1083,
     "metadata": {},
     "output_type": "execute_result"
    }
   ],
   "source": [
    "reg.fit(np.random.random(size=len(Ytr)).reshape(-1,1),np.log1p(Ytr))"
   ]
  },
  {
   "cell_type": "code",
   "execution_count": 1084,
   "metadata": {},
   "outputs": [
    {
     "data": {
      "text/plain": [
       "108.17987982854855"
      ]
     },
     "execution_count": 1084,
     "metadata": {},
     "output_type": "execute_result"
    }
   ],
   "source": [
    "mape(Yte,np.expm1(reg.predict(np.random.random(size=len(Yte)).reshape(-1,1))))"
   ]
  },
  {
   "cell_type": "code",
   "execution_count": 1085,
   "metadata": {},
   "outputs": [
    {
     "ename": "AttributeError",
     "evalue": "'DataFrame' object has no attribute 'Source'",
     "output_type": "error",
     "traceback": [
      "\u001b[0;31m---------------------------------------------------------------------------\u001b[0m",
      "\u001b[0;31mAttributeError\u001b[0m                            Traceback (most recent call last)",
      "\u001b[0;32m<ipython-input-1085-d2cef21d02c6>\u001b[0m in \u001b[0;36m<module>\u001b[0;34m\u001b[0m\n\u001b[0;32m----> 1\u001b[0;31m \u001b[0mX\u001b[0m\u001b[0;34m.\u001b[0m\u001b[0mSource\u001b[0m\u001b[0;34m.\u001b[0m\u001b[0munique\u001b[0m\u001b[0;34m(\u001b[0m\u001b[0;34m)\u001b[0m\u001b[0;34m\u001b[0m\u001b[0;34m\u001b[0m\u001b[0m\n\u001b[0m",
      "\u001b[0;32m~/anaconda3/lib/python3.7/site-packages/pandas/core/generic.py\u001b[0m in \u001b[0;36m__getattr__\u001b[0;34m(self, name)\u001b[0m\n\u001b[1;32m   5177\u001b[0m             \u001b[0;32mif\u001b[0m \u001b[0mself\u001b[0m\u001b[0;34m.\u001b[0m\u001b[0m_info_axis\u001b[0m\u001b[0;34m.\u001b[0m\u001b[0m_can_hold_identifiers_and_holds_name\u001b[0m\u001b[0;34m(\u001b[0m\u001b[0mname\u001b[0m\u001b[0;34m)\u001b[0m\u001b[0;34m:\u001b[0m\u001b[0;34m\u001b[0m\u001b[0;34m\u001b[0m\u001b[0m\n\u001b[1;32m   5178\u001b[0m                 \u001b[0;32mreturn\u001b[0m \u001b[0mself\u001b[0m\u001b[0;34m[\u001b[0m\u001b[0mname\u001b[0m\u001b[0;34m]\u001b[0m\u001b[0;34m\u001b[0m\u001b[0;34m\u001b[0m\u001b[0m\n\u001b[0;32m-> 5179\u001b[0;31m             \u001b[0;32mreturn\u001b[0m \u001b[0mobject\u001b[0m\u001b[0;34m.\u001b[0m\u001b[0m__getattribute__\u001b[0m\u001b[0;34m(\u001b[0m\u001b[0mself\u001b[0m\u001b[0;34m,\u001b[0m \u001b[0mname\u001b[0m\u001b[0;34m)\u001b[0m\u001b[0;34m\u001b[0m\u001b[0;34m\u001b[0m\u001b[0m\n\u001b[0m\u001b[1;32m   5180\u001b[0m \u001b[0;34m\u001b[0m\u001b[0m\n\u001b[1;32m   5181\u001b[0m     \u001b[0;32mdef\u001b[0m \u001b[0m__setattr__\u001b[0m\u001b[0;34m(\u001b[0m\u001b[0mself\u001b[0m\u001b[0;34m,\u001b[0m \u001b[0mname\u001b[0m\u001b[0;34m,\u001b[0m \u001b[0mvalue\u001b[0m\u001b[0;34m)\u001b[0m\u001b[0;34m:\u001b[0m\u001b[0;34m\u001b[0m\u001b[0;34m\u001b[0m\u001b[0m\n",
      "\u001b[0;31mAttributeError\u001b[0m: 'DataFrame' object has no attribute 'Source'"
     ]
    }
   ],
   "source": [
    "X.Source.unique()"
   ]
  },
  {
   "cell_type": "code",
   "execution_count": 1100,
   "metadata": {},
   "outputs": [],
   "source": [
    "class MedianTree:\n",
    "    def __init__(self):\n",
    "        pass\n",
    "    def fit(self,X,Y):\n",
    "        \n",
    "        self.S1M = np.median(Y[X.IncSource==0])\n",
    "        self.S2M = np.median(Y[X.IncSource==1])\n",
    "#         self.S3M = np.median(Y[X.IncSource==2])\n",
    "        \n",
    "    def predict(self,X):\n",
    "        RES = []\n",
    "        for i in range(len(X)):\n",
    "            if X.iloc[i].IncSource==0:\n",
    "                RES.append(self.S1M)\n",
    "            if X.iloc[i].IncSource==1:\n",
    "                RES.append(self.S2M)\n",
    "#             if X.iloc[i].IncSource==2:\n",
    "#                 RES.append(self.S3M)\n",
    "        return np.array(RES)"
   ]
  },
  {
   "cell_type": "code",
   "execution_count": 1101,
   "metadata": {},
   "outputs": [
    {
     "data": {
      "text/plain": [
       "24.0"
      ]
     },
     "execution_count": 1101,
     "metadata": {},
     "output_type": "execute_result"
    }
   ],
   "source": [
    "np.median(Y[X.IncSource==0])"
   ]
  },
  {
   "cell_type": "code",
   "execution_count": 1102,
   "metadata": {},
   "outputs": [
    {
     "data": {
      "text/plain": [
       "array([0, 1])"
      ]
     },
     "execution_count": 1102,
     "metadata": {},
     "output_type": "execute_result"
    }
   ],
   "source": [
    "X.IncSource.unique()"
   ]
  },
  {
   "cell_type": "code",
   "execution_count": 1103,
   "metadata": {},
   "outputs": [],
   "source": [
    "reg = MedianTree()"
   ]
  },
  {
   "cell_type": "code",
   "execution_count": 1104,
   "metadata": {},
   "outputs": [],
   "source": [
    "reg.fit(X,Y)"
   ]
  },
  {
   "cell_type": "code",
   "execution_count": 1105,
   "metadata": {},
   "outputs": [
    {
     "data": {
      "text/plain": [
       "71.36476818947897"
      ]
     },
     "execution_count": 1105,
     "metadata": {},
     "output_type": "execute_result"
    }
   ],
   "source": [
    "mape(Yte,reg.predict(Xte))"
   ]
  },
  {
   "cell_type": "code",
   "execution_count": 1107,
   "metadata": {},
   "outputs": [
    {
     "name": "stdout",
     "output_type": "stream",
     "text": [
      "0 100.0\n",
      "1 89.77533482869259\n",
      "2 82.71522661941052\n",
      "3 78.81967537215377\n",
      "4 76.61188783797716\n",
      "5 76.46106232911704\n",
      "6 76.56340137721891\n",
      "7 77.7205927459959\n",
      "8 79.96277507318158\n",
      "9 82.83786879277231\n",
      "10 86.06457995258809\n",
      "11 90.11407592253042\n",
      "12 94.50879628833009\n",
      "13 99.32545758239979\n",
      "14 104.43423182681029\n",
      "15 109.7690458542226\n",
      "16 115.48360671707793\n",
      "17 121.31683846600924\n",
      "18 127.4106807882838\n",
      "19 133.57484659860336\n",
      "20 140.0721236680835\n",
      "21 146.75927415528514\n",
      "22 153.68753374435536\n",
      "23 160.96101772928293\n",
      "24 168.3445732607157\n",
      "25 175.93909925628347\n",
      "26 183.8121062645095\n",
      "27 191.83116974790593\n",
      "28 200.03776253275572\n",
      "29 208.49299907890747\n",
      "30 217.013709217377\n",
      "31 225.68209868074103\n",
      "32 234.5342366128679\n",
      "33 243.5643808741086\n",
      "34 252.70959993396835\n",
      "35 261.9478941985937\n",
      "36 271.3127707417\n",
      "37 280.78313251687376\n",
      "38 290.3048114319723\n",
      "39 299.99304597665116\n",
      "40 309.8273369965004\n",
      "41 319.7882102948306\n",
      "42 329.7799573196196\n",
      "43 339.81691230100904\n",
      "44 349.92746163035247\n",
      "45 360.10993270883284\n",
      "46 370.3345978801403\n",
      "47 380.5592630514476\n",
      "48 390.78392822275504\n",
      "49 401.0085933940625\n",
      "50 411.23325856536985\n",
      "51 421.4579237366773\n",
      "52 431.6825889079846\n",
      "53 441.90725407929204\n",
      "54 452.1319192505994\n",
      "55 462.3565844219068\n",
      "56 472.5812495932142\n",
      "57 482.80591476452156\n",
      "58 493.03057993582894\n",
      "59 503.2552451071363\n",
      "60 513.4799102784438\n",
      "61 523.7045754497511\n",
      "62 533.9292406210586\n",
      "63 544.1539057923659\n",
      "64 554.3785709636733\n",
      "65 564.6032361349806\n",
      "66 574.8279013062881\n",
      "67 585.0525664775955\n",
      "68 595.2772316489029\n",
      "69 605.5018968202104\n",
      "70 615.7265619915178\n",
      "71 625.9512271628251\n",
      "72 636.1758923341326\n",
      "73 646.40055750544\n",
      "74 656.6252226767474\n",
      "75 666.8498878480548\n",
      "76 677.0745530193622\n",
      "77 687.2992181906695\n",
      "78 697.5238833619769\n",
      "79 707.7485485332843\n",
      "80 717.9732137045917\n",
      "81 728.197878875899\n",
      "82 738.4225440472067\n",
      "83 748.6472092185138\n",
      "84 758.8718743898212\n",
      "85 769.0965395611287\n",
      "86 779.3212047324362\n",
      "87 789.5458699037434\n",
      "88 799.7705350750509\n",
      "89 809.9952002463583\n",
      "90 820.2198654176655\n",
      "91 830.4445305889731\n",
      "92 840.6691957602807\n",
      "93 850.8938609315878\n",
      "94 861.1185261028952\n",
      "95 871.3431912742028\n",
      "96 881.5678564455102\n",
      "97 891.7925216168173\n",
      "98 902.0171867881247\n",
      "99 912.2418519594321\n"
     ]
    }
   ],
   "source": [
    "for i in range(100):\n",
    "    print(i,mape(Ytr,i*np.ones(len(Ytr))))"
   ]
  },
  {
   "cell_type": "code",
   "execution_count": null,
   "metadata": {},
   "outputs": [],
   "source": []
  },
  {
   "cell_type": "code",
   "execution_count": null,
   "metadata": {},
   "outputs": [],
   "source": [
    "#MeanTree\n",
    "#randomly select feature and cat values (5 quantiles)\n",
    "#estimate median values for all\n",
    "#average(mean) such trees (which calculate mean, median, etc) and show the best result"
   ]
  },
  {
   "cell_type": "code",
   "execution_count": null,
   "metadata": {},
   "outputs": [],
   "source": []
  },
  {
   "cell_type": "code",
   "execution_count": null,
   "metadata": {},
   "outputs": [],
   "source": []
  },
  {
   "cell_type": "code",
   "execution_count": 931,
   "metadata": {},
   "outputs": [
    {
     "data": {
      "text/plain": [
       "(array([   6.,    0.,    0.,    0.,    0.,    0.,    0.,    0.,    0.,\n",
       "        5158.]),\n",
       " array([18.5661124 , 21.05693023, 23.54774806, 26.03856589, 28.52938371,\n",
       "        31.02020154, 33.51101937, 36.0018372 , 38.49265502, 40.98347285,\n",
       "        43.47429068]),\n",
       " <a list of 10 Patch objects>)"
      ]
     },
     "execution_count": 931,
     "metadata": {},
     "output_type": "execute_result"
    },
    {
     "data": {
      "image/png": "[encoded data removed]",
      "text/plain": [
       "<Figure size 432x288 with 1 Axes>"
      ]
     },
     "metadata": {
      "needs_background": "light"
     },
     "output_type": "display_data"
    }
   ],
   "source": [
    "plt.hist(np.expm1(reg.predict(Xte)))"
   ]
  },
  {
   "cell_type": "code",
   "execution_count": 179,
   "metadata": {},
   "outputs": [
    {
     "name": "stderr",
     "output_type": "stream",
     "text": [
      "/home/agrigore/anaconda3/lib/python3.7/site-packages/xgboost/data.py:96: UserWarning: Use subset (sliced data) of np.ndarray is not recommended because it will generate extra copies and increase memory consumption\n",
      "  \"because it will generate extra copies and increase \" +\n"
     ]
    },
    {
     "name": "stdout",
     "output_type": "stream",
     "text": [
      "[iter 0] loss=1.1769 val_loss=0.0000 scale=2.0000 norm=1.7484\n",
      "[iter 100] loss=0.2289 val_loss=0.0000 scale=2.0000 norm=0.9693\n",
      "[iter 200] loss=-0.4627 val_loss=0.0000 scale=2.0000 norm=0.8056\n",
      "[iter 300] loss=-0.9810 val_loss=0.0000 scale=2.0000 norm=0.6590\n",
      "[iter 400] loss=-1.3525 val_loss=0.0000 scale=2.0000 norm=0.5566\n"
     ]
    },
    {
     "data": {
      "text/plain": [
       "NGBRegressor(Base=XGBRegressor(base_score=None, booster=None,\n",
       "                               colsample_bylevel=None, colsample_bynode=None,\n",
       "                               colsample_bytree=None, gamma=None, gpu_id=None,\n",
       "                               importance_type='gain',\n",
       "                               interaction_constraints=None, learning_rate=None,\n",
       "                               max_delta_step=None, max_depth=3,\n",
       "                               min_child_weight=None, missing=nan,\n",
       "                               monotone_constraints=None, n_estimators=10,\n",
       "                               n_jobs=None, num_paral...\n",
       "                               scale_pos_weight=None, subsample=None,\n",
       "                               tree_method=None, validate_parameters=None,\n",
       "                               verbosity=None),\n",
       "             Dist=<class 'ngboost.distns.normal.Normal'>,\n",
       "             Score=<class 'ngboost.scores.LogScore'>, col_sample=1.0,\n",
       "             learning_rate=0.01, minibatch_frac=1.0, n_estimators=500,\n",
       "             natural_gradient=True,\n",
       "             random_state=RandomState(MT19937) at 0x2AD464EE1E20, tol=0.0001,\n",
       "             verbose=True, verbose_eval=100)"
      ]
     },
     "execution_count": 179,
     "metadata": {},
     "output_type": "execute_result"
    }
   ],
   "source": [
    "reg1=NGBRegressor(Base=XGBRegressor(max_depth=3,n_estimators=10))\n",
    "# reg1=XGBRegressor(max_depth=7)\n",
    "reg1.fit(Xtr,np.log1p(Ytr))"
   ]
  },
  {
   "cell_type": "code",
   "execution_count": 166,
   "metadata": {},
   "outputs": [
    {
     "data": {
      "text/plain": [
       "0.0046515159595006406"
      ]
     },
     "execution_count": 166,
     "metadata": {},
     "output_type": "execute_result"
    }
   ],
   "source": [
    "reg1.score(Xte,Yte)"
   ]
  },
  {
   "cell_type": "code",
   "execution_count": 180,
   "metadata": {},
   "outputs": [],
   "source": [
    "R = -(reg1.predict(Xtr)-np.log1p(Ytr))"
   ]
  },
  {
   "cell_type": "code",
   "execution_count": 181,
   "metadata": {},
   "outputs": [
    {
     "name": "stderr",
     "output_type": "stream",
     "text": [
      "/home/agrigore/anaconda3/lib/python3.7/site-packages/xgboost/data.py:96: UserWarning: Use subset (sliced data) of np.ndarray is not recommended because it will generate extra copies and increase memory consumption\n",
      "  \"because it will generate extra copies and increase \" +\n"
     ]
    },
    {
     "name": "stdout",
     "output_type": "stream",
     "text": [
      "[iter 0] loss=-0.9555 val_loss=0.0000 scale=2.0000 norm=1.2098\n",
      "[iter 100] loss=-2.2008 val_loss=0.0000 scale=2.0000 norm=0.9410\n",
      "[iter 200] loss=-3.5263 val_loss=0.0000 scale=4.0000 norm=1.9484\n",
      "[iter 300] loss=-5.1411 val_loss=0.0000 scale=4.0000 norm=1.3738\n",
      "[iter 400] loss=-5.6551 val_loss=0.0000 scale=2.0000 norm=0.3314\n"
     ]
    },
    {
     "data": {
      "text/plain": [
       "NGBRegressor(Base=XGBRegressor(base_score=None, booster=None,\n",
       "                               colsample_bylevel=None, colsample_bynode=None,\n",
       "                               colsample_bytree=None, gamma=None, gpu_id=None,\n",
       "                               importance_type='gain',\n",
       "                               interaction_constraints=None, learning_rate=None,\n",
       "                               max_delta_step=None, max_depth=3,\n",
       "                               min_child_weight=None, missing=nan,\n",
       "                               monotone_constraints=None, n_estimators=100,\n",
       "                               n_jobs=None, num_para...\n",
       "                               scale_pos_weight=None, subsample=None,\n",
       "                               tree_method=None, validate_parameters=None,\n",
       "                               verbosity=None),\n",
       "             Dist=<class 'ngboost.distns.normal.Normal'>,\n",
       "             Score=<class 'ngboost.scores.LogScore'>, col_sample=1.0,\n",
       "             learning_rate=0.01, minibatch_frac=1.0, n_estimators=500,\n",
       "             natural_gradient=True,\n",
       "             random_state=RandomState(MT19937) at 0x2AD464EE1E20, tol=0.0001,\n",
       "             verbose=True, verbose_eval=100)"
      ]
     },
     "execution_count": 181,
     "metadata": {},
     "output_type": "execute_result"
    }
   ],
   "source": [
    "reg2=NGBRegressor(Base=XGBRegressor(max_depth=3))\n",
    "reg2.fit(Xtr,R)"
   ]
  },
  {
   "cell_type": "code",
   "execution_count": 182,
   "metadata": {},
   "outputs": [
    {
     "data": {
      "text/plain": [
       "90.31694860377333"
      ]
     },
     "execution_count": 182,
     "metadata": {},
     "output_type": "execute_result"
    }
   ],
   "source": [
    "mape(Yte,np.expm1(reg1.predict(Xte)))"
   ]
  },
  {
   "cell_type": "code",
   "execution_count": 183,
   "metadata": {},
   "outputs": [
    {
     "data": {
      "text/plain": [
       "85.10920963456097"
      ]
     },
     "execution_count": 183,
     "metadata": {},
     "output_type": "execute_result"
    }
   ],
   "source": [
    "mape(Yte,reg1.predict(Xte)+reg2.predict(Xte))"
   ]
  },
  {
   "cell_type": "code",
   "execution_count": 178,
   "metadata": {},
   "outputs": [
    {
     "data": {
      "text/plain": [
       "(array([ 15.,   0.,   0.,   0.,   0.,   0.,   0.,   0.,   0., 514.]),\n",
       " array([-1.75734796e-04, -1.57906988e-04, -1.40079179e-04, -1.22251371e-04,\n",
       "        -1.04423562e-04, -8.65957537e-05, -6.87679452e-05, -5.09401367e-05,\n",
       "        -3.31123282e-05, -1.52845197e-05,  2.54328883e-06]),\n",
       " <a list of 10 Patch objects>)"
      ]
     },
     "execution_count": 178,
     "metadata": {},
     "output_type": "execute_result"
    },
    {
     "data": {
      "image/png": "[encoded data removed]",
      "text/plain": [
       "<Figure size 432x288 with 1 Axes>"
      ]
     },
     "metadata": {
      "needs_background": "light"
     },
     "output_type": "display_data"
    }
   ],
   "source": [
    "plt.hist(reg2.predict(X))"
   ]
  },
  {
   "cell_type": "code",
   "execution_count": 14,
   "metadata": {},
   "outputs": [
    {
     "data": {
      "text/plain": [
       "array([ 44.33845826,  62.07587887,  50.09550075,  70.0429974 ,\n",
       "        65.77343144, 103.00923917, 110.91616231,  61.08725964,\n",
       "        95.9360355 ,  50.51356585,  59.1807773 ,  59.26170556,\n",
       "        55.89227067,  44.4209871 ,  84.098632  ,  73.46576956,\n",
       "        83.34616061,  78.26245907,  68.60457678, 142.26425159,\n",
       "        80.57803099,  64.12862507, 121.43222933, 114.97610784,\n",
       "        51.74036382, 125.63365487,  65.87033995,  60.83656456,\n",
       "        37.40034322,  57.73835131,  72.84440949,  61.05840645,\n",
       "        55.06940099,  47.54162272,  44.51535309,  73.45790215,\n",
       "        67.96217259,  70.21444632,  42.1380865 ,  65.45865686,\n",
       "        65.08792502,  52.77182002,  47.98708991,  64.45183403,\n",
       "        54.79395174,  90.92543953,  77.76410192,  41.09601802,\n",
       "        46.09024365,  49.87243377,  37.88923317,  49.99856085,\n",
       "        21.8844843 ,  36.5067377 ,  30.44276844,  43.27356794,\n",
       "        48.02322972,  39.26251566,  44.51252367,  56.17523409,\n",
       "        78.91282254,  15.22402511,  35.18490814,  38.36066536,\n",
       "        65.64450463,  76.64145049,  57.78965545,  62.31469474,\n",
       "        57.55107235,  42.13218067,  56.84834424,  66.71186195,\n",
       "        48.06850016,  57.8431823 ,  45.49751749,  28.39788178,\n",
       "        38.90377923,  32.11783995,  43.92607285,  35.85461461,\n",
       "        41.45860724,  53.35045427,  16.49402982,  38.51461602,\n",
       "        35.21075365,  75.90944461,  47.19064388,  19.68170498,\n",
       "        49.95974496,  39.40748185,  42.21684186,  42.19162056,\n",
       "        52.67978208,  36.72300696,  42.0450655 ,  72.87123511,\n",
       "        31.95663497,  25.38827569,  53.41836305,  53.74648104,\n",
       "        49.876931  , 100.02475719,  31.84272068,  46.75225323,\n",
       "        92.93664344,  40.39169665,  47.25995867,  48.00791366,\n",
       "        56.67321749,  52.79088982,  52.86418376,  29.82093148,\n",
       "        44.07485242,  38.86960839,  29.81510887, 102.26692334,\n",
       "        52.49202246,  55.71473525,  40.4941198 ,  49.65418828,\n",
       "        60.80014541,  65.41531203,  42.29492158,  71.78333239,\n",
       "        15.73904962,  19.67668777,  49.28534644,  53.21301528,\n",
       "        55.71451762,  51.0509623 ,  40.10512642,  48.08930398,\n",
       "        44.51814766,  45.24362568,  54.42120005,  41.26475202,\n",
       "        65.22541147,  26.93460799,  40.37623173,  42.88534015,\n",
       "        54.09811308,  47.60627795,  26.31871751,  88.65791656,\n",
       "        61.17486369,  43.32502555,  30.44295203,  72.98300482,\n",
       "        55.58877219,  16.99410768,  41.23048504,  29.42943777,\n",
       "        28.89308615,  71.03791939,  34.28259652,  46.30048209,\n",
       "        27.32566228,  47.73673413,  45.28666787,  56.25701761,\n",
       "        52.67288441,  82.72388173,  54.58857484,  41.01080974,\n",
       "        52.06200322,  46.35299659,  46.36654257,  41.58477555,\n",
       "        50.77911251,  62.41549382,  90.64432307,  59.51878142,\n",
       "        94.16750376,  53.7422144 ,  67.31716623,  41.35539985,\n",
       "        53.70089434,  30.92551046,  43.51664617,  43.84404126,\n",
       "        54.42523399,  63.57150658,  50.08055893,  58.48106897,\n",
       "        49.36268789,  59.08208089,  59.19407215,  49.33377583,\n",
       "       110.85925822,  37.24780692,  44.27603038,  50.22840194,\n",
       "        36.28365547,  42.92397423,  47.61163673,  28.22255193,\n",
       "        55.94397061,  64.89350426,  42.47402202,  38.6749723 ,\n",
       "        44.66234005,  57.95121964,   6.81791378,  42.63921489,\n",
       "        64.99093214,  68.43909229,  47.98955685,  70.79509238,\n",
       "        42.63230319,  59.8065079 , 105.28908138,  57.21043734,\n",
       "        98.88314657,  61.32409596,  75.32468781,  56.51637928,\n",
       "        72.12134059,  60.53033395,  52.78314367,  61.81096837,\n",
       "        59.74030931,   9.16883394,  44.52239171,  55.81621942,\n",
       "        56.26989414,  65.00853915,  54.72658823,  46.85380207,\n",
       "        38.04825158,  50.6512221 ,  48.43955335,  67.45906167,\n",
       "        42.29454115,  50.23941618,  67.61506232,  60.84408399,\n",
       "        46.92152536,  65.07486498,  67.0376045 ,  65.64883796,\n",
       "        46.46933012,  48.72983231,  47.48303528,  79.09963083,\n",
       "        46.53298612,  43.34841611,  64.57183879,  54.18383608,\n",
       "        41.83436722,  68.93332529,  42.06395153,  52.3166466 ,\n",
       "        52.39703028,  62.37158172,  69.63716839,  42.78193837,\n",
       "        78.19744496,  77.7826459 ,  35.74456947,  48.59538731,\n",
       "        53.24346843, 100.47244394,  66.30629997,  46.40598482,\n",
       "        45.51143253,  52.95862978,  44.8303412 ,  56.09681774,\n",
       "        71.90859923,  47.14123912,  42.51474965,  44.84573867,\n",
       "        54.25868245,  44.50151106,  28.7309637 ,  53.29923155,\n",
       "        34.22658762,  42.89642537,  61.16346188,  51.77723693,\n",
       "        39.24934512,  49.56077086,  66.72105303,  54.14042883,\n",
       "        59.34643053,  42.3309969 ,  21.65168775,  12.30846858,\n",
       "        39.47384106,  27.90477773,  53.37985379,  36.3293384 ,\n",
       "        58.38555262,  28.2318496 ,  36.48564654, 104.1813984 ,\n",
       "        30.34363048,  25.22835295,  52.76355711,  47.8634728 ,\n",
       "        65.68687417,  52.77151919,  52.80587114,  35.67306465,\n",
       "        40.99397436,  26.18983321,  46.34983196,  15.81845309,\n",
       "        50.02885162,  45.95132168,  35.65545576,  11.51433865,\n",
       "        39.45044451,  28.29676932,  39.3190265 ,  22.31152803,\n",
       "        11.19431531,  23.34563335,  14.78994941,  24.11112347,\n",
       "        64.08883034,  38.12148925,  24.82000286,  39.81493067,\n",
       "        43.54948343,  48.8895718 ,  21.32910467,  26.40684736,\n",
       "        33.52893593,  33.64799361,  26.93519766,  39.21336887,\n",
       "        46.04183076,  29.23949405,  29.48216587,  43.66500783,\n",
       "        62.38438514,  51.83860804,  37.84354649,  27.57610632,\n",
       "        31.49914219,  69.34319465,  58.46445786,  40.58246928,\n",
       "        49.72104586,  54.01792363,  39.49427991,  57.61925471,\n",
       "        36.6972061 ,  33.83112296,  25.37519916,  21.39096494,\n",
       "        14.87573435,  32.90054164,  58.33202052,  16.9972456 ,\n",
       "        32.37209124,  31.11983168,  32.53459632,  45.04498143,\n",
       "        38.30576534,  36.655577  ,  38.61608348,  86.26364692,\n",
       "        17.0190603 ,  46.60030809,  28.88241615,  21.97392445,\n",
       "        39.08816446,  26.98840015,  13.19286367,   7.55414142,\n",
       "        36.75069378,  46.82247684,  24.32442364,  36.94910929,\n",
       "        23.20024341,  48.76388108,  47.46971305,  12.31604215,\n",
       "         2.68295446,  24.48603821,  37.07037871,  46.76967631,\n",
       "        32.29605696,  31.32553291,  51.03018676,  33.6943889 ,\n",
       "        50.77419776,   5.01123264,  31.31556796,  23.30809105,\n",
       "        56.11589238,  22.88734176,  37.64094262,  30.29116725,\n",
       "        33.8715699 ,  23.72738   ,  33.33475308,  26.25584334,\n",
       "        75.58372652,  44.9121254 ,  58.84891848,  39.64936128,\n",
       "        61.44466287,  34.85766287,  71.95888312,  15.02134779,\n",
       "        53.73367571,  13.48374904,  30.93136799,  58.00314004,\n",
       "        35.72270736,  60.44739577,  50.5337882 ,  31.57165277,\n",
       "        34.75443515,  42.02633941,  80.90420991,  35.02638108,\n",
       "        24.79196615,  26.5773258 ,  67.46690516,  47.94028073,\n",
       "        36.81707257,  59.95371888,  59.56464195,  48.90363235,\n",
       "        35.08706095,  38.51358226,  15.87378201,  19.92923816,\n",
       "        33.42602236,  38.84813982,  34.40537276,  33.54459708,\n",
       "        58.89549302,  40.58815026,  24.66740211,  67.27200629,\n",
       "        52.36512749,  41.4138803 ,  75.69555905,  10.00187455,\n",
       "        92.72746628,  52.57732824,  56.2153645 , 113.45903975,\n",
       "        67.75752347,  22.94796866,  40.72911575,  54.48335129,\n",
       "        52.24148377,  45.30396631,  42.50237232,  54.3186051 ,\n",
       "        37.57047501,  58.12075449,  47.85749515,  57.44442615,\n",
       "        42.45110033,  25.02951605,  38.80328719,  42.48727345,\n",
       "        73.84460759,  60.29341074,  34.50518821,  47.23100446,\n",
       "        30.46840948,  38.10343328,  41.16391672,  35.67979287,\n",
       "        27.6811558 ,  36.32511531,  14.92943684,  25.68540672,\n",
       "        23.76235119,  48.2253357 ,  40.55101967,  24.56930295,\n",
       "        37.01731816,  50.81780747,  86.74308016,  56.38166136,\n",
       "        53.9842575 ,  51.74181052,  45.08016923,  37.83512272,\n",
       "        40.1885672 ,  42.10909456,  71.88881828,  81.20800866,\n",
       "        45.11411522,  35.01026945,  34.05677799,  71.35760825,\n",
       "        10.26921987,  47.45043268,  63.96754554,  56.79349954,\n",
       "        45.34119454,  30.84246485,  39.19689445,  60.29177   ,\n",
       "        54.40699228,  39.37162086,  40.7856014 ,  38.83454632,\n",
       "        55.80636801,  30.87364555,  45.17097407,  44.91314388,\n",
       "        40.31152832,  47.24492616,   9.35078795,  48.67008048,\n",
       "        37.13793749,  42.25059919,  48.1558439 ,  39.18292642,\n",
       "        78.57496577,  45.17897475,  26.34510774,  34.53585422,\n",
       "        72.1371184 ,  50.13264522,  64.12745996,  27.92956379,\n",
       "        40.99782922])"
      ]
     },
     "execution_count": 14,
     "metadata": {},
     "output_type": "execute_result"
    }
   ],
   "source": [
    "reg1.predict(X)"
   ]
  },
  {
   "cell_type": "code",
   "execution_count": null,
   "metadata": {},
   "outputs": [],
   "source": []
  },
  {
   "cell_type": "code",
   "execution_count": 73,
   "metadata": {},
   "outputs": [],
   "source": [
    "Xtr = X[X.MonthOfYear>=10]\n",
    "Xte = X[X.MonthOfYear<10]\n",
    "Ytr = Y[X.MonthOfYear>=10]\n",
    "Yte = Y[X.MonthOfYear<10]"
   ]
  },
  {
   "cell_type": "code",
   "execution_count": 74,
   "metadata": {},
   "outputs": [
    {
     "name": "stdout",
     "output_type": "stream",
     "text": [
      "Fitting 8 folds for each of 800 candidates, totalling 6400 fits\n"
     ]
    },
    {
     "name": "stderr",
     "output_type": "stream",
     "text": [
      "[Parallel(n_jobs=56)]: Using backend LokyBackend with 56 concurrent workers.\n",
      "[Parallel(n_jobs=56)]: Done  88 tasks      | elapsed:    0.3s\n",
      "[Parallel(n_jobs=56)]: Done 1468 tasks      | elapsed:    1.7s\n",
      "[Parallel(n_jobs=56)]: Done 3568 tasks      | elapsed:    3.4s\n"
     ]
    },
    {
     "name": "stdout",
     "output_type": "stream",
     "text": [
      "{'subsample': 0.7629562956295629, 'n_estimators': 99, 'min_child_weight': 7, 'max_depth': 8, 'learning_rate': 0.004349532952816293, 'colsample_bytree': 0.3226677367736774}\n"
     ]
    },
    {
     "name": "stderr",
     "output_type": "stream",
     "text": [
      "[Parallel(n_jobs=56)]: Done 6400 out of 6400 | elapsed:    5.5s finished\n",
      "/home/agrigore/anaconda3/lib/python3.7/site-packages/sklearn/model_selection/_search.py:814: DeprecationWarning: The default of the `iid` parameter will change from True to False in version 0.22 and will be removed in 0.24. This will change numeric results when test-set sizes are unequal.\n",
      "  DeprecationWarning)\n"
     ]
    }
   ],
   "source": [
    "import tqdm\n",
    "import multiprocessing\n",
    "\n",
    "REG = {'name':'XGB','instance':XGBRegressor,'param':{\n",
    "            'learning_rate' : np.log(np.linspace(1.0001,1.3,10000)), \n",
    "            'n_estimators' : range(20,400,1),\n",
    "            'max_depth':range(2,15,1), ##MAR: start at 3 \n",
    "            'subsample':np.linspace(0.3, 1.0 ,10000),'colsample_bytree': np.linspace(0.0001,0.9999,10000),\n",
    "            'min_child_weight':np.arange(2,31)\n",
    "        }}\n",
    "\n",
    "search = RandomizedSearchCV(estimator = REG['instance'](),\n",
    "                   param_distributions=REG['param'],\n",
    "                   n_iter=800,\n",
    "                   scoring=make_scorer(mape, greater_is_better=False),\n",
    "                   n_jobs=multiprocessing.cpu_count(), ## MAR: used to be 1\n",
    "                   cv = 8,\n",
    "                   verbose = 1\n",
    "                       )\n",
    "search.fit(Xtr, Ytr)\n",
    "print(search.best_params_)"
   ]
  },
  {
   "cell_type": "code",
   "execution_count": 75,
   "metadata": {},
   "outputs": [],
   "source": [
    "reg = REG['instance'](**search.best_params_)\n",
    "    \n",
    "reg.fit(Xtr, Ytr)\n",
    "pred = np.array(reg.predict(Xte)).ravel()\n",
    "pred=pred"
   ]
  },
  {
   "cell_type": "code",
   "execution_count": 76,
   "metadata": {},
   "outputs": [
    {
     "data": {
      "image/png": "[encoded data removed]",
      "text/plain": [
       "<Figure size 432x288 with 1 Axes>"
      ]
     },
     "metadata": {
      "needs_background": "light"
     },
     "output_type": "display_data"
    }
   ],
   "source": [
    "plt.hist(Yte-pred,bins=150)\n",
    "plt.ylabel('Number of cases [n]')\n",
    "plt.xlabel('Difference between real and predicted duration [min]')\n",
    "plt.title('Arterial roads. Residuals (XGBoost, test set is the last 2 months of the year)')\n",
    "plt.savefig('aresid.eps',format='eps')"
   ]
  },
  {
   "cell_type": "code",
   "execution_count": null,
   "metadata": {},
   "outputs": [],
   "source": []
  },
  {
   "cell_type": "markdown",
   "metadata": {},
   "source": [
    "# San-Francisco"
   ]
  },
  {
   "cell_type": "code",
   "execution_count": 117,
   "metadata": {},
   "outputs": [],
   "source": [
    "X,Y = getBFS(part=[0,60],dataset='sf')\n",
    "Y=np.log1p(Y)"
   ]
  },
  {
   "cell_type": "code",
   "execution_count": 118,
   "metadata": {},
   "outputs": [],
   "source": [
    "cnd = X.monthidx >= (X.monthidx.max()-10)\n",
    "\n",
    "Xtr = X[cnd]\n",
    "Xte = X[~cnd]\n",
    "Ytr = Y[cnd]\n",
    "Yte = Y[~cnd]"
   ]
  },
  {
   "cell_type": "code",
   "execution_count": 119,
   "metadata": {},
   "outputs": [
    {
     "name": "stdout",
     "output_type": "stream",
     "text": [
      "Fitting 10 folds for each of 400 candidates, totalling 4000 fits\n"
     ]
    },
    {
     "name": "stderr",
     "output_type": "stream",
     "text": [
      "[Parallel(n_jobs=56)]: Using backend LokyBackend with 56 concurrent workers.\n",
      "[Parallel(n_jobs=56)]: Done  88 tasks      | elapsed:    0.5s\n",
      "[Parallel(n_jobs=56)]: Done 564 tasks      | elapsed:    2.7s\n",
      "[Parallel(n_jobs=56)]: Done 1264 tasks      | elapsed:    5.3s\n",
      "[Parallel(n_jobs=56)]: Done 2164 tasks      | elapsed:    9.0s\n",
      "[Parallel(n_jobs=56)]: Done 3264 tasks      | elapsed:   13.3s\n"
     ]
    },
    {
     "name": "stdout",
     "output_type": "stream",
     "text": [
      "{'subsample': 0.7507750775077507, 'n_estimators': 47, 'min_child_weight': 22, 'max_depth': 7, 'learning_rate': 0.15514397277202366, 'colsample_bytree': 0.9199080008000801}\n"
     ]
    },
    {
     "name": "stderr",
     "output_type": "stream",
     "text": [
      "[Parallel(n_jobs=56)]: Done 4000 out of 4000 | elapsed:   16.6s finished\n",
      "/home/agrigore/anaconda3/lib/python3.7/site-packages/sklearn/model_selection/_search.py:814: DeprecationWarning: The default of the `iid` parameter will change from True to False in version 0.22 and will be removed in 0.24. This will change numeric results when test-set sizes are unequal.\n",
      "  DeprecationWarning)\n"
     ]
    }
   ],
   "source": [
    "import tqdm\n",
    "import multiprocessing\n",
    "\n",
    "REG = {'name':'XGB','instance':XGBRegressor,'param':{\n",
    "            'learning_rate' : np.log(np.linspace(1.00001,1.3,100000)), \n",
    "            'n_estimators' : range(20,400,1),\n",
    "            'max_depth':range(2,15,1), ##MAR: start at 3 \n",
    "            'subsample':np.linspace(0.3, 1.0 ,10000),'colsample_bytree': np.linspace(0.0001,0.9999,10000),\n",
    "            'min_child_weight':np.arange(2,31)\n",
    "        }}\n",
    "\n",
    "search = RandomizedSearchCV(estimator = REG['instance'](),\n",
    "                   param_distributions=REG['param'],\n",
    "                   n_iter=400,\n",
    "                   scoring=make_scorer(mape, greater_is_better=False),\n",
    "                   n_jobs=multiprocessing.cpu_count(), ## MAR: used to be 1\n",
    "                   cv = 10,\n",
    "                   verbose = 1\n",
    "                       )\n",
    "search.fit(Xtr, Ytr)\n",
    "print(search.best_params_)"
   ]
  },
  {
   "cell_type": "code",
   "execution_count": 120,
   "metadata": {},
   "outputs": [],
   "source": [
    "reg = REG['instance'](**search.best_params_)\n",
    "    \n",
    "reg.fit(Xtr, Ytr)\n",
    "pred = np.array(reg.predict(Xte)).ravel()\n",
    "pred=np.expm1(pred)"
   ]
  },
  {
   "cell_type": "code",
   "execution_count": 121,
   "metadata": {},
   "outputs": [
    {
     "data": {
      "image/png": "[encoded data removed]",
      "text/plain": [
       "<Figure size 432x288 with 1 Axes>"
      ]
     },
     "metadata": {
      "needs_background": "light"
     },
     "output_type": "display_data"
    }
   ],
   "source": [
    "plt.hist(Yte-pred,bins=150)\n",
    "plt.ylabel('Number of cases [n]')\n",
    "plt.xlabel('Difference between real and predicted duration [min]')\n",
    "plt.title('Arterial roads. Residuals (XGBoost, test set is the last 2 months of the year)')\n",
    "plt.savefig('sfresid.eps',format='eps')"
   ]
  },
  {
   "cell_type": "code",
   "execution_count": null,
   "metadata": {},
   "outputs": [],
   "source": []
  },
  {
   "cell_type": "code",
   "execution_count": 137,
   "metadata": {},
   "outputs": [],
   "source": [
    "X,Y = getBFS(part=[0,60],dataset='m')\n",
    "Y=np.log1p(Y)"
   ]
  },
  {
   "cell_type": "code",
   "execution_count": 138,
   "metadata": {},
   "outputs": [],
   "source": [
    "cnd = X.Month >= (X.Month.max()-10)\n",
    "\n",
    "Xtr = X[cnd]\n",
    "Xte = X[~cnd]\n",
    "Ytr = Y[cnd]\n",
    "Yte = Y[~cnd]"
   ]
  },
  {
   "cell_type": "code",
   "execution_count": 139,
   "metadata": {},
   "outputs": [
    {
     "name": "stdout",
     "output_type": "stream",
     "text": [
      "Fitting 10 folds for each of 400 candidates, totalling 4000 fits\n"
     ]
    },
    {
     "name": "stderr",
     "output_type": "stream",
     "text": [
      "[Parallel(n_jobs=56)]: Using backend LokyBackend with 56 concurrent workers.\n",
      "[Parallel(n_jobs=56)]: Done  88 tasks      | elapsed:    1.3s\n",
      "[Parallel(n_jobs=56)]: Done 338 tasks      | elapsed:    4.4s\n",
      "[Parallel(n_jobs=56)]: Done 688 tasks      | elapsed:    8.9s\n",
      "[Parallel(n_jobs=56)]: Done 1138 tasks      | elapsed:   14.3s\n",
      "[Parallel(n_jobs=56)]: Done 1688 tasks      | elapsed:   21.0s\n",
      "[Parallel(n_jobs=56)]: Done 2338 tasks      | elapsed:   31.9s\n",
      "[Parallel(n_jobs=56)]: Done 3088 tasks      | elapsed:   42.1s\n"
     ]
    },
    {
     "name": "stdout",
     "output_type": "stream",
     "text": [
      "{'subsample': 0.78997899789979, 'n_estimators': 95, 'min_child_weight': 23, 'max_depth': 10, 'learning_rate': 0.019289305142881855, 'colsample_bytree': 0.011798829882988299}\n"
     ]
    },
    {
     "name": "stderr",
     "output_type": "stream",
     "text": [
      "[Parallel(n_jobs=56)]: Done 4000 out of 4000 | elapsed:   55.1s finished\n"
     ]
    }
   ],
   "source": [
    "import tqdm\n",
    "import multiprocessing\n",
    "\n",
    "REG = {'name':'XGB','instance':XGBRegressor,'param':{\n",
    "            'learning_rate' : np.log(np.linspace(1.00001,1.3,100000)), \n",
    "            'n_estimators' : range(50,400,1),\n",
    "            'max_depth':range(2,15,1), ##MAR: start at 3 \n",
    "            'subsample':np.linspace(0.3, 1.0 ,10000),'colsample_bytree': np.linspace(0.0001,0.9999,10000),\n",
    "            'min_child_weight':np.arange(2,31)\n",
    "        }}\n",
    "\n",
    "search = RandomizedSearchCV(estimator = REG['instance'](),\n",
    "                   param_distributions=REG['param'],\n",
    "                   n_iter=400,\n",
    "                   scoring=make_scorer(mape, greater_is_better=False),\n",
    "                   n_jobs=multiprocessing.cpu_count(), ## MAR: used to be 1\n",
    "                   cv = 10,\n",
    "                   verbose = 1\n",
    "                       )\n",
    "search.fit(Xtr, Ytr)\n",
    "print(search.best_params_)"
   ]
  },
  {
   "cell_type": "code",
   "execution_count": 142,
   "metadata": {},
   "outputs": [],
   "source": [
    "reg = REG['instance'](**search.best_params_)\n",
    "    \n",
    "reg.fit(Xtr, Ytr)\n",
    "pred = np.array(reg.predict(Xte)).ravel()\n",
    "pred=np.expm1(pred)"
   ]
  },
  {
   "cell_type": "code",
   "execution_count": 145,
   "metadata": {},
   "outputs": [
    {
     "data": {
      "image/png": "[encoded data removed]",
      "text/plain": [
       "<Figure size 432x288 with 1 Axes>"
      ]
     },
     "metadata": {
      "needs_background": "light"
     },
     "output_type": "display_data"
    }
   ],
   "source": [
    "plt.hist(Yte-pred,bins=150)\n",
    "plt.ylabel('Number of cases [n]')\n",
    "plt.xlabel('Difference between real and predicted duration [min]')\n",
    "plt.title('Arterial roads. Residuals (XGBoost, test set is the last 2 months of the year)')\n",
    "plt.savefig('mresid.eps',format='eps')"
   ]
  },
  {
   "cell_type": "code",
   "execution_count": null,
   "metadata": {},
   "outputs": [],
   "source": []
  },
  {
   "cell_type": "code",
   "execution_count": null,
   "metadata": {},
   "outputs": [],
   "source": []
  }
 ],
 "metadata": {
  "kernelspec": {
   "display_name": "Python 3",
   "language": "python",
   "name": "python3"
  },
  "language_info": {
   "codemirror_mode": {
    "name": "ipython",
    "version": 3
   },
   "file_extension": ".py",
   "mimetype": "text/x-python",
   "name": "python",
   "nbconvert_exporter": "python",
   "pygments_lexer": "ipython3",
   "version": "3.7.7"
  }
 },
 "nbformat": 4,
 "nbformat_minor": 2
}
